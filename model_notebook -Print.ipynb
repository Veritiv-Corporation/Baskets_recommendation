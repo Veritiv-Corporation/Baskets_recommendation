{
 "cells": [
  {
   "cell_type": "code",
   "execution_count": 65,
   "metadata": {},
   "outputs": [],
   "source": [
    "import pandas as pd\n",
    "from data_retrieval import connect_db, fetch_trx_data, fetch_cat_data, fetch_cat1_data, fetch_item_descriptions, fetch_private_label_data, fetch_sustainability_data\n",
    "from data_processing import multi_aggregate_data, apply_custom_calculations\n",
    "from data_analysis import create_baskets, create_baskets_365, create_baskets_365_qty, flatten_baskets\n",
    "from modelling import create_cooccurrence_matrix_with_recommendations, create_pair_frequency_matrix,add_freq\n",
    "from modeling_2 import replace_low_values,get_top_5_cat3_items, get_top_5_cat1_items, create_cat3_to_top_item_map, replace_recommendations\n",
    "from modeling_3 import filter_mfg_name, replace_item_cde_with_cat3_set,map_and_add_recommendations, map_and_add_recommendations_cat1, transform_recommendations, filter_print_segment, reorder_recommendations, add_descriptions\n",
    "from modeling_4 import remove_duplicate_and_self_references, shift_recommendations_left, copy_rows_with_0_to_2_recommendation, copy_rows_with_0_or_1_recommendation, add_recommendations2, minimum_three_recommendations, are_values_unique, remove_empty_related_items"
   ]
  },
  {
   "cell_type": "code",
   "execution_count": 66,
   "metadata": {},
   "outputs": [],
   "source": [
    "# Sittun's code review edit suggestions\n",
    "\n",
    "#import modelling as m1\n",
    "#import modeling_2 as m2"
   ]
  },
  {
   "cell_type": "code",
   "execution_count": 67,
   "metadata": {},
   "outputs": [],
   "source": [
    "#m2.replace_low_values()"
   ]
  },
  {
   "cell_type": "code",
   "execution_count": 68,
   "metadata": {},
   "outputs": [],
   "source": [
    "import warnings\n",
    "\n",
    "# Suppress all warnings\n",
    "warnings.filterwarnings('ignore')"
   ]
  },
  {
   "cell_type": "code",
   "execution_count": 69,
   "metadata": {},
   "outputs": [
    {
     "name": "stdout",
     "output_type": "stream",
     "text": [
      ">> Loaded 4284 e-commerce items with their item_cde\n"
     ]
    }
   ],
   "source": [
    "# Load items \n",
    "df = pd.read_excel('data/AB_Scope_latest.xlsx', usecols=['Item Number'])\n",
    "print(f\">> Loaded {len(df)} e-commerce items with their item_cde\")"
   ]
  },
  {
   "cell_type": "code",
   "execution_count": 70,
   "metadata": {},
   "outputs": [
    {
     "data": {
      "text/html": [
       "<div>\n",
       "<style scoped>\n",
       "    .dataframe tbody tr th:only-of-type {\n",
       "        vertical-align: middle;\n",
       "    }\n",
       "\n",
       "    .dataframe tbody tr th {\n",
       "        vertical-align: top;\n",
       "    }\n",
       "\n",
       "    .dataframe thead th {\n",
       "        text-align: right;\n",
       "    }\n",
       "</style>\n",
       "<table border=\"1\" class=\"dataframe\">\n",
       "  <thead>\n",
       "    <tr style=\"text-align: right;\">\n",
       "      <th></th>\n",
       "      <th>Item Number</th>\n",
       "    </tr>\n",
       "  </thead>\n",
       "  <tbody>\n",
       "    <tr>\n",
       "      <th>0</th>\n",
       "      <td>10735678</td>\n",
       "    </tr>\n",
       "    <tr>\n",
       "      <th>1</th>\n",
       "      <td>10755108</td>\n",
       "    </tr>\n",
       "    <tr>\n",
       "      <th>2</th>\n",
       "      <td>10735704</td>\n",
       "    </tr>\n",
       "    <tr>\n",
       "      <th>3</th>\n",
       "      <td>10735679</td>\n",
       "    </tr>\n",
       "    <tr>\n",
       "      <th>4</th>\n",
       "      <td>10735697</td>\n",
       "    </tr>\n",
       "    <tr>\n",
       "      <th>...</th>\n",
       "      <td>...</td>\n",
       "    </tr>\n",
       "    <tr>\n",
       "      <th>4279</th>\n",
       "      <td>20087303</td>\n",
       "    </tr>\n",
       "    <tr>\n",
       "      <th>4280</th>\n",
       "      <td>20087304</td>\n",
       "    </tr>\n",
       "    <tr>\n",
       "      <th>4281</th>\n",
       "      <td>20087154</td>\n",
       "    </tr>\n",
       "    <tr>\n",
       "      <th>4282</th>\n",
       "      <td>20088556</td>\n",
       "    </tr>\n",
       "    <tr>\n",
       "      <th>4283</th>\n",
       "      <td>20088560</td>\n",
       "    </tr>\n",
       "  </tbody>\n",
       "</table>\n",
       "<p>4284 rows × 1 columns</p>\n",
       "</div>"
      ],
      "text/plain": [
       "      Item Number\n",
       "0        10735678\n",
       "1        10755108\n",
       "2        10735704\n",
       "3        10735679\n",
       "4        10735697\n",
       "...           ...\n",
       "4279     20087303\n",
       "4280     20087304\n",
       "4281     20087154\n",
       "4282     20088556\n",
       "4283     20088560\n",
       "\n",
       "[4284 rows x 1 columns]"
      ]
     },
     "execution_count": 70,
     "metadata": {},
     "output_type": "execute_result"
    }
   ],
   "source": [
    "df"
   ]
  },
  {
   "cell_type": "code",
   "execution_count": 71,
   "metadata": {},
   "outputs": [
    {
     "name": "stdout",
     "output_type": "stream",
     "text": [
      ">> Renamed the columns to ['item_cde']\n"
     ]
    }
   ],
   "source": [
    "# Rename the columns\n",
    "df.rename(columns={'Item Number': 'item_cde'}, \n",
    "          inplace=True)\n",
    "print(f\">> Renamed the columns to {df.columns.tolist()}\")"
   ]
  },
  {
   "cell_type": "code",
   "execution_count": 72,
   "metadata": {},
   "outputs": [
    {
     "name": "stdout",
     "output_type": "stream",
     "text": [
      ">> Connected to database\n"
     ]
    }
   ],
   "source": [
    "# connecting to db\n",
    "conn = connect_db()\n",
    "print(\">> Connected to database\")"
   ]
  },
  {
   "cell_type": "code",
   "execution_count": 73,
   "metadata": {},
   "outputs": [
    {
     "name": "stdout",
     "output_type": "stream",
     "text": [
      ">> Fetched the transaction data containing 1338033 rows\n"
     ]
    }
   ],
   "source": [
    "# getting transaction data from db\n",
    "trx_df = fetch_trx_data(conn, df)\n",
    "print(f\">> Fetched the transaction data containing {len(trx_df)} rows\")"
   ]
  },
  {
   "cell_type": "markdown",
   "metadata": {},
   "source": [
    "## If Manufacturer filteration is needed (when scope not given)"
   ]
  },
  {
   "cell_type": "code",
   "execution_count": 74,
   "metadata": {},
   "outputs": [],
   "source": [
    "#trx_df_new = trx_df[trx_df['mfg_name'].str.contains('3M', na=False)]\n"
   ]
  },
  {
   "cell_type": "code",
   "execution_count": 75,
   "metadata": {},
   "outputs": [],
   "source": [
    "# OPTIONAL: Apply if mfg filter needed\n",
    "#mfg_df=filter_mfg_name(trx_df, '')"
   ]
  },
  {
   "cell_type": "code",
   "execution_count": 76,
   "metadata": {},
   "outputs": [
    {
     "name": "stdout",
     "output_type": "stream",
     "text": [
      ">> Sixe of data for non print  data is Length: 1338033\n"
     ]
    }
   ],
   "source": [
    "#Get only the Print df entries\n",
    "trx_df_nonpr = filter_print_segment(trx_df)\n",
    "print(f\">> Sixe of data for non print  data is Length: {len(trx_df)}\")"
   ]
  },
  {
   "cell_type": "code",
   "execution_count": 77,
   "metadata": {},
   "outputs": [
    {
     "name": "stdout",
     "output_type": "stream",
     "text": [
      ">> Aggregated data at bill-to level.Length: 5174 rows\n"
     ]
    }
   ],
   "source": [
    "# aggregate data at bill-to\n",
    "aggregated_df = multi_aggregate_data(trx_df_nonpr)\n",
    "print(f\">> Aggregated data at bill-to level.Length: {len(aggregated_df)} rows\")"
   ]
  },
  {
   "cell_type": "code",
   "execution_count": 78,
   "metadata": {},
   "outputs": [
    {
     "name": "stdout",
     "output_type": "stream",
     "text": [
      ">> Calculated custom columns.Length: 5174 rows\n"
     ]
    }
   ],
   "source": [
    "# custom column calculation for avg time interval\n",
    "custom_calculated_df = apply_custom_calculations(aggregated_df)\n",
    "print(f\">> Calculated custom columns.Length: {len(custom_calculated_df)} rows\")"
   ]
  },
  {
   "cell_type": "code",
   "execution_count": 79,
   "metadata": {},
   "outputs": [
    {
     "name": "stdout",
     "output_type": "stream",
     "text": [
      ">> Made baskets with size: 5174 baskets\n"
     ]
    }
   ],
   "source": [
    "# make baskets for all possible starting date\n",
    "baskets_df_365_qty = create_baskets_365_qty(custom_calculated_df)\n",
    "print(f\">> Made baskets with size: {len(baskets_df_365_qty)} baskets\")"
   ]
  },
  {
   "cell_type": "code",
   "execution_count": 80,
   "metadata": {},
   "outputs": [
    {
     "name": "stdout",
     "output_type": "stream",
     "text": [
      ">> Flattened baskets. Length: 82733\n"
     ]
    }
   ],
   "source": [
    "# flatten the baskets\n",
    "flattened_basket_list_365 = flatten_baskets(baskets_df_365_qty)\n",
    "print(f\">> Flattened baskets. Length: {len(flattened_basket_list_365)}\")"
   ]
  },
  {
   "cell_type": "code",
   "execution_count": 81,
   "metadata": {},
   "outputs": [
    {
     "name": "stderr",
     "output_type": "stream",
     "text": [
      "100%|██████████| 82733/82733 [00:01<00:00, 41758.54it/s]\n",
      "100%|██████████| 557/557 [00:01<00:00, 402.64it/s]\n"
     ]
    },
    {
     "name": "stdout",
     "output_type": "stream",
     "text": [
      ">> Made item level recommendations for: 557 items\n"
     ]
    }
   ],
   "source": [
    "# make item level recommendations\n",
    "co_occurrence_matrix, recommendation_df = create_cooccurrence_matrix_with_recommendations(flattened_basket_list_365)\n",
    "print(f\">> Made item level recommendations for: {len(recommendation_df)} items\")"
   ]
  },
  {
   "cell_type": "code",
   "execution_count": 82,
   "metadata": {},
   "outputs": [
    {
     "name": "stdout",
     "output_type": "stream",
     "text": [
      ">> Created pair wise frequency matrix of Length: 563\n"
     ]
    }
   ],
   "source": [
    "# Get the pair frequency matrix\n",
    "pair_freq_matrix = create_pair_frequency_matrix(flattened_basket_list_365)\n",
    "print(f\">> Created pair wise frequency matrix of Length: {len(pair_freq_matrix)}\")"
   ]
  },
  {
   "cell_type": "code",
   "execution_count": 83,
   "metadata": {},
   "outputs": [
    {
     "name": "stdout",
     "output_type": "stream",
     "text": [
      ">>Added freq to the df 557\n"
     ]
    }
   ],
   "source": [
    "#add freq\n",
    "recommendation_df=add_freq(recommendation_df,pair_freq_matrix)\n",
    "print(f\">>Added freq to the df {len(recommendation_df)}\")"
   ]
  },
  {
   "cell_type": "code",
   "execution_count": 84,
   "metadata": {},
   "outputs": [
    {
     "data": {
      "text/plain": [
       "'10298253'"
      ]
     },
     "execution_count": 84,
     "metadata": {},
     "output_type": "execute_result"
    }
   ],
   "source": [
    "recommendation_df['item_cde'][0]\n"
   ]
  },
  {
   "cell_type": "code",
   "execution_count": 85,
   "metadata": {},
   "outputs": [
    {
     "name": "stdout",
     "output_type": "stream",
     "text": [
      ">>Replaced items of baskets with low thresholds: 557 rows\n"
     ]
    }
   ],
   "source": [
    "#Replace recommendations with low basket count with the top cat 3 item\n",
    "recommendation_df=replace_low_values(recommendation_df,100)\n",
    "print(f\">>Replaced items of baskets with low thresholds: {len(recommendation_df)} rows\")"
   ]
  },
  {
   "cell_type": "code",
   "execution_count": 86,
   "metadata": {},
   "outputs": [
    {
     "name": "stdout",
     "output_type": "stream",
     "text": [
      ">> Got cat3 top 5 items: 246\n"
     ]
    }
   ],
   "source": [
    "# Get the cat3 top 5 items\n",
    "top_5_items_cat3=get_top_5_cat3_items(trx_df)\n",
    "print(f\">> Got cat3 top 5 items: {len(top_5_items_cat3)}\")"
   ]
  },
  {
   "cell_type": "code",
   "execution_count": 87,
   "metadata": {},
   "outputs": [
    {
     "name": "stdout",
     "output_type": "stream",
     "text": [
      ">> Got cat1 top 5 items: 32\n"
     ]
    }
   ],
   "source": [
    "# Get the cat1 top 5 items\n",
    "top_5_items_cat1=get_top_5_cat1_items(trx_df)\n",
    "print(f\">> Got cat1 top 5 items: {len(top_5_items_cat1)}\")"
   ]
  },
  {
   "cell_type": "code",
   "execution_count": 88,
   "metadata": {},
   "outputs": [
    {
     "name": "stdout",
     "output_type": "stream",
     "text": [
      ">> Connected to database\n"
     ]
    }
   ],
   "source": [
    "conn = connect_db()\n",
    "print(\">> Connected to database\")"
   ]
  },
  {
   "cell_type": "code",
   "execution_count": 89,
   "metadata": {},
   "outputs": [
    {
     "name": "stdout",
     "output_type": "stream",
     "text": [
      "%s, %s, %s, %s, %s, %s, %s, %s, %s, %s, %s, %s, %s, %s, %s, %s, %s, %s, %s, %s, %s, %s, %s, %s, %s, %s, %s, %s, %s, %s, %s, %s, %s, %s, %s, %s, %s, %s, %s, %s, %s, %s, %s, %s, %s, %s, %s, %s, %s, %s, %s, %s, %s, %s, %s, %s, %s, %s, %s, %s, %s, %s, %s, %s, %s, %s, %s, %s, %s, %s, %s, %s, %s, %s, %s, %s, %s, %s, %s, %s, %s, %s, %s, %s, %s, %s, %s, %s, %s, %s, %s, %s, %s, %s, %s, %s, %s, %s, %s, %s, %s, %s, %s, %s, %s, %s, %s, %s, %s, %s, %s, %s, %s, %s, %s, %s, %s, %s, %s, %s, %s, %s, %s, %s, %s, %s, %s, %s, %s, %s, %s, %s, %s, %s, %s, %s, %s, %s, %s, %s, %s, %s, %s, %s, %s, %s, %s, %s, %s, %s, %s, %s, %s, %s, %s, %s, %s, %s, %s, %s, %s, %s, %s, %s, %s, %s, %s, %s, %s, %s, %s, %s, %s, %s, %s, %s, %s, %s, %s, %s, %s, %s, %s, %s, %s, %s, %s, %s, %s, %s, %s, %s, %s, %s, %s, %s, %s, %s, %s, %s, %s, %s, %s, %s, %s, %s, %s, %s, %s, %s, %s, %s, %s, %s, %s, %s, %s, %s, %s, %s, %s, %s, %s, %s, %s, %s, %s, %s, %s, %s, %s, %s, %s, %s, %s, %s, %s, %s, %s, %s, %s, %s, %s, %s, %s, %s, %s, %s, %s, %s, %s, %s, %s, %s, %s, %s, %s, %s, %s, %s, %s, %s, %s, %s, %s, %s, %s, %s, %s, %s, %s, %s, %s, %s, %s, %s, %s, %s, %s, %s, %s, %s, %s, %s, %s, %s, %s, %s, %s, %s, %s, %s, %s, %s, %s, %s, %s, %s, %s, %s, %s, %s, %s, %s, %s, %s, %s, %s, %s, %s, %s, %s, %s, %s, %s, %s, %s, %s, %s, %s, %s, %s, %s, %s, %s, %s, %s, %s, %s, %s, %s, %s, %s, %s, %s, %s, %s, %s, %s, %s, %s, %s, %s, %s, %s, %s, %s, %s, %s, %s, %s, %s, %s, %s, %s, %s, %s, %s, %s, %s, %s, %s, %s, %s, %s, %s, %s, %s, %s, %s, %s, %s, %s, %s, %s, %s, %s, %s, %s, %s, %s, %s, %s, %s, %s, %s, %s, %s, %s, %s, %s, %s, %s, %s, %s, %s, %s, %s, %s, %s, %s, %s, %s, %s, %s, %s, %s, %s, %s, %s, %s, %s, %s, %s, %s, %s, %s, %s, %s, %s, %s, %s, %s, %s, %s, %s, %s, %s, %s, %s, %s, %s, %s, %s, %s, %s, %s, %s, %s, %s, %s, %s, %s, %s, %s, %s, %s, %s, %s, %s, %s, %s, %s, %s, %s, %s, %s, %s, %s, %s, %s, %s, %s, %s, %s, %s, %s, %s, %s, %s, %s, %s, %s, %s, %s, %s, %s, %s, %s, %s, %s, %s, %s, %s, %s, %s, %s, %s, %s, %s, %s, %s, %s, %s, %s, %s, %s, %s, %s, %s, %s, %s, %s, %s, %s, %s, %s, %s, %s, %s, %s, %s, %s, %s, %s, %s, %s, %s, %s, %s, %s, %s, %s, %s, %s, %s, %s, %s, %s, %s, %s, %s, %s, %s, %s, %s, %s, %s, %s, %s, %s, %s, %s, %s, %s, %s, %s, %s, %s, %s, %s, %s, %s, %s, %s, %s, %s, %s, %s, %s, %s, %s, %s, %s, %s, %s, %s, %s, %s, %s, %s, %s, %s, %s, %s, %s, %s, %s, %s, %s, %s, %s, %s, %s, %s, %s, %s, %s, %s, %s, %s, %s, %s, %s, %s, %s, %s, %s, %s, %s, %s, %s, %s, %s, %s, %s, %s, %s, %s, %s, %s, %s, %s, %s, %s, %s, %s, %s, %s, %s, %s, %s, %s, %s, %s, %s, %s, %s, %s, %s, %s, %s, %s, %s, %s, %s, %s, %s, %s, %s, %s, %s, %s, %s, %s, %s, %s, %s, %s, %s, %s, %s, %s, %s, %s, %s, %s, %s, %s, %s, %s, %s, %s, %s, %s, %s, %s, %s, %s, %s, %s, %s, %s, %s, %s, %s, %s, %s, %s, %s, %s, %s, %s, %s, %s, %s, %s, %s, %s, %s, %s, %s, %s, %s, %s, %s, %s, %s, %s, %s, %s, %s, %s, %s, %s, %s, %s, %s, %s, %s, %s, %s, %s, %s, %s, %s, %s, %s, %s, %s, %s, %s, %s, %s, %s, %s, %s, %s, %s, %s, %s, %s, %s, %s, %s, %s, %s, %s, %s, %s, %s, %s, %s, %s, %s, %s, %s, %s, %s, %s, %s, %s, %s, %s, %s, %s, %s, %s, %s, %s, %s, %s, %s, %s, %s, %s, %s, %s, %s, %s, %s, %s, %s, %s, %s, %s, %s, %s, %s, %s, %s, %s, %s, %s, %s, %s, %s, %s, %s, %s, %s, %s, %s, %s, %s, %s, %s, %s, %s, %s, %s, %s, %s, %s, %s, %s, %s, %s, %s, %s, %s, %s, %s, %s, %s, %s, %s, %s, %s, %s, %s, %s, %s, %s, %s, %s, %s, %s, %s, %s, %s, %s, %s, %s, %s, %s, %s, %s, %s, %s, %s, %s, %s, %s, %s, %s, %s, %s, %s, %s, %s, %s, %s, %s, %s, %s, %s, %s, %s, %s, %s, %s, %s, %s, %s, %s, %s, %s, %s, %s, %s, %s, %s, %s, %s, %s, %s, %s, %s, %s, %s, %s, %s, %s, %s, %s, %s, %s, %s, %s, %s, %s, %s, %s, %s, %s, %s, %s, %s, %s, %s, %s, %s, %s, %s, %s, %s, %s, %s, %s, %s, %s, %s, %s, %s, %s, %s, %s, %s, %s, %s, %s, %s, %s, %s, %s, %s, %s, %s, %s, %s, %s, %s, %s, %s, %s, %s, %s, %s, %s, %s, %s, %s, %s, %s, %s, %s, %s, %s, %s, %s, %s, %s, %s, %s, %s, %s, %s, %s, %s, %s, %s, %s, %s, %s, %s, %s, %s, %s, %s, %s, %s, %s, %s, %s, %s, %s, %s, %s, %s, %s, %s, %s, %s, %s, %s, %s, %s, %s, %s, %s, %s, %s, %s, %s, %s, %s, %s, %s, %s, %s, %s, %s, %s, %s, %s, %s, %s, %s, %s, %s, %s, %s, %s, %s, %s, %s, %s, %s, %s, %s, %s, %s, %s, %s, %s, %s, %s, %s, %s, %s, %s, %s, %s, %s, %s, %s, %s, %s, %s, %s, %s, %s, %s, %s, %s, %s, %s, %s, %s, %s, %s, %s, %s, %s, %s, %s, %s, %s, %s, %s, %s, %s, %s, %s, %s, %s, %s, %s, %s, %s, %s, %s, %s, %s, %s, %s, %s, %s, %s, %s, %s, %s, %s, %s, %s, %s, %s, %s, %s, %s, %s, %s, %s, %s, %s, %s, %s, %s, %s, %s, %s, %s, %s, %s, %s, %s, %s, %s, %s, %s, %s, %s, %s, %s, %s, %s, %s, %s, %s, %s, %s, %s, %s, %s, %s, %s, %s, %s, %s, %s, %s, %s, %s, %s, %s, %s, %s, %s, %s, %s, %s, %s, %s, %s, %s, %s, %s, %s, %s, %s, %s, %s, %s, %s, %s, %s, %s, %s, %s, %s, %s, %s, %s, %s, %s, %s, %s, %s, %s, %s, %s, %s, %s, %s, %s, %s, %s, %s, %s, %s, %s, %s, %s, %s, %s, %s, %s, %s, %s, %s, %s, %s, %s, %s, %s, %s, %s, %s, %s, %s, %s, %s, %s, %s, %s, %s, %s, %s, %s, %s, %s, %s, %s, %s, %s, %s, %s, %s, %s, %s, %s, %s, %s, %s, %s, %s, %s, %s, %s, %s, %s, %s, %s, %s, %s, %s, %s, %s, %s, %s, %s, %s, %s, %s, %s, %s, %s, %s, %s, %s, %s, %s, %s, %s, %s, %s, %s, %s, %s, %s, %s, %s, %s, %s, %s, %s, %s, %s, %s, %s, %s, %s, %s, %s, %s, %s, %s, %s, %s, %s, %s, %s, %s, %s, %s, %s, %s, %s, %s, %s, %s, %s, %s, %s, %s, %s, %s, %s, %s, %s, %s, %s, %s, %s, %s, %s, %s, %s, %s, %s, %s, %s, %s, %s, %s, %s, %s, %s, %s, %s, %s, %s, %s, %s, %s, %s, %s, %s, %s, %s, %s, %s, %s, %s, %s, %s, %s, %s, %s, %s, %s, %s, %s, %s, %s, %s, %s, %s, %s, %s, %s, %s, %s, %s, %s, %s, %s, %s, %s, %s, %s, %s, %s, %s, %s, %s, %s, %s, %s, %s, %s, %s, %s, %s, %s, %s, %s, %s, %s, %s, %s, %s, %s, %s, %s, %s, %s, %s, %s, %s, %s, %s, %s, %s, %s, %s, %s, %s, %s, %s, %s, %s, %s, %s, %s, %s, %s, %s, %s, %s, %s, %s, %s, %s, %s, %s, %s, %s, %s, %s, %s, %s, %s, %s, %s, %s, %s, %s, %s, %s, %s, %s, %s, %s, %s, %s, %s, %s, %s, %s, %s, %s, %s, %s, %s, %s, %s, %s, %s, %s, %s, %s, %s, %s, %s, %s, %s, %s, %s, %s, %s, %s, %s, %s, %s, %s, %s, %s, %s, %s, %s, %s, %s, %s, %s, %s, %s, %s, %s, %s, %s, %s, %s, %s, %s, %s, %s, %s, %s, %s, %s, %s, %s, %s, %s, %s, %s, %s, %s, %s, %s, %s, %s, %s, %s, %s, %s, %s, %s, %s, %s, %s, %s, %s, %s, %s, %s, %s, %s, %s, %s, %s, %s, %s, %s, %s, %s, %s, %s, %s, %s, %s, %s, %s, %s, %s, %s, %s, %s, %s, %s, %s, %s, %s, %s, %s, %s, %s, %s, %s, %s, %s, %s, %s, %s, %s, %s, %s, %s, %s, %s, %s, %s, %s, %s, %s, %s, %s, %s, %s, %s, %s, %s, %s, %s, %s, %s, %s, %s, %s, %s, %s, %s, %s, %s, %s, %s, %s, %s, %s, %s, %s, %s, %s, %s, %s, %s, %s, %s, %s, %s, %s, %s, %s, %s, %s, %s, %s, %s, %s, %s, %s, %s, %s, %s, %s, %s, %s, %s, %s, %s, %s, %s, %s, %s, %s, %s, %s, %s, %s, %s, %s, %s, %s, %s, %s, %s, %s, %s, %s, %s, %s, %s, %s, %s, %s, %s, %s, %s, %s, %s, %s, %s, %s, %s, %s, %s, %s, %s, %s, %s, %s, %s, %s, %s, %s, %s, %s, %s, %s, %s, %s, %s, %s, %s, %s, %s, %s, %s, %s, %s, %s, %s, %s, %s, %s, %s, %s, %s, %s, %s, %s, %s, %s, %s, %s, %s, %s, %s, %s, %s, %s, %s, %s, %s, %s, %s, %s, %s, %s, %s, %s, %s, %s, %s, %s, %s, %s, %s, %s, %s, %s, %s, %s, %s, %s, %s, %s, %s, %s, %s, %s, %s, %s, %s, %s, %s, %s, %s, %s, %s, %s, %s, %s, %s, %s, %s, %s, %s, %s, %s, %s, %s, %s, %s, %s, %s, %s, %s, %s, %s, %s, %s, %s, %s, %s, %s, %s, %s, %s, %s, %s, %s, %s, %s, %s, %s, %s, %s, %s, %s, %s, %s, %s, %s, %s, %s, %s, %s, %s, %s, %s, %s, %s, %s, %s, %s, %s, %s, %s, %s, %s, %s, %s, %s, %s, %s, %s, %s, %s, %s, %s, %s, %s, %s, %s, %s, %s, %s, %s, %s, %s, %s, %s, %s, %s, %s, %s, %s, %s, %s, %s, %s, %s, %s, %s, %s, %s, %s, %s, %s, %s, %s, %s, %s, %s, %s, %s, %s, %s, %s, %s, %s, %s, %s, %s, %s, %s, %s, %s, %s, %s, %s, %s, %s, %s, %s, %s, %s, %s, %s, %s, %s, %s, %s, %s, %s, %s, %s, %s, %s, %s, %s, %s, %s, %s, %s, %s, %s, %s, %s, %s, %s, %s, %s, %s, %s, %s, %s, %s, %s, %s, %s, %s, %s, %s, %s, %s, %s, %s, %s, %s, %s, %s, %s, %s, %s, %s, %s, %s, %s, %s, %s, %s, %s, %s, %s, %s, %s, %s, %s, %s, %s, %s, %s, %s, %s, %s, %s, %s, %s, %s, %s, %s, %s, %s, %s, %s, %s, %s, %s, %s, %s, %s, %s, %s, %s, %s, %s, %s, %s, %s, %s, %s, %s, %s, %s, %s, %s, %s, %s, %s, %s, %s, %s, %s, %s, %s, %s, %s, %s, %s, %s, %s, %s, %s, %s, %s, %s, %s, %s, %s, %s, %s, %s, %s, %s, %s, %s, %s, %s, %s, %s, %s, %s, %s, %s, %s, %s, %s, %s, %s, %s, %s, %s, %s, %s, %s, %s, %s, %s, %s, %s, %s, %s, %s, %s, %s, %s, %s, %s, %s, %s, %s, %s, %s, %s, %s, %s, %s, %s, %s, %s, %s, %s, %s, %s, %s, %s, %s, %s, %s, %s, %s, %s, %s, %s, %s, %s, %s, %s, %s, %s, %s, %s, %s, %s, %s, %s, %s, %s, %s, %s, %s, %s, %s, %s, %s, %s, %s, %s, %s, %s, %s, %s, %s, %s, %s, %s, %s, %s, %s, %s, %s, %s, %s, %s, %s, %s, %s, %s, %s, %s, %s, %s, %s, %s, %s, %s, %s, %s, %s, %s, %s, %s, %s, %s, %s, %s, %s, %s, %s, %s, %s, %s, %s, %s, %s, %s, %s, %s, %s, %s, %s, %s, %s, %s, %s, %s, %s, %s, %s, %s, %s, %s, %s, %s, %s, %s, %s, %s, %s, %s, %s, %s, %s, %s, %s, %s, %s, %s, %s, %s, %s, %s, %s, %s, %s, %s, %s, %s, %s, %s, %s, %s, %s, %s, %s, %s, %s, %s, %s, %s, %s, %s, %s, %s, %s, %s, %s, %s, %s, %s, %s, %s, %s, %s, %s, %s, %s, %s, %s, %s, %s, %s, %s, %s, %s, %s, %s, %s, %s, %s, %s, %s, %s, %s, %s, %s, %s, %s, %s, %s, %s, %s, %s, %s, %s, %s, %s, %s, %s, %s, %s, %s, %s, %s, %s, %s, %s, %s, %s, %s, %s, %s, %s, %s, %s, %s, %s, %s, %s, %s, %s, %s, %s, %s, %s, %s, %s, %s, %s, %s, %s, %s, %s, %s, %s, %s, %s, %s, %s, %s, %s, %s, %s, %s, %s, %s, %s, %s, %s, %s, %s, %s, %s, %s, %s, %s, %s, %s, %s, %s, %s, %s, %s, %s, %s, %s, %s, %s, %s, %s, %s, %s, %s, %s, %s, %s, %s, %s, %s, %s, %s, %s, %s, %s, %s, %s, %s, %s, %s, %s, %s, %s, %s, %s, %s, %s, %s, %s, %s, %s, %s, %s, %s, %s, %s, %s, %s, %s, %s, %s, %s, %s, %s, %s, %s, %s, %s, %s, %s, %s, %s, %s, %s, %s, %s, %s, %s, %s, %s, %s, %s, %s, %s, %s, %s, %s, %s, %s, %s, %s, %s, %s, %s, %s, %s, %s, %s, %s, %s, %s, %s, %s, %s, %s, %s, %s, %s, %s, %s, %s, %s, %s, %s, %s, %s, %s, %s, %s, %s, %s, %s, %s, %s, %s, %s, %s, %s, %s, %s, %s, %s, %s, %s, %s, %s, %s, %s, %s, %s, %s, %s, %s, %s, %s, %s, %s, %s, %s, %s, %s, %s, %s, %s, %s, %s, %s, %s, %s, %s, %s, %s, %s, %s, %s, %s, %s, %s, %s, %s, %s, %s, %s, %s, %s, %s, %s, %s, %s, %s, %s, %s, %s, %s, %s, %s, %s, %s, %s, %s, %s, %s, %s, %s, %s, %s, %s, %s, %s, %s, %s, %s, %s, %s, %s, %s, %s, %s, %s, %s, %s, %s, %s, %s, %s, %s, %s, %s, %s, %s, %s, %s, %s, %s, %s, %s, %s, %s, %s, %s, %s, %s, %s, %s, %s, %s, %s, %s, %s, %s, %s, %s, %s, %s, %s, %s, %s, %s, %s, %s, %s, %s, %s, %s, %s, %s, %s, %s, %s, %s, %s, %s, %s, %s, %s, %s, %s, %s, %s, %s, %s, %s, %s, %s, %s, %s, %s, %s, %s, %s, %s, %s, %s, %s, %s, %s, %s, %s, %s, %s, %s, %s, %s, %s, %s, %s, %s, %s, %s, %s, %s, %s, %s, %s, %s, %s, %s, %s, %s, %s, %s, %s, %s, %s, %s, %s, %s, %s, %s, %s, %s, %s, %s, %s, %s, %s, %s, %s, %s, %s, %s, %s, %s, %s, %s, %s, %s, %s, %s, %s, %s, %s, %s, %s, %s, %s, %s, %s, %s, %s, %s, %s, %s, %s, %s, %s, %s, %s, %s, %s, %s, %s, %s, %s, %s, %s, %s, %s, %s, %s, %s, %s, %s, %s, %s, %s, %s, %s, %s, %s, %s, %s, %s, %s, %s, %s, %s, %s, %s, %s, %s, %s, %s, %s, %s, %s, %s, %s, %s, %s, %s, %s, %s, %s, %s, %s, %s, %s, %s, %s, %s, %s, %s, %s, %s, %s, %s, %s, %s, %s, %s, %s, %s, %s, %s, %s, %s, %s, %s, %s, %s, %s, %s, %s, %s, %s, %s, %s, %s, %s, %s, %s, %s, %s, %s, %s, %s, %s, %s, %s, %s, %s, %s, %s, %s, %s, %s, %s, %s, %s, %s, %s, %s, %s, %s, %s, %s, %s, %s, %s, %s, %s, %s, %s, %s, %s, %s, %s, %s, %s, %s, %s, %s, %s, %s, %s, %s, %s, %s, %s, %s, %s, %s, %s, %s, %s, %s, %s, %s, %s, %s, %s, %s, %s, %s, %s, %s, %s, %s, %s, %s, %s, %s, %s, %s, %s, %s, %s, %s, %s, %s, %s, %s, %s, %s, %s, %s, %s, %s, %s, %s, %s, %s, %s, %s, %s, %s, %s, %s, %s, %s, %s, %s, %s, %s, %s, %s, %s, %s, %s, %s, %s, %s, %s, %s, %s, %s, %s, %s, %s, %s, %s, %s, %s, %s, %s, %s, %s, %s, %s, %s, %s, %s, %s, %s, %s, %s, %s, %s, %s, %s, %s, %s, %s, %s, %s, %s, %s, %s, %s, %s, %s, %s, %s, %s, %s, %s, %s, %s, %s, %s, %s, %s, %s, %s, %s, %s, %s, %s, %s, %s, %s, %s, %s, %s, %s, %s, %s, %s, %s, %s, %s, %s, %s, %s, %s, %s, %s, %s, %s, %s, %s, %s, %s, %s, %s, %s, %s, %s, %s, %s, %s, %s, %s, %s, %s, %s, %s, %s, %s, %s, %s, %s, %s, %s, %s, %s, %s, %s, %s, %s, %s, %s, %s, %s, %s, %s, %s, %s, %s, %s, %s, %s, %s, %s, %s, %s, %s, %s, %s, %s, %s, %s, %s, %s, %s, %s, %s, %s, %s, %s, %s, %s, %s, %s, %s, %s, %s, %s, %s, %s, %s, %s, %s, %s, %s, %s, %s, %s, %s, %s, %s, %s, %s, %s, %s, %s, %s, %s, %s, %s, %s, %s, %s, %s, %s, %s, %s, %s, %s, %s, %s, %s, %s, %s, %s, %s, %s, %s, %s, %s, %s, %s, %s, %s, %s, %s, %s, %s, %s, %s, %s, %s, %s, %s, %s, %s, %s, %s, %s, %s, %s, %s, %s, %s, %s, %s, %s, %s, %s, %s, %s, %s, %s, %s, %s, %s, %s, %s, %s, %s, %s, %s, %s, %s, %s, %s, %s, %s, %s, %s, %s, %s, %s, %s, %s, %s, %s, %s, %s, %s, %s, %s, %s, %s, %s, %s, %s, %s, %s, %s, %s, %s, %s, %s, %s, %s, %s, %s, %s, %s, %s, %s, %s, %s, %s, %s, %s, %s, %s, %s, %s, %s, %s, %s, %s, %s, %s, %s, %s, %s, %s, %s, %s, %s, %s, %s, %s, %s, %s, %s, %s, %s, %s, %s, %s, %s, %s, %s, %s, %s, %s, %s, %s, %s, %s, %s, %s, %s, %s, %s, %s, %s, %s, %s, %s, %s, %s, %s, %s, %s, %s, %s, %s, %s, %s, %s, %s, %s, %s, %s, %s, %s, %s, %s, %s, %s, %s, %s, %s, %s, %s, %s, %s, %s, %s, %s, %s, %s, %s, %s, %s, %s, %s, %s, %s, %s, %s, %s, %s, %s, %s, %s, %s, %s, %s, %s, %s, %s, %s, %s, %s, %s, %s, %s, %s, %s, %s, %s, %s, %s, %s, %s, %s, %s, %s, %s, %s, %s, %s, %s, %s, %s, %s, %s, %s, %s, %s, %s, %s, %s, %s, %s, %s, %s, %s, %s, %s, %s, %s, %s, %s, %s, %s, %s, %s, %s, %s, %s, %s, %s, %s, %s, %s, %s, %s, %s, %s, %s, %s, %s, %s, %s, %s, %s, %s, %s, %s, %s, %s, %s, %s, %s, %s, %s, %s, %s, %s, %s, %s, %s, %s, %s, %s, %s, %s, %s, %s, %s, %s, %s, %s, %s, %s, %s, %s, %s, %s, %s, %s, %s, %s, %s, %s, %s, %s, %s, %s, %s, %s, %s, %s, %s, %s, %s, %s, %s, %s, %s, %s, %s, %s, %s, %s, %s, %s, %s, %s, %s, %s, %s, %s, %s, %s, %s, %s, %s, %s, %s, %s, %s, %s, %s, %s, %s, %s, %s, %s, %s, %s, %s, %s, %s, %s, %s, %s, %s, %s, %s, %s, %s, %s, %s, %s, %s, %s, %s, %s, %s, %s, %s, %s, %s, %s, %s, %s, %s, %s, %s, %s, %s, %s, %s, %s, %s, %s, %s, %s, %s, %s, %s, %s, %s, %s, %s, %s, %s, %s, %s, %s, %s, %s, %s, %s, %s, %s, %s, %s, %s, %s, %s, %s, %s, %s, %s, %s, %s, %s, %s, %s, %s, %s, %s, %s, %s, %s, %s, %s, %s, %s, %s, %s, %s, %s, %s, %s, %s, %s, %s, %s, %s, %s, %s, %s, %s, %s, %s, %s, %s, %s, %s, %s, %s, %s, %s, %s, %s, %s, %s, %s, %s, %s, %s, %s, %s, %s, %s, %s, %s, %s, %s, %s, %s, %s, %s, %s, %s, %s, %s, %s, %s, %s, %s, %s, %s, %s, %s, %s, %s, %s, %s, %s, %s, %s, %s, %s, %s, %s, %s, %s, %s, %s, %s, %s, %s, %s, %s, %s, %s, %s, %s, %s, %s, %s, %s, %s, %s, %s, %s, %s, %s, %s, %s, %s, %s, %s, %s, %s, %s, %s, %s, %s, %s, %s, %s, %s, %s, %s, %s, %s, %s, %s, %s, %s, %s, %s, %s, %s, %s, %s, %s, %s, %s, %s, %s, %s, %s, %s, %s, %s, %s, %s, %s, %s, %s, %s, %s, %s, %s, %s, %s, %s, %s, %s, %s, %s, %s, %s, %s, %s, %s, %s, %s, %s, %s, %s, %s, %s, %s, %s, %s, %s, %s, %s, %s, %s, %s, %s, %s, %s, %s, %s, %s, %s, %s, %s, %s, %s, %s, %s, %s, %s, %s, %s, %s, %s, %s, %s, %s, %s, %s, %s, %s, %s, %s, %s, %s, %s, %s, %s, %s, %s, %s, %s, %s, %s, %s, %s, %s, %s, %s, %s, %s, %s, %s, %s, %s, %s, %s, %s, %s, %s, %s, %s, %s, %s, %s, %s, %s, %s, %s, %s, %s, %s, %s, %s, %s, %s, %s, %s, %s, %s, %s, %s, %s, %s, %s, %s, %s, %s, %s, %s, %s, %s, %s, %s, %s, %s, %s, %s, %s, %s, %s, %s, %s, %s, %s, %s, %s, %s, %s, %s, %s, %s, %s, %s, %s, %s, %s, %s, %s, %s, %s, %s, %s, %s, %s, %s, %s, %s, %s, %s, %s, %s, %s, %s, %s, %s, %s, %s, %s, %s, %s, %s, %s, %s, %s, %s, %s, %s, %s, %s, %s, %s, %s, %s, %s, %s, %s, %s, %s, %s, %s, %s, %s, %s, %s, %s, %s, %s, %s, %s, %s, %s, %s, %s, %s, %s, %s, %s, %s, %s, %s, %s, %s, %s, %s, %s, %s, %s, %s, %s, %s, %s, %s, %s, %s, %s, %s, %s, %s, %s, %s, %s, %s, %s, %s, %s, %s, %s, %s, %s, %s, %s, %s, %s, %s, %s, %s, %s, %s, %s, %s, %s, %s, %s, %s, %s, %s, %s, %s, %s, %s, %s, %s, %s, %s, %s, %s, %s, %s, %s, %s, %s, %s, %s, %s, %s, %s, %s, %s, %s, %s, %s, %s, %s, %s, %s, %s, %s, %s, %s, %s, %s, %s, %s, %s, %s, %s, %s, %s, %s, %s, %s, %s, %s, %s, %s, %s, %s, %s, %s, %s, %s, %s, %s, %s, %s, %s, %s, %s, %s, %s, %s, %s, %s, %s, %s, %s, %s, %s, %s, %s, %s, %s, %s, %s, %s, %s, %s, %s, %s, %s, %s, %s, %s, %s, %s, %s, %s, %s, %s, %s, %s, %s, %s, %s, %s, %s, %s, %s, %s, %s, %s, %s, %s, %s, %s, %s, %s, %s, %s, %s, %s, %s, %s, %s, %s, %s, %s, %s, %s, %s, %s, %s, %s, %s, %s, %s, %s, %s, %s, %s, %s, %s, %s, %s, %s, %s, %s, %s, %s, %s, %s, %s, %s, %s, %s, %s, %s, %s, %s, %s, %s, %s, %s, %s, %s, %s, %s, %s, %s, %s, %s, %s, %s, %s, %s, %s, %s, %s, %s, %s, %s, %s, %s, %s, %s, %s, %s, %s, %s, %s, %s, %s, %s, %s, %s, %s, %s, %s, %s, %s, %s, %s, %s, %s, %s, %s, %s, %s, %s, %s, %s, %s, %s, %s, %s, %s, %s, %s, %s, %s, %s, %s, %s, %s, %s, %s, %s, %s, %s, %s, %s, %s, %s, %s, %s, %s, %s, %s, %s, %s, %s, %s, %s, %s, %s, %s, %s, %s, %s, %s, %s, %s, %s, %s, %s, %s, %s, %s, %s, %s, %s, %s, %s, %s, %s, %s, %s, %s, %s, %s, %s, %s, %s, %s, %s, %s, %s, %s, %s, %s, %s, %s, %s, %s, %s, %s, %s, %s, %s, %s, %s, %s, %s, %s, %s, %s, %s, %s, %s, %s, %s, %s, %s, %s, %s, %s, %s, %s, %s, %s, %s, %s, %s, %s, %s, %s, %s, %s, %s, %s, %s, %s, %s, %s, %s, %s, %s, %s, %s, %s, %s, %s, %s, %s, %s, %s, %s, %s, %s, %s, %s, %s, %s, %s, %s, %s, %s, %s, %s, %s, %s, %s, %s, %s, %s, %s, %s, %s, %s, %s, %s, %s, %s, %s, %s, %s, %s, %s, %s, %s, %s, %s, %s, %s, %s, %s, %s, %s, %s, %s, %s, %s, %s, %s, %s, %s, %s, %s, %s, %s, %s, %s, %s, %s, %s, %s, %s, %s, %s, %s, %s, %s, %s, %s, %s, %s, %s, %s, %s, %s, %s, %s, %s, %s, %s, %s, %s, %s, %s, %s, %s, %s, %s, %s, %s, %s, %s, %s, %s, %s, %s, %s, %s, %s, %s, %s, %s, %s, %s, %s, %s, %s, %s, %s, %s, %s, %s, %s, %s, %s, %s, %s, %s, %s, %s, %s, %s, %s\n",
      ">> Fetched the cat3 data containing 4284 rows\n"
     ]
    }
   ],
   "source": [
    "# getting cat3 data from db\n",
    "conn = connect_db()\n",
    "\n",
    "cat3_df = fetch_cat_data(conn, df)\n",
    "print(f\">> Fetched the cat3 data containing {len(cat3_df)} rows\")"
   ]
  },
  {
   "cell_type": "code",
   "execution_count": 90,
   "metadata": {},
   "outputs": [
    {
     "name": "stdout",
     "output_type": "stream",
     "text": [
      ">> Connected to database\n"
     ]
    }
   ],
   "source": [
    "conn = connect_db()\n",
    "print(\">> Connected to database\")"
   ]
  },
  {
   "cell_type": "code",
   "execution_count": 91,
   "metadata": {},
   "outputs": [
    {
     "name": "stdout",
     "output_type": "stream",
     "text": [
      "%s, %s, %s, %s, %s, %s, %s, %s, %s, %s, %s, %s, %s, %s, %s, %s, %s, %s, %s, %s, %s, %s, %s, %s, %s, %s, %s, %s, %s, %s, %s, %s, %s, %s, %s, %s, %s, %s, %s, %s, %s, %s, %s, %s, %s, %s, %s, %s, %s, %s, %s, %s, %s, %s, %s, %s, %s, %s, %s, %s, %s, %s, %s, %s, %s, %s, %s, %s, %s, %s, %s, %s, %s, %s, %s, %s, %s, %s, %s, %s, %s, %s, %s, %s, %s, %s, %s, %s, %s, %s, %s, %s, %s, %s, %s, %s, %s, %s, %s, %s, %s, %s, %s, %s, %s, %s, %s, %s, %s, %s, %s, %s, %s, %s, %s, %s, %s, %s, %s, %s, %s, %s, %s, %s, %s, %s, %s, %s, %s, %s, %s, %s, %s, %s, %s, %s, %s, %s, %s, %s, %s, %s, %s, %s, %s, %s, %s, %s, %s, %s, %s, %s, %s, %s, %s, %s, %s, %s, %s, %s, %s, %s, %s, %s, %s, %s, %s, %s, %s, %s, %s, %s, %s, %s, %s, %s, %s, %s, %s, %s, %s, %s, %s, %s, %s, %s, %s, %s, %s, %s, %s, %s, %s, %s, %s, %s, %s, %s, %s, %s, %s, %s, %s, %s, %s, %s, %s, %s, %s, %s, %s, %s, %s, %s, %s, %s, %s, %s, %s, %s, %s, %s, %s, %s, %s, %s, %s, %s, %s, %s, %s, %s, %s, %s, %s, %s, %s, %s, %s, %s, %s, %s, %s, %s, %s, %s, %s, %s, %s, %s, %s, %s, %s, %s, %s, %s, %s, %s, %s, %s, %s, %s, %s, %s, %s, %s, %s, %s, %s, %s, %s, %s, %s, %s, %s, %s, %s, %s, %s, %s, %s, %s, %s, %s, %s, %s, %s, %s, %s, %s, %s, %s, %s, %s, %s, %s, %s, %s, %s, %s, %s, %s, %s, %s, %s, %s, %s, %s, %s, %s, %s, %s, %s, %s, %s, %s, %s, %s, %s, %s, %s, %s, %s, %s, %s, %s, %s, %s, %s, %s, %s, %s, %s, %s, %s, %s, %s, %s, %s, %s, %s, %s, %s, %s, %s, %s, %s, %s, %s, %s, %s, %s, %s, %s, %s, %s, %s, %s, %s, %s, %s, %s, %s, %s, %s, %s, %s, %s, %s, %s, %s, %s, %s, %s, %s, %s, %s, %s, %s, %s, %s, %s, %s, %s, %s, %s, %s, %s, %s, %s, %s, %s, %s, %s, %s, %s, %s, %s, %s, %s, %s, %s, %s, %s, %s, %s, %s, %s, %s, %s, %s, %s, %s, %s, %s, %s, %s, %s, %s, %s, %s, %s, %s, %s, %s, %s, %s, %s, %s, %s, %s, %s, %s, %s, %s, %s, %s, %s, %s, %s, %s, %s, %s, %s, %s, %s, %s, %s, %s, %s, %s, %s, %s, %s, %s, %s, %s, %s, %s, %s, %s, %s, %s, %s, %s, %s, %s, %s, %s, %s, %s, %s, %s, %s, %s, %s, %s, %s, %s, %s, %s, %s, %s, %s, %s, %s, %s, %s, %s, %s, %s, %s, %s, %s, %s, %s, %s, %s, %s, %s, %s, %s, %s, %s, %s, %s, %s, %s, %s, %s, %s, %s, %s, %s, %s, %s, %s, %s, %s, %s, %s, %s, %s, %s, %s, %s, %s, %s, %s, %s, %s, %s, %s, %s, %s, %s, %s, %s, %s, %s, %s, %s, %s, %s, %s, %s, %s, %s, %s, %s, %s, %s, %s, %s, %s, %s, %s, %s, %s, %s, %s, %s, %s, %s, %s, %s, %s, %s, %s, %s, %s, %s, %s, %s, %s, %s, %s, %s, %s, %s, %s, %s, %s, %s, %s, %s, %s, %s, %s, %s, %s, %s, %s, %s, %s, %s, %s, %s, %s, %s, %s, %s, %s, %s, %s, %s, %s, %s, %s, %s, %s, %s, %s, %s, %s, %s, %s, %s, %s, %s, %s, %s, %s, %s, %s, %s, %s, %s, %s, %s, %s, %s, %s, %s, %s, %s, %s, %s, %s, %s, %s, %s, %s, %s, %s, %s, %s, %s, %s, %s, %s, %s, %s, %s, %s, %s, %s, %s, %s, %s, %s, %s, %s, %s, %s, %s, %s, %s, %s, %s, %s, %s, %s, %s, %s, %s, %s, %s, %s, %s, %s, %s, %s, %s, %s, %s, %s, %s, %s, %s, %s, %s, %s, %s, %s, %s, %s, %s, %s, %s, %s, %s, %s, %s, %s, %s, %s, %s, %s, %s, %s, %s, %s, %s, %s, %s, %s, %s, %s, %s, %s, %s, %s, %s, %s, %s, %s, %s, %s, %s, %s, %s, %s, %s, %s, %s, %s, %s, %s, %s, %s, %s, %s, %s, %s, %s, %s, %s, %s, %s, %s, %s, %s, %s, %s, %s, %s, %s, %s, %s, %s, %s, %s, %s, %s, %s, %s, %s, %s, %s, %s, %s, %s, %s, %s, %s, %s, %s, %s, %s, %s, %s, %s, %s, %s, %s, %s, %s, %s, %s, %s, %s, %s, %s, %s, %s, %s, %s, %s, %s, %s, %s, %s, %s, %s, %s, %s, %s, %s, %s, %s, %s, %s, %s, %s, %s, %s, %s, %s, %s, %s, %s, %s, %s, %s, %s, %s, %s, %s, %s, %s, %s, %s, %s, %s, %s, %s, %s, %s, %s, %s, %s, %s, %s, %s, %s, %s, %s, %s, %s, %s, %s, %s, %s, %s, %s, %s, %s, %s, %s, %s, %s, %s, %s, %s, %s, %s, %s, %s, %s, %s, %s, %s, %s, %s, %s, %s, %s, %s, %s, %s, %s, %s, %s, %s, %s, %s, %s, %s, %s, %s, %s, %s, %s, %s, %s, %s, %s, %s, %s, %s, %s, %s, %s, %s, %s, %s, %s, %s, %s, %s, %s, %s, %s, %s, %s, %s, %s, %s, %s, %s, %s, %s, %s, %s, %s, %s, %s, %s, %s, %s, %s, %s, %s, %s, %s, %s, %s, %s, %s, %s, %s, %s, %s, %s, %s, %s, %s, %s, %s, %s, %s, %s, %s, %s, %s, %s, %s, %s, %s, %s, %s, %s, %s, %s, %s, %s, %s, %s, %s, %s, %s, %s, %s, %s, %s, %s, %s, %s, %s, %s, %s, %s, %s, %s, %s, %s, %s, %s, %s, %s, %s, %s, %s, %s, %s, %s, %s, %s, %s, %s, %s, %s, %s, %s, %s, %s, %s, %s, %s, %s, %s, %s, %s, %s, %s, %s, %s, %s, %s, %s, %s, %s, %s, %s, %s, %s, %s, %s, %s, %s, %s, %s, %s, %s, %s, %s, %s, %s, %s, %s, %s, %s, %s, %s, %s, %s, %s, %s, %s, %s, %s, %s, %s, %s, %s, %s, %s, %s, %s, %s, %s, %s, %s, %s, %s, %s, %s, %s, %s, %s, %s, %s, %s, %s, %s, %s, %s, %s, %s, %s, %s, %s, %s, %s, %s, %s, %s, %s, %s, %s, %s, %s, %s, %s, %s, %s, %s, %s, %s, %s, %s, %s, %s, %s, %s, %s, %s, %s, %s, %s, %s, %s, %s, %s, %s, %s, %s, %s, %s, %s, %s, %s, %s, %s, %s, %s, %s, %s, %s, %s, %s, %s, %s, %s, %s, %s, %s, %s, %s, %s, %s, %s, %s, %s, %s, %s, %s, %s, %s, %s, %s, %s, %s, %s, %s, %s, %s, %s, %s, %s, %s, %s, %s, %s, %s, %s, %s, %s, %s, %s, %s, %s, %s, %s, %s, %s, %s, %s, %s, %s, %s, %s, %s, %s, %s, %s, %s, %s, %s, %s, %s, %s, %s, %s, %s, %s, %s, %s, %s, %s, %s, %s, %s, %s, %s, %s, %s, %s, %s, %s, %s, %s, %s, %s, %s, %s, %s, %s, %s, %s, %s, %s, %s, %s, %s, %s, %s, %s, %s, %s, %s, %s, %s, %s, %s, %s, %s, %s, %s, %s, %s, %s, %s, %s, %s, %s, %s, %s, %s, %s, %s, %s, %s, %s, %s, %s, %s, %s, %s, %s, %s, %s, %s, %s, %s, %s, %s, %s, %s, %s, %s, %s, %s, %s, %s, %s, %s, %s, %s, %s, %s, %s, %s, %s, %s, %s, %s, %s, %s, %s, %s, %s, %s, %s, %s, %s, %s, %s, %s, %s, %s, %s, %s, %s, %s, %s, %s, %s, %s, %s, %s, %s, %s, %s, %s, %s, %s, %s, %s, %s, %s, %s, %s, %s, %s, %s, %s, %s, %s, %s, %s, %s, %s, %s, %s, %s, %s, %s, %s, %s, %s, %s, %s, %s, %s, %s, %s, %s, %s, %s, %s, %s, %s, %s, %s, %s, %s, %s, %s, %s, %s, %s, %s, %s, %s, %s, %s, %s, %s, %s, %s, %s, %s, %s, %s, %s, %s, %s, %s, %s, %s, %s, %s, %s, %s, %s, %s, %s, %s, %s, %s, %s, %s, %s, %s, %s, %s, %s, %s, %s, %s, %s, %s, %s, %s, %s, %s, %s, %s, %s, %s, %s, %s, %s, %s, %s, %s, %s, %s, %s, %s, %s, %s, %s, %s, %s, %s, %s, %s, %s, %s, %s, %s, %s, %s, %s, %s, %s, %s, %s, %s, %s, %s, %s, %s, %s, %s, %s, %s, %s, %s, %s, %s, %s, %s, %s, %s, %s, %s, %s, %s, %s, %s, %s, %s, %s, %s, %s, %s, %s, %s, %s, %s, %s, %s, %s, %s, %s, %s, %s, %s, %s, %s, %s, %s, %s, %s, %s, %s, %s, %s, %s, %s, %s, %s, %s, %s, %s, %s, %s, %s, %s, %s, %s, %s, %s, %s, %s, %s, %s, %s, %s, %s, %s, %s, %s, %s, %s, %s, %s, %s, %s, %s, %s, %s, %s, %s, %s, %s, %s, %s, %s, %s, %s, %s, %s, %s, %s, %s, %s, %s, %s, %s, %s, %s, %s, %s, %s, %s, %s, %s, %s, %s, %s, %s, %s, %s, %s, %s, %s, %s, %s, %s, %s, %s, %s, %s, %s, %s, %s, %s, %s, %s, %s, %s, %s, %s, %s, %s, %s, %s, %s, %s, %s, %s, %s, %s, %s, %s, %s, %s, %s, %s, %s, %s, %s, %s, %s, %s, %s, %s, %s, %s, %s, %s, %s, %s, %s, %s, %s, %s, %s, %s, %s, %s, %s, %s, %s, %s, %s, %s, %s, %s, %s, %s, %s, %s, %s, %s, %s, %s, %s, %s, %s, %s, %s, %s, %s, %s, %s, %s, %s, %s, %s, %s, %s, %s, %s, %s, %s, %s, %s, %s, %s, %s, %s, %s, %s, %s, %s, %s, %s, %s, %s, %s, %s, %s, %s, %s, %s, %s, %s, %s, %s, %s, %s, %s, %s, %s, %s, %s, %s, %s, %s, %s, %s, %s, %s, %s, %s, %s, %s, %s, %s, %s, %s, %s, %s, %s, %s, %s, %s, %s, %s, %s, %s, %s, %s, %s, %s, %s, %s, %s, %s, %s, %s, %s, %s, %s, %s, %s, %s, %s, %s, %s, %s, %s, %s, %s, %s, %s, %s, %s, %s, %s, %s, %s, %s, %s, %s, %s, %s, %s, %s, %s, %s, %s, %s, %s, %s, %s, %s, %s, %s, %s, %s, %s, %s, %s, %s, %s, %s, %s, %s, %s, %s, %s, %s, %s, %s, %s, %s, %s, %s, %s, %s, %s, %s, %s, %s, %s, %s, %s, %s, %s, %s, %s, %s, %s, %s, %s, %s, %s, %s, %s, %s, %s, %s, %s, %s, %s, %s, %s, %s, %s, %s, %s, %s, %s, %s, %s, %s, %s, %s, %s, %s, %s, %s, %s, %s, %s, %s, %s, %s, %s, %s, %s, %s, %s, %s, %s, %s, %s, %s, %s, %s, %s, %s, %s, %s, %s, %s, %s, %s, %s, %s, %s, %s, %s, %s, %s, %s, %s, %s, %s, %s, %s, %s, %s, %s, %s, %s, %s, %s, %s, %s, %s, %s, %s, %s, %s, %s, %s, %s, %s, %s, %s, %s, %s, %s, %s, %s, %s, %s, %s, %s, %s, %s, %s, %s, %s, %s, %s, %s, %s, %s, %s, %s, %s, %s, %s, %s, %s, %s, %s, %s, %s, %s, %s, %s, %s, %s, %s, %s, %s, %s, %s, %s, %s, %s, %s, %s, %s, %s, %s, %s, %s, %s, %s, %s, %s, %s, %s, %s, %s, %s, %s, %s, %s, %s, %s, %s, %s, %s, %s, %s, %s, %s, %s, %s, %s, %s, %s, %s, %s, %s, %s, %s, %s, %s, %s, %s, %s, %s, %s, %s, %s, %s, %s, %s, %s, %s, %s, %s, %s, %s, %s, %s, %s, %s, %s, %s, %s, %s, %s, %s, %s, %s, %s, %s, %s, %s, %s, %s, %s, %s, %s, %s, %s, %s, %s, %s, %s, %s, %s, %s, %s, %s, %s, %s, %s, %s, %s, %s, %s, %s, %s, %s, %s, %s, %s, %s, %s, %s, %s, %s, %s, %s, %s, %s, %s, %s, %s, %s, %s, %s, %s, %s, %s, %s, %s, %s, %s, %s, %s, %s, %s, %s, %s, %s, %s, %s, %s, %s, %s, %s, %s, %s, %s, %s, %s, %s, %s, %s, %s, %s, %s, %s, %s, %s, %s, %s, %s, %s, %s, %s, %s, %s, %s, %s, %s, %s, %s, %s, %s, %s, %s, %s, %s, %s, %s, %s, %s, %s, %s, %s, %s, %s, %s, %s, %s, %s, %s, %s, %s, %s, %s, %s, %s, %s, %s, %s, %s, %s, %s, %s, %s, %s, %s, %s, %s, %s, %s, %s, %s, %s, %s, %s, %s, %s, %s, %s, %s, %s, %s, %s, %s, %s, %s, %s, %s, %s, %s, %s, %s, %s, %s, %s, %s, %s, %s, %s, %s, %s, %s, %s, %s, %s, %s, %s, %s, %s, %s, %s, %s, %s, %s, %s, %s, %s, %s, %s, %s, %s, %s, %s, %s, %s, %s, %s, %s, %s, %s, %s, %s, %s, %s, %s, %s, %s, %s, %s, %s, %s, %s, %s, %s, %s, %s, %s, %s, %s, %s, %s, %s, %s, %s, %s, %s, %s, %s, %s, %s, %s, %s, %s, %s, %s, %s, %s, %s, %s, %s, %s, %s, %s, %s, %s, %s, %s, %s, %s, %s, %s, %s, %s, %s, %s, %s, %s, %s, %s, %s, %s, %s, %s, %s, %s, %s, %s, %s, %s, %s, %s, %s, %s, %s, %s, %s, %s, %s, %s, %s, %s, %s, %s, %s, %s, %s, %s, %s, %s, %s, %s, %s, %s, %s, %s, %s, %s, %s, %s, %s, %s, %s, %s, %s, %s, %s, %s, %s, %s, %s, %s, %s, %s, %s, %s, %s, %s, %s, %s, %s, %s, %s, %s, %s, %s, %s, %s, %s, %s, %s, %s, %s, %s, %s, %s, %s, %s, %s, %s, %s, %s, %s, %s, %s, %s, %s, %s, %s, %s, %s, %s, %s, %s, %s, %s, %s, %s, %s, %s, %s, %s, %s, %s, %s, %s, %s, %s, %s, %s, %s, %s, %s, %s, %s, %s, %s, %s, %s, %s, %s, %s, %s, %s, %s, %s, %s, %s, %s, %s, %s, %s, %s, %s, %s, %s, %s, %s, %s, %s, %s, %s, %s, %s, %s, %s, %s, %s, %s, %s, %s, %s, %s, %s, %s, %s, %s, %s, %s, %s, %s, %s, %s, %s, %s, %s, %s, %s, %s, %s, %s, %s, %s, %s, %s, %s, %s, %s, %s, %s, %s, %s, %s, %s, %s, %s, %s, %s, %s, %s, %s, %s, %s, %s, %s, %s, %s, %s, %s, %s, %s, %s, %s, %s, %s, %s, %s, %s, %s, %s, %s, %s, %s, %s, %s, %s, %s, %s, %s, %s, %s, %s, %s, %s, %s, %s, %s, %s, %s, %s, %s, %s, %s, %s, %s, %s, %s, %s, %s, %s, %s, %s, %s, %s, %s, %s, %s, %s, %s, %s, %s, %s, %s, %s, %s, %s, %s, %s, %s, %s, %s, %s, %s, %s, %s, %s, %s, %s, %s, %s, %s, %s, %s, %s, %s, %s, %s, %s, %s, %s, %s, %s, %s, %s, %s, %s, %s, %s, %s, %s, %s, %s, %s, %s, %s, %s, %s, %s, %s, %s, %s, %s, %s, %s, %s, %s, %s, %s, %s, %s, %s, %s, %s, %s, %s, %s, %s, %s, %s, %s, %s, %s, %s, %s, %s, %s, %s, %s, %s, %s, %s, %s, %s, %s, %s, %s, %s, %s, %s, %s, %s, %s, %s, %s, %s, %s, %s, %s, %s, %s, %s, %s, %s, %s, %s, %s, %s, %s, %s, %s, %s, %s, %s, %s, %s, %s, %s, %s, %s, %s, %s, %s, %s, %s, %s, %s, %s, %s, %s, %s, %s, %s, %s, %s, %s, %s, %s, %s, %s, %s, %s, %s, %s, %s, %s, %s, %s, %s, %s, %s, %s, %s, %s, %s, %s, %s, %s, %s, %s, %s, %s, %s, %s, %s, %s, %s, %s, %s, %s, %s, %s, %s, %s, %s, %s, %s, %s, %s, %s, %s, %s, %s, %s, %s, %s, %s, %s, %s, %s, %s, %s, %s, %s, %s, %s, %s, %s, %s, %s, %s, %s, %s, %s, %s, %s, %s, %s, %s, %s, %s, %s, %s, %s, %s, %s, %s, %s, %s, %s, %s, %s, %s, %s, %s, %s, %s, %s, %s, %s, %s, %s, %s, %s, %s, %s, %s, %s, %s, %s, %s, %s, %s, %s, %s, %s, %s, %s, %s, %s, %s, %s, %s, %s, %s, %s, %s, %s, %s, %s, %s, %s, %s, %s, %s, %s, %s, %s, %s, %s, %s, %s, %s, %s, %s, %s, %s, %s, %s, %s, %s, %s, %s, %s, %s, %s, %s, %s, %s, %s, %s, %s, %s, %s, %s, %s, %s, %s, %s, %s, %s, %s, %s, %s, %s, %s, %s, %s, %s, %s, %s, %s, %s, %s, %s, %s, %s, %s, %s, %s, %s, %s, %s, %s, %s, %s, %s, %s, %s, %s, %s, %s, %s, %s, %s, %s, %s, %s, %s, %s, %s, %s, %s, %s, %s, %s, %s, %s, %s, %s, %s, %s, %s, %s, %s, %s, %s, %s, %s, %s, %s, %s, %s, %s, %s, %s, %s, %s, %s, %s, %s, %s, %s, %s, %s, %s, %s, %s, %s, %s, %s, %s, %s, %s, %s, %s, %s, %s, %s, %s, %s, %s, %s, %s, %s, %s, %s, %s, %s, %s, %s, %s, %s, %s, %s, %s, %s, %s, %s, %s, %s, %s, %s, %s, %s, %s, %s, %s, %s, %s, %s, %s, %s, %s, %s, %s, %s, %s, %s, %s, %s, %s, %s, %s, %s, %s, %s, %s, %s, %s, %s, %s, %s, %s, %s, %s, %s, %s, %s, %s, %s, %s, %s, %s, %s, %s, %s, %s, %s, %s, %s, %s, %s, %s, %s, %s, %s, %s, %s, %s, %s, %s, %s, %s, %s, %s, %s, %s, %s, %s, %s, %s, %s, %s, %s, %s, %s, %s, %s, %s, %s, %s, %s, %s, %s, %s, %s, %s, %s, %s, %s, %s, %s, %s, %s, %s, %s, %s, %s, %s, %s, %s, %s, %s, %s, %s, %s, %s, %s, %s, %s, %s, %s, %s, %s, %s, %s, %s, %s, %s, %s, %s, %s, %s, %s, %s, %s, %s, %s, %s, %s, %s, %s, %s, %s, %s, %s, %s, %s, %s, %s, %s, %s, %s, %s, %s, %s, %s, %s, %s, %s, %s, %s, %s, %s, %s, %s, %s, %s, %s, %s, %s, %s, %s, %s, %s, %s, %s, %s, %s, %s, %s, %s, %s, %s, %s, %s, %s, %s, %s, %s, %s, %s, %s, %s, %s, %s, %s, %s, %s, %s, %s, %s, %s, %s, %s, %s, %s, %s, %s, %s, %s, %s, %s, %s, %s, %s, %s, %s, %s, %s, %s, %s, %s, %s, %s, %s, %s, %s, %s, %s, %s, %s, %s, %s, %s, %s, %s, %s, %s, %s, %s, %s, %s, %s, %s, %s, %s, %s, %s, %s, %s, %s, %s, %s, %s, %s, %s, %s, %s, %s, %s, %s, %s, %s, %s, %s, %s, %s, %s, %s, %s, %s, %s, %s, %s, %s, %s, %s, %s, %s, %s, %s, %s, %s, %s, %s, %s, %s, %s, %s, %s, %s, %s, %s, %s, %s, %s, %s, %s, %s, %s, %s, %s, %s, %s, %s, %s, %s, %s, %s, %s, %s, %s, %s, %s, %s, %s, %s, %s, %s, %s, %s, %s, %s, %s, %s, %s, %s, %s, %s, %s, %s, %s, %s, %s, %s, %s, %s, %s, %s, %s, %s, %s, %s, %s, %s, %s, %s, %s, %s, %s, %s, %s, %s, %s, %s, %s, %s, %s, %s, %s, %s, %s, %s, %s, %s, %s, %s, %s, %s, %s, %s, %s, %s, %s, %s, %s, %s, %s, %s, %s, %s, %s, %s, %s, %s, %s, %s, %s, %s, %s, %s, %s, %s, %s, %s, %s, %s, %s, %s, %s, %s, %s, %s, %s, %s, %s, %s, %s, %s, %s, %s, %s, %s, %s, %s, %s, %s, %s, %s, %s, %s, %s, %s, %s, %s, %s, %s, %s, %s, %s, %s, %s, %s, %s, %s, %s, %s, %s, %s, %s, %s, %s, %s, %s, %s, %s, %s, %s, %s, %s, %s, %s, %s, %s, %s, %s, %s, %s, %s, %s, %s, %s, %s, %s, %s, %s, %s, %s, %s, %s, %s, %s, %s, %s, %s, %s, %s, %s, %s, %s, %s, %s, %s, %s, %s, %s, %s, %s, %s, %s, %s, %s, %s, %s, %s, %s, %s, %s, %s, %s, %s, %s, %s, %s, %s, %s, %s, %s, %s, %s, %s, %s, %s, %s, %s, %s, %s, %s, %s, %s, %s, %s, %s, %s, %s, %s, %s, %s, %s, %s, %s, %s, %s, %s, %s, %s, %s, %s, %s, %s, %s, %s, %s, %s, %s, %s, %s, %s, %s, %s, %s, %s, %s, %s, %s, %s, %s, %s, %s, %s, %s, %s, %s, %s, %s, %s, %s, %s, %s, %s, %s, %s, %s, %s, %s, %s, %s, %s, %s, %s, %s, %s, %s, %s, %s, %s, %s, %s, %s, %s, %s, %s, %s, %s, %s, %s, %s, %s, %s, %s, %s, %s, %s, %s, %s, %s, %s, %s, %s, %s, %s, %s, %s, %s, %s, %s, %s, %s, %s, %s, %s, %s, %s, %s, %s, %s, %s, %s, %s, %s, %s, %s, %s, %s, %s, %s, %s, %s, %s, %s, %s, %s, %s, %s, %s, %s, %s, %s, %s, %s, %s, %s, %s, %s, %s, %s, %s, %s, %s, %s, %s, %s, %s, %s, %s, %s, %s, %s, %s, %s, %s, %s, %s, %s, %s, %s, %s, %s, %s, %s, %s, %s, %s, %s, %s, %s, %s, %s, %s, %s, %s, %s, %s, %s, %s, %s, %s, %s, %s, %s, %s, %s, %s, %s, %s, %s, %s, %s, %s, %s, %s, %s, %s, %s, %s, %s, %s, %s, %s, %s, %s, %s, %s, %s, %s, %s, %s, %s, %s, %s, %s, %s, %s, %s, %s, %s, %s, %s, %s, %s, %s, %s, %s, %s, %s, %s, %s, %s, %s, %s, %s, %s, %s, %s, %s, %s, %s, %s, %s, %s, %s, %s, %s, %s, %s, %s, %s, %s, %s, %s, %s, %s, %s, %s, %s, %s, %s, %s, %s, %s, %s, %s, %s, %s, %s, %s, %s, %s, %s, %s, %s, %s, %s, %s, %s, %s, %s, %s, %s, %s, %s, %s, %s, %s, %s, %s, %s, %s, %s, %s, %s, %s, %s, %s, %s, %s, %s, %s, %s, %s, %s, %s, %s, %s, %s, %s, %s, %s, %s, %s, %s, %s, %s, %s, %s, %s, %s, %s, %s, %s, %s, %s, %s, %s, %s, %s, %s, %s, %s, %s, %s, %s, %s, %s, %s, %s, %s, %s, %s, %s, %s, %s, %s, %s, %s, %s, %s, %s, %s, %s, %s, %s, %s, %s, %s, %s, %s, %s, %s, %s, %s, %s, %s, %s, %s, %s, %s, %s, %s, %s, %s, %s, %s, %s, %s, %s, %s, %s, %s, %s, %s, %s, %s, %s, %s, %s, %s, %s, %s, %s, %s, %s, %s, %s, %s, %s, %s, %s, %s, %s, %s, %s, %s, %s, %s, %s, %s, %s, %s, %s, %s, %s, %s, %s, %s, %s, %s, %s, %s, %s, %s, %s, %s, %s, %s, %s, %s, %s, %s, %s, %s, %s, %s, %s, %s, %s, %s, %s, %s, %s, %s, %s, %s, %s, %s, %s, %s, %s, %s, %s, %s, %s, %s, %s, %s, %s, %s, %s, %s, %s, %s, %s, %s, %s, %s, %s, %s, %s, %s, %s, %s, %s, %s, %s, %s, %s, %s, %s, %s, %s, %s, %s, %s, %s, %s, %s, %s, %s, %s, %s, %s, %s, %s, %s, %s, %s, %s, %s, %s, %s, %s, %s, %s, %s, %s, %s, %s, %s, %s, %s, %s, %s, %s, %s, %s, %s, %s, %s, %s, %s, %s, %s, %s, %s, %s, %s, %s, %s, %s, %s, %s, %s, %s, %s, %s, %s, %s, %s, %s, %s, %s, %s, %s, %s, %s, %s, %s, %s, %s, %s, %s, %s, %s, %s, %s, %s, %s, %s, %s, %s, %s, %s, %s, %s, %s, %s, %s, %s, %s, %s, %s, %s, %s, %s, %s, %s, %s, %s, %s, %s, %s, %s, %s, %s, %s, %s, %s, %s, %s, %s, %s, %s, %s, %s, %s, %s, %s, %s, %s, %s, %s, %s, %s, %s, %s, %s, %s, %s, %s, %s, %s, %s, %s, %s, %s, %s, %s, %s, %s, %s, %s, %s, %s, %s, %s, %s, %s, %s, %s, %s, %s, %s, %s, %s, %s, %s, %s, %s, %s, %s, %s, %s, %s, %s, %s, %s, %s, %s, %s, %s, %s, %s, %s, %s, %s, %s, %s, %s, %s, %s, %s, %s, %s, %s, %s, %s, %s, %s, %s, %s, %s, %s, %s, %s, %s, %s, %s, %s, %s, %s, %s, %s, %s, %s, %s, %s, %s, %s, %s, %s, %s, %s, %s, %s, %s, %s, %s, %s, %s, %s, %s, %s, %s, %s, %s, %s, %s, %s, %s, %s, %s, %s, %s, %s, %s, %s, %s, %s, %s, %s, %s, %s, %s, %s, %s, %s, %s, %s, %s, %s, %s, %s, %s, %s, %s, %s, %s, %s, %s, %s, %s, %s, %s, %s, %s, %s, %s, %s, %s, %s, %s, %s, %s, %s, %s, %s, %s, %s, %s, %s, %s, %s, %s, %s, %s, %s, %s, %s, %s, %s, %s, %s, %s, %s, %s, %s, %s, %s, %s, %s, %s, %s, %s, %s, %s, %s, %s, %s, %s, %s, %s, %s, %s, %s, %s, %s, %s, %s, %s, %s, %s, %s, %s, %s, %s, %s, %s, %s, %s, %s, %s, %s, %s, %s, %s, %s, %s, %s, %s, %s, %s, %s, %s, %s, %s, %s, %s, %s, %s, %s, %s, %s, %s, %s, %s, %s, %s, %s, %s, %s, %s, %s, %s, %s, %s, %s, %s, %s, %s, %s, %s, %s, %s, %s, %s, %s, %s, %s, %s, %s, %s, %s, %s, %s, %s, %s, %s, %s, %s, %s\n",
      ">> Fetched the cat1 data containing 4284 rows\n"
     ]
    }
   ],
   "source": [
    "# getting cat1 data from db\n",
    "cat1_df = fetch_cat1_data(conn, df)\n",
    "print(f\">> Fetched the cat1 data containing {len(cat1_df)} rows\")"
   ]
  },
  {
   "cell_type": "code",
   "execution_count": 92,
   "metadata": {},
   "outputs": [
    {
     "name": "stdout",
     "output_type": "stream",
     "text": [
      ">> Map items from item to top items in cat3 4239 rows\n"
     ]
    }
   ],
   "source": [
    "# Map item to top item in cat3\n",
    "item_to_cat3_top_map= create_cat3_to_top_item_map(df, cat3_df, top_5_items_cat3)\n",
    "print(f\">> Map items from item to top items in cat3 {len(item_to_cat3_top_map)} rows\")"
   ]
  },
  {
   "cell_type": "code",
   "execution_count": 93,
   "metadata": {},
   "outputs": [
    {
     "data": {
      "text/plain": [
       "{10735678: '10735718',\n",
       " 10755108: '10755118',\n",
       " 10735704: '10735718',\n",
       " 10735679: '10735718',\n",
       " 10735697: '10735718',\n",
       " 10755124: '10755118',\n",
       " 10755135: '10755118',\n",
       " 10735680: '10735718',\n",
       " 10735698: '10735718',\n",
       " 10735681: '10735718',\n",
       " 10738641: '10735784',\n",
       " 10755136: '10755118',\n",
       " 10755125: '10755118',\n",
       " 10735699: '10735718',\n",
       " 10735682: '10735718',\n",
       " 10735683: '10735718',\n",
       " 10755137: '10755118',\n",
       " 10755126: '10755118',\n",
       " 10735705: '10735718',\n",
       " 10735684: '10735718',\n",
       " 10755127: '10755118',\n",
       " 10735706: '10735718',\n",
       " 10735707: '10735718',\n",
       " 10755138: '10755118',\n",
       " 10755139: '10755118',\n",
       " 10755140: '10755118',\n",
       " 10735708: '10735718',\n",
       " 10755141: '10755118',\n",
       " 10735709: '10735718',\n",
       " 10735710: '10735718',\n",
       " 10735711: '10735718',\n",
       " 10735712: '10735718',\n",
       " 10735713: '10735718',\n",
       " 10735714: '10735718',\n",
       " 10735715: '10735718',\n",
       " 10735716: '10735718',\n",
       " 10735717: '10735718',\n",
       " 10735718: '10735718',\n",
       " 10735719: '10735718',\n",
       " 10735720: '10735718',\n",
       " 10735721: '10735718',\n",
       " 10735723: '10735784',\n",
       " 10735770: '10735784',\n",
       " 10755167: '10755118',\n",
       " 10755168: '10755118',\n",
       " 10755169: '10755118',\n",
       " 10755170: '10755118',\n",
       " 10755171: '10755118',\n",
       " 10755172: '10755118',\n",
       " 10755173: '10755118',\n",
       " 10755174: '10755118',\n",
       " 10735729: '10735718',\n",
       " 10735732: '10735718',\n",
       " 10735740: '10735718',\n",
       " 10735743: '10735718',\n",
       " 10735744: '10735718',\n",
       " 10735745: '10735718',\n",
       " 10735746: '10735718',\n",
       " 10735749: '10735718',\n",
       " 10735757: '10735718',\n",
       " 10735760: '10735718',\n",
       " 10735764: '10735718',\n",
       " 10735769: '10735784',\n",
       " 11016179: '11016184',\n",
       " 11016180: '11016184',\n",
       " 11016184: '11016184',\n",
       " 11016186: '11016184',\n",
       " 11016191: '11016184',\n",
       " 11016200: '11016184',\n",
       " 11016216: '11016184',\n",
       " 11016219: '11016184',\n",
       " 11016222: '11016184',\n",
       " 11016229: '11016184',\n",
       " 11016230: '11016184',\n",
       " 11016232: '11016184',\n",
       " 11016237: '11016184',\n",
       " 11016238: '11016184',\n",
       " 11016251: '11016184',\n",
       " 11016253: '11016184',\n",
       " 11016256: '11016184',\n",
       " 11016260: '11016184',\n",
       " 11016263: '11016184',\n",
       " 11016269: '11016184',\n",
       " 11016272: '11016184',\n",
       " 11018522: '11016184',\n",
       " 11018526: '11016184',\n",
       " 11018532: '11016184',\n",
       " 11016274: '11016184',\n",
       " 11016280: '11016184',\n",
       " 11016281: '11016184',\n",
       " 11018535: '11016184',\n",
       " 11018536: '11016184',\n",
       " 11018542: '11016184',\n",
       " 10989176: '10991088',\n",
       " 10989198: '10991088',\n",
       " 10989199: '10991088',\n",
       " 10989209: '10991088',\n",
       " 10989213: '10991088',\n",
       " 10989234: '10991088',\n",
       " 10989241: '10991088',\n",
       " 10989278: '10991088',\n",
       " 10989286: '10991088',\n",
       " 11018580: '11016184',\n",
       " 11018583: '11016184',\n",
       " 11018585: '11016184',\n",
       " 11016327: '11016184',\n",
       " 11016331: '11016184',\n",
       " 11016332: '11016184',\n",
       " 11018586: '11016184',\n",
       " 11018706: '11016184',\n",
       " 11018709: '11016184',\n",
       " 11016335: '11016184',\n",
       " 11016339: '11016184',\n",
       " 11016341: '11016184',\n",
       " 11018710: '11016184',\n",
       " 11018711: '11016184',\n",
       " 11018713: '11016184',\n",
       " 11016343: '11016184',\n",
       " 11016345: '11016184',\n",
       " 11016346: '11016184',\n",
       " 11018716: '11016184',\n",
       " 11018718: '11016184',\n",
       " 11018719: '11016184',\n",
       " 11016355: '11016184',\n",
       " 11016357: '11016184',\n",
       " 11016361: '11016184',\n",
       " 11018720: '11016184',\n",
       " 11018725: '11016184',\n",
       " 11018727: '11016184',\n",
       " 11016363: '11016184',\n",
       " 11016365: '11016184',\n",
       " 11015804: '11016184',\n",
       " 11111931: '11016184',\n",
       " 11018728: '11016184',\n",
       " 11018729: '11016184',\n",
       " 11018730: '11016184',\n",
       " 11015805: '11016184',\n",
       " 11015811: '11016184',\n",
       " 11015816: '11016184',\n",
       " 11015821: '11016184',\n",
       " 11018731: '11016184',\n",
       " 11018732: '11016184',\n",
       " 11019068: '11016184',\n",
       " 11019074: '11016184',\n",
       " 11019078: '11016184',\n",
       " 11019084: '11016184',\n",
       " 11019085: '11016184',\n",
       " 11019088: '11016184',\n",
       " 11016284: '11016184',\n",
       " 11016287: '11016184',\n",
       " 11016290: '11016184',\n",
       " 11018545: '11016184',\n",
       " 11018549: '11016184',\n",
       " 11018551: '11016184',\n",
       " 11016307: '11016184',\n",
       " 11016308: '11016184',\n",
       " 11016312: '11016184',\n",
       " 11018554: '11016184',\n",
       " 11018557: '11016184',\n",
       " 11018562: '11016184',\n",
       " 11016314: '11016184',\n",
       " 11016317: '11016184',\n",
       " 11016318: '11016184',\n",
       " 11018563: '11016184',\n",
       " 11018570: '11016184',\n",
       " 11018578: '11016184',\n",
       " 11016320: '11016184',\n",
       " 11016321: '11016184',\n",
       " 11016324: '11016184',\n",
       " 10836825: '10801177',\n",
       " 10863215: '10943393',\n",
       " 10864461: '10631239',\n",
       " 10566462: '10751811',\n",
       " 10570540: '10568358',\n",
       " 10563810: '10943393',\n",
       " 10823334: '11117823',\n",
       " 10631239: '10631239',\n",
       " 10538479: '10762937',\n",
       " 11019739: '11016184',\n",
       " 11019741: '11016184',\n",
       " 11019742: '11016184',\n",
       " 11019743: '11016184',\n",
       " 11019744: '11016184',\n",
       " 10540759: '10631239',\n",
       " 11019745: '11016184',\n",
       " 11019746: '11016184',\n",
       " 11019747: '11016184',\n",
       " 11019748: '11016184',\n",
       " 11019749: '11016184',\n",
       " 11019750: '11016184',\n",
       " 11019771: '11016184',\n",
       " 11019772: '11016184',\n",
       " 11114344: '10943393',\n",
       " 10261989: '10943393',\n",
       " 10585776: '10943252',\n",
       " 10262110: '10631239',\n",
       " 11015822: '11016184',\n",
       " 11015824: '11016184',\n",
       " 11015829: '11016184',\n",
       " 11015840: '11016184',\n",
       " 11015848: '11016184',\n",
       " 11015858: '11016184',\n",
       " 11015862: '11016184',\n",
       " 11015864: '11016184',\n",
       " 11015867: '11016184',\n",
       " 11015871: '11016184',\n",
       " 11015876: '11016184',\n",
       " 11015879: '11016184',\n",
       " 11015882: '11016184',\n",
       " 11015886: '11016184',\n",
       " 11015888: '11016184',\n",
       " 11015893: '11016184',\n",
       " 11015898: '11016184',\n",
       " 11015903: '11016184',\n",
       " 11015907: '11016184',\n",
       " 11015914: '11016184',\n",
       " 11015919: '11016184',\n",
       " 11015928: '11016184',\n",
       " 11015685: '11016184',\n",
       " 11015687: '11016184',\n",
       " 11015700: '11016184',\n",
       " 11015703: '11016184',\n",
       " 11015710: '11016184',\n",
       " 11015713: '11016184',\n",
       " 11015715: '11016184',\n",
       " 11015727: '11016184',\n",
       " 11015730: '11016184',\n",
       " 11015753: '11016184',\n",
       " 11015758: '11016184',\n",
       " 11015772: '11016184',\n",
       " 11015773: '11016184',\n",
       " 11015777: '11016184',\n",
       " 11015779: '11016184',\n",
       " 11015787: '11016184',\n",
       " 11015789: '11016184',\n",
       " 11015796: '11016184',\n",
       " 11015111: '11016184',\n",
       " 11015931: '11016184',\n",
       " 11015935: '11016184',\n",
       " 11015937: '11016184',\n",
       " 10562613: '10943252',\n",
       " 11015943: '11016184',\n",
       " 11015945: '11016184',\n",
       " 11015951: '11016184',\n",
       " 11015801: '11016184',\n",
       " 11015802: '11016184',\n",
       " 11015806: '11016184',\n",
       " 11015808: '11016184',\n",
       " 11015812: '11016184',\n",
       " 11015817: '11016184',\n",
       " 10559422: '10943252',\n",
       " 10559699: '10943252',\n",
       " 10542533: '10943393',\n",
       " 11148094: '10751811',\n",
       " 11145745: '10801177',\n",
       " 11145747: '10801177',\n",
       " 10532757: '10751811',\n",
       " 11108998: '10943393',\n",
       " 10533874: '10943393',\n",
       " 11135736: '10943252',\n",
       " 11109702: '10568358',\n",
       " 11144105: '10968242',\n",
       " 10787413: '10943393',\n",
       " 11153840: '10943393',\n",
       " 11126675: '10413906',\n",
       " 10787426: '10943393',\n",
       " 10519884: '10751811',\n",
       " 10755773: '10762937',\n",
       " 10885072: '10568358',\n",
       " 11153989: '10943252',\n",
       " 11124715: '10801177',\n",
       " 11098528: '10801177',\n",
       " 11079423: '10943393',\n",
       " 10844688: '10943393',\n",
       " 10844710: '10943393',\n",
       " 10844729: '10943393',\n",
       " 10735257: '10943393',\n",
       " 10161608: '10943393',\n",
       " 10736243: '20074877',\n",
       " 10499244: '10943252',\n",
       " 10576587: '10568358',\n",
       " 10491927: '10568358',\n",
       " 10080880: '10420423',\n",
       " 10577163: '10751811',\n",
       " 10492857: '10751811',\n",
       " 10059527: '10943393',\n",
       " 10105196: '10748903',\n",
       " 10461560: '10568358',\n",
       " 10059531: '10943393',\n",
       " 10583076: '10568358',\n",
       " 10043023: '10943393',\n",
       " 10043046: '10043046',\n",
       " 10392154: '10968242',\n",
       " 11100207: '10943252',\n",
       " 11100655: '11100655',\n",
       " 11117823: '11117823',\n",
       " 11154822: '10943393',\n",
       " 10771487: '10098810',\n",
       " 11155222: '10943252',\n",
       " 11114501: '10968242',\n",
       " 10771997: '10420423',\n",
       " 11155229: '10568358',\n",
       " 11155231: '10568358',\n",
       " 11155237: '10568358',\n",
       " 10580144: '10943252',\n",
       " 10580213: '10580213',\n",
       " 11136701: '10943393',\n",
       " 11133601: '10568358',\n",
       " 10466265: '10568358',\n",
       " 11048293: '10568358',\n",
       " 11133627: '20017743',\n",
       " 11134604: '20017743',\n",
       " 10504858: '10568358',\n",
       " 10504859: '10568358',\n",
       " 10793106: '10568358',\n",
       " 10495917: '10943252',\n",
       " 11086420: '10801177',\n",
       " 11152450: '10943393',\n",
       " 10495671: '10943252',\n",
       " 11152963: '10631239',\n",
       " 10815942: '10670742',\n",
       " 11048469: '20074877',\n",
       " 10525773: '20017743',\n",
       " 10543799: '10543799',\n",
       " 10688443: '10762937',\n",
       " 10107339: '10631239',\n",
       " 10713057: '10801177',\n",
       " 10733559: '10943393',\n",
       " 10365174: '10365174',\n",
       " 11119999: '10943393',\n",
       " 10089883: '10631239',\n",
       " 11108424: '10568358',\n",
       " 10360972: '10943393',\n",
       " 11084996: '10968242',\n",
       " 11085004: '10943252',\n",
       " 10753529: '20074877',\n",
       " 10999702: '10943393',\n",
       " 10770803: '10943393',\n",
       " 11056856: '11056861',\n",
       " 11056857: '11056861',\n",
       " 11056858: '11056861',\n",
       " 11056859: '11056861',\n",
       " 10770896: '10943393',\n",
       " 10728849: '10943393',\n",
       " 11056860: '11056861',\n",
       " 11056861: '11056861',\n",
       " 10732962: '10943252',\n",
       " 10734843: '10943393',\n",
       " 11056862: '11056861',\n",
       " 11056863: '11056861',\n",
       " 11056864: '11056861',\n",
       " 11056865: '11056861',\n",
       " 11056866: '11056861',\n",
       " 11056867: '11056861',\n",
       " 11056868: '11117153',\n",
       " 10431273: '10568358',\n",
       " 11056869: '11117153',\n",
       " 10113721: '10943393',\n",
       " 11056870: '11117153',\n",
       " 11056871: '11117153',\n",
       " 11056872: '11117153',\n",
       " 11056873: '11117153',\n",
       " 11056875: '11117153',\n",
       " 11056876: '11117153',\n",
       " 11056877: '11117153',\n",
       " 11056878: '11117153',\n",
       " 11156681: '10343507',\n",
       " 11071341: '20074877',\n",
       " 10433973: '10568358',\n",
       " 10843315: '10568358',\n",
       " 11071560: '20074877',\n",
       " 10959626: '10568358',\n",
       " 10346499: '10568358',\n",
       " 10731351: '10631239',\n",
       " 10697017: '10751811',\n",
       " 10717864: '10943393',\n",
       " 10729064: '10568358',\n",
       " 10416426: '10568358',\n",
       " 10715626: '10631239',\n",
       " 10694959: '10670742',\n",
       " 10357365: '10751811',\n",
       " 10631935: '10943393',\n",
       " 10094247: '10943393',\n",
       " 10417565: '10365174',\n",
       " 10980780: '10943393',\n",
       " 10514998: '10943393',\n",
       " 10172480: '10943393',\n",
       " 10762937: '10762937',\n",
       " 10290507: '10943393',\n",
       " 10670742: '10670742',\n",
       " 10624692: '10624692',\n",
       " 10302459: '10298253',\n",
       " 10298253: '10298253',\n",
       " 10301632: '10298253',\n",
       " 10299390: '10298253',\n",
       " 10302519: '10298253',\n",
       " 11019653: '11016184',\n",
       " 11019654: '11016184',\n",
       " 11019655: '11016184',\n",
       " 11019656: '11016184',\n",
       " 11019657: '11016184',\n",
       " 11019658: '11016184',\n",
       " 11136846: '10298253',\n",
       " 11136851: '10298253',\n",
       " 11136857: '10298253',\n",
       " 11142578: '10766056',\n",
       " 11142581: '10766056',\n",
       " 11142582: '10766056',\n",
       " 11142584: '10766056',\n",
       " 11142595: '10766056',\n",
       " 11142597: '10766056',\n",
       " 11107104: '10766056',\n",
       " 11107115: '10766056',\n",
       " 11107120: '10766056',\n",
       " 11107163: '10766056',\n",
       " 10947866: '10872574',\n",
       " 10947872: '10947872',\n",
       " 10990062: '10990077',\n",
       " 10990066: '10990077',\n",
       " 10990069: '10990077',\n",
       " 10990072: '10990077',\n",
       " 10988969: '10990077',\n",
       " 10988971: '10988963',\n",
       " 10988985: '10988963',\n",
       " 10989000: '10988963',\n",
       " 10990105: '10990077',\n",
       " 10990114: '10990077',\n",
       " 10990077: '10990077',\n",
       " 10990079: '10990077',\n",
       " 10989024: '10988963',\n",
       " 10989038: '10990077',\n",
       " 10989043: '10988963',\n",
       " 10988990: '10988963',\n",
       " 10989053: '10988963',\n",
       " 10989054: '10988963',\n",
       " 10989142: '10988963',\n",
       " 10989148: '10988963',\n",
       " 10989162: '10988963',\n",
       " 10990119: '10990077',\n",
       " 10990121: '10990077',\n",
       " 10989307: '10990077',\n",
       " 10990083: '10990077',\n",
       " 10989315: '10990077',\n",
       " 10990086: '10990077',\n",
       " 10990152: '10990077',\n",
       " 10990091: '10991088',\n",
       " 10991720: '10990077',\n",
       " 10991756: '10988963',\n",
       " 10988992: '10990077',\n",
       " 10991778: '10988963',\n",
       " 10990482: '10991088',\n",
       " 10990094: '10991088',\n",
       " 10988997: '10988963',\n",
       " 10992001: '10990077',\n",
       " 10988683: '10988963',\n",
       " 10988694: '10990077',\n",
       " 10988700: '10990077',\n",
       " 10988714: '10988963',\n",
       " 10988728: '10990077',\n",
       " 10990849: '10991088',\n",
       " 10916567: '10766056',\n",
       " 10988857: '10988963',\n",
       " 10988858: '10990077',\n",
       " 10988866: '10990077',\n",
       " 10988877: '10990077',\n",
       " 10988881: '10990077',\n",
       " 10988882: '10990077',\n",
       " 10988885: '10990077',\n",
       " 10988910: '10990077',\n",
       " 10988913: '10990077',\n",
       " 10988918: '10990077',\n",
       " 10988920: '10988963',\n",
       " 10988950: '10990077',\n",
       " 10988953: '10988963',\n",
       " 10988954: '10990077',\n",
       " 10988962: '10988963',\n",
       " 10991088: '10991088',\n",
       " 10991096: '10991088',\n",
       " 10991101: '10991088',\n",
       " 10988963: '10988963',\n",
       " 10988964: '10988963',\n",
       " 10988966: '10988963',\n",
       " 10991102: '10991088',\n",
       " 10991117: '10991088',\n",
       " 10991540: '10990077',\n",
       " 10989587: '10988963',\n",
       " 10989594: '10990077',\n",
       " 10776969: '10766056',\n",
       " 10776973: '10766056',\n",
       " 10751250: '10727322',\n",
       " 10751251: '10727322',\n",
       " 10751253: '10751253',\n",
       " 10751254: '10727322',\n",
       " 10751255: '10727322',\n",
       " 10872106: '10947872',\n",
       " 10872523: '10947872',\n",
       " 10872574: '10872574',\n",
       " 10845041: '10947872',\n",
       " 10727314: '10727322',\n",
       " 10727321: '10727322',\n",
       " 10727322: '10727322',\n",
       " 10727324: '10727322',\n",
       " 10727328: '10727322',\n",
       " 10727671: '10727322',\n",
       " 10802527: '10298253',\n",
       " 10727262: '10727322',\n",
       " 10727282: '10727322',\n",
       " 10727284: '10727322',\n",
       " 10727287: '10727322',\n",
       " 10727296: '10727322',\n",
       " 10727303: '10727322',\n",
       " 10913091: '10766056',\n",
       " 10727310: '10727322',\n",
       " 10751218: '10751253',\n",
       " 10751221: '10727322',\n",
       " 10751226: '10727322',\n",
       " 10751231: '10751253',\n",
       " 10751232: '10727322',\n",
       " 10751245: '10727322',\n",
       " 10751248: '10751253',\n",
       " 10745464: '10872574',\n",
       " 10745531: '10872574',\n",
       " 10766029: '10766056',\n",
       " 10766038: '10766056',\n",
       " 10769913: '10766056',\n",
       " 10769915: '10766056',\n",
       " 10769916: '10766056',\n",
       " 10766041: '10766056',\n",
       " 10766047: '10766056',\n",
       " 10766054: '10766056',\n",
       " 10766056: '10766056',\n",
       " 10766059: '10766056',\n",
       " 10766060: '10766056',\n",
       " 10766064: '10766056',\n",
       " 11150510: '10755118',\n",
       " 11114081: '10755118',\n",
       " 11083099: '10735784',\n",
       " 11120152: '10735784',\n",
       " 10934198: '10755118',\n",
       " 10889835: '10735784',\n",
       " 10889875: '10735784',\n",
       " 10908694: '10735784',\n",
       " 10908706: '10735784',\n",
       " 10911694: '10735718',\n",
       " 10911695: '10735718',\n",
       " 10911699: '10735718',\n",
       " 10911706: '10735718',\n",
       " 10911710: '10735718',\n",
       " 10911713: '10735718',\n",
       " 10911715: '10735718',\n",
       " 10911735: '10735718',\n",
       " 10911754: '10735784',\n",
       " 10911756: '10735784',\n",
       " 10911757: '10735784',\n",
       " 10911764: '10735784',\n",
       " 10911766: '10735718',\n",
       " 10911804: '10735718',\n",
       " 10911717: '10735718',\n",
       " 10911721: '10735718',\n",
       " 10857471: '10755118',\n",
       " 10911723: '10735718',\n",
       " 10911726: '10735718',\n",
       " 10911731: '10735718',\n",
       " 10911733: '10735718',\n",
       " 10913033: '10735718',\n",
       " 10913041: '10735718',\n",
       " 10911827: '10735784',\n",
       " 10911828: '10735784',\n",
       " 10757750: '10735784',\n",
       " 10735900: '10735718',\n",
       " 10735901: '10735784',\n",
       " 10735902: '10735784',\n",
       " 10735904: '10735718',\n",
       " 10735905: '10735718',\n",
       " 10735906: '10735718',\n",
       " 10735908: '10735718',\n",
       " 10735913: '10735784',\n",
       " 10735914: '10735784',\n",
       " 10735933: '10735718',\n",
       " 10735935: '10735718',\n",
       " 10735936: '10735718',\n",
       " 10735937: '10735718',\n",
       " 10735938: '10735718',\n",
       " 10735939: '10735718',\n",
       " 10735835: '10735718',\n",
       " 10735836: '10735718',\n",
       " 10735837: '10735718',\n",
       " 10735838: '10735718',\n",
       " 10735917: '10735784',\n",
       " 10735839: '10735718',\n",
       " 10735918: '10735784',\n",
       " 10735920: '10735784',\n",
       " 10735921: '10735784',\n",
       " 10735922: '10735784',\n",
       " 10735923: '10735784',\n",
       " 10735924: '10735784',\n",
       " 10735925: '10735718',\n",
       " 10735928: '10735718',\n",
       " 10735929: '10735718',\n",
       " 10735930: '10735718',\n",
       " 10735931: '10735718',\n",
       " 10735932: '10735718',\n",
       " 10876974: '10755118',\n",
       " 10735840: '10735718',\n",
       " 10735841: '10735718',\n",
       " 10735842: '10735718',\n",
       " 10735845: '10735718',\n",
       " 10735846: '10735718',\n",
       " 10735847: '10735718',\n",
       " 10735848: '10735718',\n",
       " 10735849: '10735718',\n",
       " 10735850: '10735718',\n",
       " 10735851: '10735718',\n",
       " 10782436: '10755118',\n",
       " 10735852: '10735718',\n",
       " 10735853: '10735718',\n",
       " 10735854: '10735718',\n",
       " 10735857: '10735718',\n",
       " 10735858: '10735718',\n",
       " 10735859: '10735718',\n",
       " 10735861: '10735718',\n",
       " 10735862: '10735718',\n",
       " 10735863: '10735718',\n",
       " 10735864: '10735718',\n",
       " 10735865: '10735718',\n",
       " 10735866: '10735718',\n",
       " 10735868: '10735718',\n",
       " 10735869: '10735718',\n",
       " 10735870: '10735718',\n",
       " 10735871: '10735784',\n",
       " 10735874: '10735784',\n",
       " 10735877: '10735718',\n",
       " 10735878: '10735718',\n",
       " 10735879: '10735784',\n",
       " 10735881: '10735718',\n",
       " 10735882: '10735718',\n",
       " 10735887: '10735718',\n",
       " 10735888: '10735718',\n",
       " 10735889: '10735718',\n",
       " 10735890: '10735718',\n",
       " 10735790: '10735784',\n",
       " 10757004: '10755118',\n",
       " 10735792: '10735718',\n",
       " 10735793: '10735718',\n",
       " 10735797: '10735718',\n",
       " 10735798: '10735718',\n",
       " 10735799: '10735718',\n",
       " 10755913: '10755118',\n",
       " 10755915: '10755118',\n",
       " 10755922: '10755118',\n",
       " 10756706: '10755118',\n",
       " 10735894: '10735718',\n",
       " 10735896: '10735718',\n",
       " 10735897: '10735718',\n",
       " 10735775: '10735784',\n",
       " 10735776: '10735784',\n",
       " 10735777: '10735784',\n",
       " 10735778: '10735784',\n",
       " 10735779: '10735784',\n",
       " 10735780: '10735784',\n",
       " 10735784: '10735784',\n",
       " 10735785: '10735784',\n",
       " 10735786: '10735784',\n",
       " 10735787: '10735718',\n",
       " 10735788: '10735718',\n",
       " 10735789: '10735784',\n",
       " 10757002: '10755118',\n",
       " 10755155: '10755118',\n",
       " 10755156: '10755118',\n",
       " 10755157: '10755118',\n",
       " 10755158: '10755118',\n",
       " 10734887: '10735718',\n",
       " 10755159: '10755118',\n",
       " 10734889: '10735718',\n",
       " 10755160: '10755118',\n",
       " 10734890: '10735718',\n",
       " 10755161: '10755118',\n",
       " 10755162: '10755118',\n",
       " 10755163: '10755118',\n",
       " 10755164: '10755118',\n",
       " 10755165: '10755118',\n",
       " 10755166: '10755118',\n",
       " 10763620: '10735784',\n",
       " 10763622: '10735784',\n",
       " 10763625: '10735784',\n",
       " 10763634: '10735784',\n",
       " 10763638: '10735784',\n",
       " 10755586: '10755118',\n",
       " 10735800: '10735718',\n",
       " 10735801: '10735718',\n",
       " 10755587: '10755118',\n",
       " 10735802: '10735718',\n",
       " 10763653: '10735784',\n",
       " 10735803: '10735718',\n",
       " 10755095: '10755118',\n",
       " 10735804: '10735718',\n",
       " 10755142: '10755118',\n",
       " 10755143: '10755118',\n",
       " 10763657: '10735784',\n",
       " 10735805: '10735718',\n",
       " 10735685: '10735718',\n",
       " 10755144: '10755118',\n",
       " 10755096: '10755118',\n",
       " 10735686: '10735718',\n",
       " 10735806: '10735784',\n",
       " 10755145: '10755118',\n",
       " 10735687: '10735718',\n",
       " 10763666: '10735784',\n",
       " 10755146: '10755118',\n",
       " 10735807: '10735784',\n",
       " 10755097: '10755118',\n",
       " 10735808: '10735784',\n",
       " 10735688: '10735718',\n",
       " 10755147: '10755118',\n",
       " 10755098: '10755118',\n",
       " 10735827: '10735718',\n",
       " 10755109: '10755118',\n",
       " 10755128: '10755118',\n",
       " 10735809: '10735718',\n",
       " 10735689: '10735718',\n",
       " 10735810: '10735718',\n",
       " 10735828: '10735718',\n",
       " 10755099: '10755118',\n",
       " 10755148: '10755118',\n",
       " 10755110: '10755118',\n",
       " 10735700: '10735718',\n",
       " 10735811: '10735718',\n",
       " 10755100: '10755118',\n",
       " 10735829: '10735718',\n",
       " 10735814: '10735784',\n",
       " 10755111: '10755118',\n",
       " 10755101: '10755118',\n",
       " 10735701: '10735718',\n",
       " 10735690: '10735718',\n",
       " 10755149: '10755118',\n",
       " 10735831: '10735718',\n",
       " 10735815: '10735784',\n",
       " 10755112: '10755118',\n",
       " 10755102: '10755118',\n",
       " 10755129: '10755118',\n",
       " 10735832: '10735718',\n",
       " 10755113: '10755118',\n",
       " 10735691: '10735718',\n",
       " 10735833: '10735718',\n",
       " 10755150: '10755118',\n",
       " 10755114: '10755118',\n",
       " 10735816: '10735784',\n",
       " 10735834: '10735718',\n",
       " 10755103: '10755118',\n",
       " 10735692: '10735718',\n",
       " 10755151: '10755118',\n",
       " 10735817: '10735784',\n",
       " 10735671: '10735718',\n",
       " 10755115: '10755118',\n",
       " 10735702: '10735718',\n",
       " 10755116: '10755118',\n",
       " 10755130: '10755118',\n",
       " 10735693: '10735718',\n",
       " 10735672: '10735718',\n",
       " 10755152: '10755118',\n",
       " 10755117: '10755118',\n",
       " 10755131: '10755118',\n",
       " 10735694: '10735718',\n",
       " 10735673: '10735718',\n",
       " 10755118: '10755118',\n",
       " 10735674: '10735718',\n",
       " 10755132: '10755118',\n",
       " 10755104: '10755118',\n",
       " 10755119: '10755118',\n",
       " 10755153: '10755118',\n",
       " 10735695: '10735718',\n",
       " 10735819: '10735784',\n",
       " 10735703: '10735718',\n",
       " 10735675: '10735718',\n",
       " 10755133: '10755118',\n",
       " 10755120: '10755118',\n",
       " 10755105: '10755118',\n",
       " 10755154: '10755118',\n",
       " 10735823: '10735784',\n",
       " 10755121: '10755118',\n",
       " 10735676: '10735718',\n",
       " 10735824: '10735784',\n",
       " 10755106: '10755118',\n",
       " 10755122: '10755118',\n",
       " 10735696: '10735718',\n",
       " 10735825: '10735784',\n",
       " 10735677: '10735718',\n",
       " 10755107: '10755118',\n",
       " 10755134: '10755118',\n",
       " 10755123: '10755118',\n",
       " 10735826: '10735718',\n",
       " 11015827: '11016184',\n",
       " 11015853: '11016184',\n",
       " 11015855: '11016184',\n",
       " 10904706: '10943393',\n",
       " 10184068: '10943393',\n",
       " 11015861: '11016184',\n",
       " 11015866: '11016184',\n",
       " 11015868: '11016184',\n",
       " 11015869: '11016184',\n",
       " 11015870: '11016184',\n",
       " 11015872: '11016184',\n",
       " 10561388: '10943252',\n",
       " 11015877: '11016184',\n",
       " 11015878: '11016184',\n",
       " 11015880: '11016184',\n",
       " 11015883: '11016184',\n",
       " 11015890: '11016184',\n",
       " 11015897: '11016184',\n",
       " 11015363: '11016184',\n",
       " 11019684: '11016184',\n",
       " 11016178: '11016184',\n",
       " 11019659: '11016184',\n",
       " 11019685: '11016184',\n",
       " 11019660: '11016184',\n",
       " 11015899: '11016184',\n",
       " 11019692: '11016184',\n",
       " 11015354: '11016184',\n",
       " 11015901: '11016184',\n",
       " 11015355: '11016184',\n",
       " 11015910: '11016184',\n",
       " 11015357: '11016184',\n",
       " 11019694: '11016184',\n",
       " 11019661: '11016184',\n",
       " 11019695: '11016184',\n",
       " 11019662: '11016184',\n",
       " 11019696: '11016184',\n",
       " 11019663: '11016184',\n",
       " 11019089: '11016184',\n",
       " 11015364: '11016184',\n",
       " 11015911: '11016184',\n",
       " 11015916: '11016184',\n",
       " 11015365: '11016184',\n",
       " 11015921: '11016184',\n",
       " 11015922: '11016184',\n",
       " 11015926: '11016184',\n",
       " 11015927: '11016184',\n",
       " 11015366: '11016184',\n",
       " 11019664: '11016184',\n",
       " 11015672: '11016184',\n",
       " 11015368: '11016184',\n",
       " 11015683: '11016184',\n",
       " 11015695: '11016184',\n",
       " 11019090: '11016184',\n",
       " 11015369: '11016184',\n",
       " 11019094: '11016184',\n",
       " 11019627: '11016184',\n",
       " 11015358: '11016184',\n",
       " 11015698: '11016184',\n",
       " 11015708: '11016184',\n",
       " 11015718: '11016184',\n",
       " 11019628: '11016184',\n",
       " 11015359: '11016184',\n",
       " 11019629: '11016184',\n",
       " 11019630: '11016184',\n",
       " 11015360: '11016184',\n",
       " 11015724: '11016184',\n",
       " 11015735: '11016184',\n",
       " 11015760: '11016184',\n",
       " 11019631: '11016184',\n",
       " 11019632: '11016184',\n",
       " 11019633: '11016184',\n",
       " 11015764: '11016184',\n",
       " 11019680: '11016184',\n",
       " 11015765: '11016184',\n",
       " 10102473: '10568358',\n",
       " 11015766: '11016184',\n",
       " 11019634: '11016184',\n",
       " 11019635: '11016184',\n",
       " 11019636: '11016184',\n",
       " 11019637: '11016184',\n",
       " 11019638: '11016184',\n",
       " 11019639: '11016184',\n",
       " 11019697: '11016184',\n",
       " 11019682: '11016184',\n",
       " 11015768: '11016184',\n",
       " 11015774: '11016184',\n",
       " 11019698: '11016184',\n",
       " 11015776: '11016184',\n",
       " 11015361: '11016184',\n",
       " 11019640: '11016184',\n",
       " 11019641: '11016184',\n",
       " 11019642: '11016184',\n",
       " 11015781: '11016184',\n",
       " 11019700: '11016184',\n",
       " 11015788: '11016184',\n",
       " 11015362: '11016184',\n",
       " 11015799: '11016184',\n",
       " 11015800: '11016184',\n",
       " 11014314: '11016184',\n",
       " 11019701: '11016184',\n",
       " 11019702: '11016184',\n",
       " 11019738: '11016184',\n",
       " 11016366: '11016184',\n",
       " 11017223: '11016184',\n",
       " 11017232: '11016184',\n",
       " 11017236: '11016184',\n",
       " 11017239: '11016184',\n",
       " 11017241: '11016184',\n",
       " 11017242: '11016184',\n",
       " 11017243: '11016184',\n",
       " 11017245: '11016184',\n",
       " 11017246: '11016184',\n",
       " 11017269: '11016184',\n",
       " 11017270: '11016184',\n",
       " 11017271: '11016184',\n",
       " 11017387: '11016184',\n",
       " 11017389: '11016184',\n",
       " 11017390: '11016184',\n",
       " 11017392: '11016184',\n",
       " 11017394: '11016184',\n",
       " 11018471: '11016184',\n",
       " 11017401: '11016184',\n",
       " 11017402: '11016184',\n",
       " 11018472: '11016184',\n",
       " 11017396: '11016184',\n",
       " 11017398: '11016184',\n",
       " 11017399: '11016184',\n",
       " 11017405: '11016184',\n",
       " 11018475: '11016184',\n",
       " 11017406: '11016184',\n",
       " 11018476: '11016184',\n",
       " 11017407: '11016184',\n",
       " 11018481: '11016184',\n",
       " 11018493: '11016184',\n",
       " 11018502: '11016184',\n",
       " 11017400: '11016184',\n",
       " 11018504: '11016184',\n",
       " 11018507: '11016184',\n",
       " 11018509: '11016184',\n",
       " 11018517: '11016184',\n",
       " 11017408: '11016184',\n",
       " 11017777: '11016184',\n",
       " 11017779: '11016184',\n",
       " 11017780: '11016184',\n",
       " 11017782: '11016184',\n",
       " 11017783: '11016184',\n",
       " 10664064: '10568358',\n",
       " 11017785: '11016184',\n",
       " 11017788: '11016184',\n",
       " 11017789: '11016184',\n",
       " 11017791: '11016184',\n",
       " 11017793: '11016184',\n",
       " 11018430: '11016184',\n",
       " 11016096: '11016184',\n",
       " 11016114: '11016184',\n",
       " 11016123: '11016184',\n",
       " 11016133: '11016184',\n",
       " 11016146: '11016184',\n",
       " 11016174: '11016184',\n",
       " 10561435: '10568358',\n",
       " 10561454: '10943252',\n",
       " 10561422: '10943252',\n",
       " 10777269: '10943393',\n",
       " 11157487: '10568358',\n",
       " 11160268: '10568358',\n",
       " 11160482: '10631239',\n",
       " 11160485: '10631239',\n",
       " 11141927: '10943252',\n",
       " 11157483: '10568358',\n",
       " 11158448: '10943393',\n",
       " 10820474: '10820474',\n",
       " 10048312: '10048312',\n",
       " 11126842: '10801177',\n",
       " 10135545: '10836144',\n",
       " 11052549: '10112299',\n",
       " 11052550: '10112299',\n",
       " 11052555: '10112299',\n",
       " 10043208: '10169745',\n",
       " 11052556: '11052538',\n",
       " 11052557: '10112299',\n",
       " 11052559: '10112299',\n",
       " 10043210: '20037334',\n",
       " 11052562: '10112299',\n",
       " 11052563: '10112299',\n",
       " 10325348: '10169745',\n",
       " 11052564: '10112299',\n",
       " 11052565: '11052538',\n",
       " 11052566: '10112299',\n",
       " 11052567: '10112299',\n",
       " 11052568: '10112299',\n",
       " 10043214: '10941576',\n",
       " 11052569: '11052538',\n",
       " 11052574: '10112299',\n",
       " 11052576: '10112299',\n",
       " 11052577: '10112299',\n",
       " 10043271: '10941576',\n",
       " 11052578: '10112299',\n",
       " 11052579: '11052538',\n",
       " 10326941: '10343507',\n",
       " 11052583: '10112299',\n",
       " 11052586: '10112299',\n",
       " 11052590: '10112299',\n",
       " 11052593: '10112299',\n",
       " 10323010: '10343507',\n",
       " 10420857: '10995989',\n",
       " 10421097: '10421097',\n",
       " 10049812: '10169745',\n",
       " 11052530: '10112299',\n",
       " 11052533: '10112299',\n",
       " ...}"
      ]
     },
     "execution_count": 93,
     "metadata": {},
     "output_type": "execute_result"
    }
   ],
   "source": [
    "item_to_cat3_top_map"
   ]
  },
  {
   "cell_type": "code",
   "execution_count": 94,
   "metadata": {},
   "outputs": [],
   "source": [
    "# Replace items with low freq with top items\n",
    "\n",
    "#new_recommendation_df=replace_recommendations(recommendation_df,item_to_cat3_top_map)\n",
    "#print(f\">> Replacde items with low freq with top items with {len(new_recommendation_df)} rows\")"
   ]
  },
  {
   "cell_type": "code",
   "execution_count": 95,
   "metadata": {},
   "outputs": [
    {
     "data": {
      "text/html": [
       "<div>\n",
       "<style scoped>\n",
       "    .dataframe tbody tr th:only-of-type {\n",
       "        vertical-align: middle;\n",
       "    }\n",
       "\n",
       "    .dataframe tbody tr th {\n",
       "        vertical-align: top;\n",
       "    }\n",
       "\n",
       "    .dataframe thead th {\n",
       "        text-align: right;\n",
       "    }\n",
       "</style>\n",
       "<table border=\"1\" class=\"dataframe\">\n",
       "  <thead>\n",
       "    <tr style=\"text-align: right;\">\n",
       "      <th></th>\n",
       "      <th>item_cde</th>\n",
       "      <th>Recommendation 1</th>\n",
       "      <th>Recommendation 2</th>\n",
       "      <th>Recommendation 3</th>\n",
       "      <th>Recommendation 4</th>\n",
       "      <th>Recommendation 5</th>\n",
       "      <th>frequency 1</th>\n",
       "      <th>frequency 2</th>\n",
       "      <th>frequency 3</th>\n",
       "      <th>frequency 4</th>\n",
       "      <th>frequency 5</th>\n",
       "    </tr>\n",
       "  </thead>\n",
       "  <tbody>\n",
       "    <tr>\n",
       "      <th>0</th>\n",
       "      <td>10298253</td>\n",
       "      <td>10301632</td>\n",
       "      <td>10802527</td>\n",
       "      <td>10302519</td>\n",
       "      <td>10735816</td>\n",
       "      <td>10735815</td>\n",
       "      <td>1303.0</td>\n",
       "      <td>154.0</td>\n",
       "      <td>692.0</td>\n",
       "      <td>285.0</td>\n",
       "      <td>159.0</td>\n",
       "    </tr>\n",
       "    <tr>\n",
       "      <th>1</th>\n",
       "      <td>10299390</td>\n",
       "      <td>10298253</td>\n",
       "      <td>10735814</td>\n",
       "      <td>10735815</td>\n",
       "      <td>10735817</td>\n",
       "      <td>10735816</td>\n",
       "      <td>281.0</td>\n",
       "      <td>CAT</td>\n",
       "      <td>CAT</td>\n",
       "      <td>CAT</td>\n",
       "      <td>CAT</td>\n",
       "    </tr>\n",
       "    <tr>\n",
       "      <th>2</th>\n",
       "      <td>10301632</td>\n",
       "      <td>10298253</td>\n",
       "      <td>10802527</td>\n",
       "      <td>10302519</td>\n",
       "      <td>10735817</td>\n",
       "      <td>10766056</td>\n",
       "      <td>1303.0</td>\n",
       "      <td>424.0</td>\n",
       "      <td>569.0</td>\n",
       "      <td>320.0</td>\n",
       "      <td>162.0</td>\n",
       "    </tr>\n",
       "    <tr>\n",
       "      <th>3</th>\n",
       "      <td>10302459</td>\n",
       "      <td>11136851</td>\n",
       "      <td>11136857</td>\n",
       "      <td>10735815</td>\n",
       "      <td>10802527</td>\n",
       "      <td>10735814</td>\n",
       "      <td>CAT</td>\n",
       "      <td>CAT</td>\n",
       "      <td>CAT</td>\n",
       "      <td>CAT</td>\n",
       "      <td>CAT</td>\n",
       "    </tr>\n",
       "    <tr>\n",
       "      <th>4</th>\n",
       "      <td>10302519</td>\n",
       "      <td>10298253</td>\n",
       "      <td>10301632</td>\n",
       "      <td>10802527</td>\n",
       "      <td>10299390</td>\n",
       "      <td>11136851</td>\n",
       "      <td>692.0</td>\n",
       "      <td>569.0</td>\n",
       "      <td>189.0</td>\n",
       "      <td>CAT</td>\n",
       "      <td>CAT</td>\n",
       "    </tr>\n",
       "    <tr>\n",
       "      <th>...</th>\n",
       "      <td>...</td>\n",
       "      <td>...</td>\n",
       "      <td>...</td>\n",
       "      <td>...</td>\n",
       "      <td>...</td>\n",
       "      <td>...</td>\n",
       "      <td>...</td>\n",
       "      <td>...</td>\n",
       "      <td>...</td>\n",
       "      <td>...</td>\n",
       "      <td>...</td>\n",
       "    </tr>\n",
       "    <tr>\n",
       "      <th>552</th>\n",
       "      <td>20099041</td>\n",
       "      <td>10766059</td>\n",
       "      <td>11142581</td>\n",
       "      <td>10735695</td>\n",
       "      <td>20015144</td>\n",
       "      <td>20099031</td>\n",
       "      <td>CAT</td>\n",
       "      <td>CAT</td>\n",
       "      <td>CAT</td>\n",
       "      <td>CAT</td>\n",
       "      <td>CAT</td>\n",
       "    </tr>\n",
       "    <tr>\n",
       "      <th>553</th>\n",
       "      <td>20099043</td>\n",
       "      <td>10735704</td>\n",
       "      <td>10735703</td>\n",
       "      <td>10735707</td>\n",
       "      <td>10735833</td>\n",
       "      <td>20099029</td>\n",
       "      <td>CAT</td>\n",
       "      <td>CAT</td>\n",
       "      <td>CAT</td>\n",
       "      <td>CAT</td>\n",
       "      <td>CAT</td>\n",
       "    </tr>\n",
       "    <tr>\n",
       "      <th>554</th>\n",
       "      <td>20099045</td>\n",
       "      <td>10755134</td>\n",
       "      <td>20099016</td>\n",
       "      <td>20099041</td>\n",
       "      <td>20099031</td>\n",
       "      <td>20099046</td>\n",
       "      <td>CAT</td>\n",
       "      <td>CAT</td>\n",
       "      <td>CAT</td>\n",
       "      <td>CAT</td>\n",
       "      <td>CAT</td>\n",
       "    </tr>\n",
       "    <tr>\n",
       "      <th>555</th>\n",
       "      <td>20099046</td>\n",
       "      <td>10735869</td>\n",
       "      <td>20099045</td>\n",
       "      <td>10735679</td>\n",
       "      <td>20099030</td>\n",
       "      <td>20099022</td>\n",
       "      <td>CAT</td>\n",
       "      <td>CAT</td>\n",
       "      <td>CAT</td>\n",
       "      <td>CAT</td>\n",
       "      <td>CAT</td>\n",
       "    </tr>\n",
       "    <tr>\n",
       "      <th>556</th>\n",
       "      <td>20099054</td>\n",
       "      <td>20099022</td>\n",
       "      <td>10735848</td>\n",
       "      <td>20015144</td>\n",
       "      <td>10735704</td>\n",
       "      <td>20099031</td>\n",
       "      <td>CAT</td>\n",
       "      <td>CAT</td>\n",
       "      <td>CAT</td>\n",
       "      <td>CAT</td>\n",
       "      <td>CAT</td>\n",
       "    </tr>\n",
       "  </tbody>\n",
       "</table>\n",
       "<p>557 rows × 11 columns</p>\n",
       "</div>"
      ],
      "text/plain": [
       "     item_cde Recommendation 1 Recommendation 2 Recommendation 3  \\\n",
       "0    10298253         10301632         10802527         10302519   \n",
       "1    10299390         10298253         10735814         10735815   \n",
       "2    10301632         10298253         10802527         10302519   \n",
       "3    10302459         11136851         11136857         10735815   \n",
       "4    10302519         10298253         10301632         10802527   \n",
       "..        ...              ...              ...              ...   \n",
       "552  20099041         10766059         11142581         10735695   \n",
       "553  20099043         10735704         10735703         10735707   \n",
       "554  20099045         10755134         20099016         20099041   \n",
       "555  20099046         10735869         20099045         10735679   \n",
       "556  20099054         20099022         10735848         20015144   \n",
       "\n",
       "    Recommendation 4 Recommendation 5 frequency 1 frequency 2 frequency 3  \\\n",
       "0           10735816         10735815      1303.0       154.0       692.0   \n",
       "1           10735817         10735816       281.0         CAT         CAT   \n",
       "2           10735817         10766056      1303.0       424.0       569.0   \n",
       "3           10802527         10735814         CAT         CAT         CAT   \n",
       "4           10299390         11136851       692.0       569.0       189.0   \n",
       "..               ...              ...         ...         ...         ...   \n",
       "552         20015144         20099031         CAT         CAT         CAT   \n",
       "553         10735833         20099029         CAT         CAT         CAT   \n",
       "554         20099031         20099046         CAT         CAT         CAT   \n",
       "555         20099030         20099022         CAT         CAT         CAT   \n",
       "556         10735704         20099031         CAT         CAT         CAT   \n",
       "\n",
       "    frequency 4 frequency 5  \n",
       "0         285.0       159.0  \n",
       "1           CAT         CAT  \n",
       "2         320.0       162.0  \n",
       "3           CAT         CAT  \n",
       "4           CAT         CAT  \n",
       "..          ...         ...  \n",
       "552         CAT         CAT  \n",
       "553         CAT         CAT  \n",
       "554         CAT         CAT  \n",
       "555         CAT         CAT  \n",
       "556         CAT         CAT  \n",
       "\n",
       "[557 rows x 11 columns]"
      ]
     },
     "execution_count": 95,
     "metadata": {},
     "output_type": "execute_result"
    }
   ],
   "source": [
    "recommendation_df"
   ]
  },
  {
   "cell_type": "markdown",
   "metadata": {},
   "source": [
    "# Cat 3 operations"
   ]
  },
  {
   "cell_type": "code",
   "execution_count": 96,
   "metadata": {},
   "outputs": [
    {
     "name": "stdout",
     "output_type": "stream",
     "text": [
      ">> Made cat3 level baskets for co-occurance size: 82733\n"
     ]
    }
   ],
   "source": [
    "# Make cat3 level baskets for co-occurance\n",
    "cat3_basket_365=replace_item_cde_with_cat3_set(flattened_basket_list_365, cat3_df)\n",
    "print(f\">> Made cat3 level baskets for co-occurance size: {len(cat3_basket_365)}\")"
   ]
  },
  {
   "cell_type": "code",
   "execution_count": 97,
   "metadata": {},
   "outputs": [
    {
     "name": "stderr",
     "output_type": "stream",
     "text": [
      "100%|██████████| 82733/82733 [00:00<00:00, 432251.71it/s]\n",
      "100%|██████████| 17/17 [00:00<00:00, 1082.65it/s]"
     ]
    },
    {
     "name": "stdout",
     "output_type": "stream",
     "text": [
      ">> Create co-occurance df for cat3 level df Length: 17\n"
     ]
    },
    {
     "name": "stderr",
     "output_type": "stream",
     "text": [
      "\n"
     ]
    }
   ],
   "source": [
    "# Create co-occurance df for cat3 level\n",
    "cat3_co_occurrence_matrix, cat3_recommendation_df=create_cooccurrence_matrix_with_recommendations(cat3_basket_365, top_n=5)\n",
    "print(f\">> Create co-occurance df for cat3 level df Length: {len(cat3_recommendation_df)}\")"
   ]
  },
  {
   "cell_type": "code",
   "execution_count": 98,
   "metadata": {},
   "outputs": [
    {
     "name": "stdout",
     "output_type": "stream",
     "text": [
      ">> Product+cat3 level df of Length: 897 rows\n"
     ]
    }
   ],
   "source": [
    "# Map cat3 and add cat3 level recos\n",
    "new_cat3_recommendation_df = map_and_add_recommendations(df, cat3_df, recommendation_df, cat3_recommendation_df,top_5_items_cat3)\n",
    "print(f\">> Product+cat3 level df of Length: {len(new_cat3_recommendation_df)} rows\")"
   ]
  },
  {
   "cell_type": "code",
   "execution_count": 99,
   "metadata": {},
   "outputs": [
    {
     "data": {
      "text/html": [
       "<div>\n",
       "<style scoped>\n",
       "    .dataframe tbody tr th:only-of-type {\n",
       "        vertical-align: middle;\n",
       "    }\n",
       "\n",
       "    .dataframe tbody tr th {\n",
       "        vertical-align: top;\n",
       "    }\n",
       "\n",
       "    .dataframe thead th {\n",
       "        text-align: right;\n",
       "    }\n",
       "</style>\n",
       "<table border=\"1\" class=\"dataframe\">\n",
       "  <thead>\n",
       "    <tr style=\"text-align: right;\">\n",
       "      <th></th>\n",
       "      <th>item_cde</th>\n",
       "      <th>Recommendation 1</th>\n",
       "      <th>Recommendation 2</th>\n",
       "      <th>Recommendation 3</th>\n",
       "      <th>Recommendation 4</th>\n",
       "      <th>Recommendation 5</th>\n",
       "      <th>frequency 1</th>\n",
       "      <th>frequency 2</th>\n",
       "      <th>frequency 3</th>\n",
       "      <th>frequency 4</th>\n",
       "      <th>frequency 5</th>\n",
       "    </tr>\n",
       "  </thead>\n",
       "  <tbody>\n",
       "    <tr>\n",
       "      <th>0</th>\n",
       "      <td>10298253</td>\n",
       "      <td>10301632</td>\n",
       "      <td>10802527</td>\n",
       "      <td>10302519</td>\n",
       "      <td>10735816</td>\n",
       "      <td>10735815</td>\n",
       "      <td>1303.0</td>\n",
       "      <td>154.0</td>\n",
       "      <td>692.0</td>\n",
       "      <td>285.0</td>\n",
       "      <td>159.0</td>\n",
       "    </tr>\n",
       "    <tr>\n",
       "      <th>1</th>\n",
       "      <td>10299390</td>\n",
       "      <td>10298253</td>\n",
       "      <td>10735814</td>\n",
       "      <td>10735815</td>\n",
       "      <td>10735817</td>\n",
       "      <td>10735816</td>\n",
       "      <td>281.0</td>\n",
       "      <td>CAT</td>\n",
       "      <td>CAT</td>\n",
       "      <td>CAT</td>\n",
       "      <td>CAT</td>\n",
       "    </tr>\n",
       "    <tr>\n",
       "      <th>2</th>\n",
       "      <td>10301632</td>\n",
       "      <td>10298253</td>\n",
       "      <td>10802527</td>\n",
       "      <td>10302519</td>\n",
       "      <td>10735817</td>\n",
       "      <td>10766056</td>\n",
       "      <td>1303.0</td>\n",
       "      <td>424.0</td>\n",
       "      <td>569.0</td>\n",
       "      <td>320.0</td>\n",
       "      <td>162.0</td>\n",
       "    </tr>\n",
       "    <tr>\n",
       "      <th>3</th>\n",
       "      <td>10302459</td>\n",
       "      <td>11136851</td>\n",
       "      <td>11136857</td>\n",
       "      <td>10735815</td>\n",
       "      <td>10802527</td>\n",
       "      <td>10735814</td>\n",
       "      <td>CAT</td>\n",
       "      <td>CAT</td>\n",
       "      <td>CAT</td>\n",
       "      <td>CAT</td>\n",
       "      <td>CAT</td>\n",
       "    </tr>\n",
       "    <tr>\n",
       "      <th>4</th>\n",
       "      <td>10302519</td>\n",
       "      <td>10298253</td>\n",
       "      <td>10301632</td>\n",
       "      <td>10802527</td>\n",
       "      <td>10299390</td>\n",
       "      <td>11136851</td>\n",
       "      <td>692.0</td>\n",
       "      <td>569.0</td>\n",
       "      <td>189.0</td>\n",
       "      <td>CAT</td>\n",
       "      <td>CAT</td>\n",
       "    </tr>\n",
       "    <tr>\n",
       "      <th>...</th>\n",
       "      <td>...</td>\n",
       "      <td>...</td>\n",
       "      <td>...</td>\n",
       "      <td>...</td>\n",
       "      <td>...</td>\n",
       "      <td>...</td>\n",
       "      <td>...</td>\n",
       "      <td>...</td>\n",
       "      <td>...</td>\n",
       "      <td>...</td>\n",
       "      <td>...</td>\n",
       "    </tr>\n",
       "    <tr>\n",
       "      <th>892</th>\n",
       "      <td>20029846</td>\n",
       "      <td>10735784</td>\n",
       "      <td>10298253</td>\n",
       "      <td>10872574</td>\n",
       "      <td>10766056</td>\n",
       "      <td>10735718</td>\n",
       "      <td>NaN</td>\n",
       "      <td>NaN</td>\n",
       "      <td>NaN</td>\n",
       "      <td>NaN</td>\n",
       "      <td>NaN</td>\n",
       "    </tr>\n",
       "    <tr>\n",
       "      <th>893</th>\n",
       "      <td>20029894</td>\n",
       "      <td>10735784</td>\n",
       "      <td>10298253</td>\n",
       "      <td>10872574</td>\n",
       "      <td>10766056</td>\n",
       "      <td>10735718</td>\n",
       "      <td>NaN</td>\n",
       "      <td>NaN</td>\n",
       "      <td>NaN</td>\n",
       "      <td>NaN</td>\n",
       "      <td>NaN</td>\n",
       "    </tr>\n",
       "    <tr>\n",
       "      <th>894</th>\n",
       "      <td>20030362</td>\n",
       "      <td>10735784</td>\n",
       "      <td>10298253</td>\n",
       "      <td>10872574</td>\n",
       "      <td>10766056</td>\n",
       "      <td>10735718</td>\n",
       "      <td>NaN</td>\n",
       "      <td>NaN</td>\n",
       "      <td>NaN</td>\n",
       "      <td>NaN</td>\n",
       "      <td>NaN</td>\n",
       "    </tr>\n",
       "    <tr>\n",
       "      <th>895</th>\n",
       "      <td>20030380</td>\n",
       "      <td>10735784</td>\n",
       "      <td>10298253</td>\n",
       "      <td>10872574</td>\n",
       "      <td>10766056</td>\n",
       "      <td>10735718</td>\n",
       "      <td>NaN</td>\n",
       "      <td>NaN</td>\n",
       "      <td>NaN</td>\n",
       "      <td>NaN</td>\n",
       "      <td>NaN</td>\n",
       "    </tr>\n",
       "    <tr>\n",
       "      <th>896</th>\n",
       "      <td>20073418</td>\n",
       "      <td>10735718</td>\n",
       "      <td>10755118</td>\n",
       "      <td>10735784</td>\n",
       "      <td>20015142</td>\n",
       "      <td>10947872</td>\n",
       "      <td>NaN</td>\n",
       "      <td>NaN</td>\n",
       "      <td>NaN</td>\n",
       "      <td>NaN</td>\n",
       "      <td>NaN</td>\n",
       "    </tr>\n",
       "  </tbody>\n",
       "</table>\n",
       "<p>897 rows × 11 columns</p>\n",
       "</div>"
      ],
      "text/plain": [
       "     item_cde Recommendation 1 Recommendation 2 Recommendation 3  \\\n",
       "0    10298253         10301632         10802527         10302519   \n",
       "1    10299390         10298253         10735814         10735815   \n",
       "2    10301632         10298253         10802527         10302519   \n",
       "3    10302459         11136851         11136857         10735815   \n",
       "4    10302519         10298253         10301632         10802527   \n",
       "..        ...              ...              ...              ...   \n",
       "892  20029846         10735784         10298253         10872574   \n",
       "893  20029894         10735784         10298253         10872574   \n",
       "894  20030362         10735784         10298253         10872574   \n",
       "895  20030380         10735784         10298253         10872574   \n",
       "896  20073418         10735718         10755118         10735784   \n",
       "\n",
       "    Recommendation 4 Recommendation 5 frequency 1 frequency 2 frequency 3  \\\n",
       "0           10735816         10735815      1303.0       154.0       692.0   \n",
       "1           10735817         10735816       281.0         CAT         CAT   \n",
       "2           10735817         10766056      1303.0       424.0       569.0   \n",
       "3           10802527         10735814         CAT         CAT         CAT   \n",
       "4           10299390         11136851       692.0       569.0       189.0   \n",
       "..               ...              ...         ...         ...         ...   \n",
       "892         10766056         10735718         NaN         NaN         NaN   \n",
       "893         10766056         10735718         NaN         NaN         NaN   \n",
       "894         10766056         10735718         NaN         NaN         NaN   \n",
       "895         10766056         10735718         NaN         NaN         NaN   \n",
       "896         20015142         10947872         NaN         NaN         NaN   \n",
       "\n",
       "    frequency 4 frequency 5  \n",
       "0         285.0       159.0  \n",
       "1           CAT         CAT  \n",
       "2         320.0       162.0  \n",
       "3           CAT         CAT  \n",
       "4           CAT         CAT  \n",
       "..          ...         ...  \n",
       "892         NaN         NaN  \n",
       "893         NaN         NaN  \n",
       "894         NaN         NaN  \n",
       "895         NaN         NaN  \n",
       "896         NaN         NaN  \n",
       "\n",
       "[897 rows x 11 columns]"
      ]
     },
     "execution_count": 99,
     "metadata": {},
     "output_type": "execute_result"
    }
   ],
   "source": [
    "new_cat3_recommendation_df"
   ]
  },
  {
   "cell_type": "code",
   "execution_count": 100,
   "metadata": {},
   "outputs": [],
   "source": [
    "#new_cat3_recommendation_df.to_csv('new_cat3_recommendation_df_with_item_cde.csv',index=False)"
   ]
  },
  {
   "cell_type": "markdown",
   "metadata": {},
   "source": [
    "# Cat 1 Operations"
   ]
  },
  {
   "cell_type": "code",
   "execution_count": 101,
   "metadata": {},
   "outputs": [
    {
     "name": "stdout",
     "output_type": "stream",
     "text": [
      ">> Made cat1 level baskets for co-occurance size: 82733\n"
     ]
    }
   ],
   "source": [
    "# Make cat1 level baskets for co-occurance\n",
    "cat1_basket_365=replace_item_cde_with_cat3_set(flattened_basket_list_365, cat1_df)\n",
    "print(f\">> Made cat1 level baskets for co-occurance size: {len(cat1_basket_365)}\")"
   ]
  },
  {
   "cell_type": "code",
   "execution_count": 102,
   "metadata": {},
   "outputs": [
    {
     "name": "stderr",
     "output_type": "stream",
     "text": [
      "100%|██████████| 82733/82733 [00:00<00:00, 511279.37it/s]\n",
      "100%|██████████| 7/7 [00:00<?, ?it/s]"
     ]
    },
    {
     "name": "stdout",
     "output_type": "stream",
     "text": [
      ">> Create co-occurance df for cat3 level df Length: 7\n"
     ]
    },
    {
     "name": "stderr",
     "output_type": "stream",
     "text": [
      "\n"
     ]
    }
   ],
   "source": [
    "# Create co-occurance df for cat1 level\n",
    "cat1_co_occurrence_matrix, cat1_recommendation_df=create_cooccurrence_matrix_with_recommendations(cat1_basket_365, top_n=5)\n",
    "print(f\">> Create co-occurance df for cat3 level df Length: {len(cat1_recommendation_df)}\")"
   ]
  },
  {
   "cell_type": "code",
   "execution_count": 103,
   "metadata": {},
   "outputs": [
    {
     "data": {
      "text/html": [
       "<div>\n",
       "<style scoped>\n",
       "    .dataframe tbody tr th:only-of-type {\n",
       "        vertical-align: middle;\n",
       "    }\n",
       "\n",
       "    .dataframe tbody tr th {\n",
       "        vertical-align: top;\n",
       "    }\n",
       "\n",
       "    .dataframe thead th {\n",
       "        text-align: right;\n",
       "    }\n",
       "</style>\n",
       "<table border=\"1\" class=\"dataframe\">\n",
       "  <thead>\n",
       "    <tr style=\"text-align: right;\">\n",
       "      <th></th>\n",
       "      <th>Recommendation 1</th>\n",
       "      <th>Recommendation 2</th>\n",
       "      <th>Recommendation 3</th>\n",
       "      <th>Recommendation 4</th>\n",
       "      <th>Recommendation 5</th>\n",
       "    </tr>\n",
       "  </thead>\n",
       "  <tbody>\n",
       "    <tr>\n",
       "      <th>Coated Freesheet</th>\n",
       "      <td>Uncoated Freesheet</td>\n",
       "      <td>Envelopes</td>\n",
       "      <td>Pressure Sensitive</td>\n",
       "      <td>Synthetics</td>\n",
       "      <td>Wide Format</td>\n",
       "    </tr>\n",
       "    <tr>\n",
       "      <th>Envelopes</th>\n",
       "      <td>Coated Freesheet</td>\n",
       "      <td>Uncoated Freesheet</td>\n",
       "      <td>Pressure Sensitive</td>\n",
       "      <td>Synthetics</td>\n",
       "      <td>Wide Format</td>\n",
       "    </tr>\n",
       "    <tr>\n",
       "      <th>Pressure Sensitive</th>\n",
       "      <td>Coated Freesheet</td>\n",
       "      <td>Uncoated Freesheet</td>\n",
       "      <td>Envelopes</td>\n",
       "      <td>Synthetics</td>\n",
       "      <td>Wide Format</td>\n",
       "    </tr>\n",
       "    <tr>\n",
       "      <th>Specialty</th>\n",
       "      <td>Coated Freesheet</td>\n",
       "      <td>Uncoated Freesheet</td>\n",
       "      <td>Pressure Sensitive</td>\n",
       "      <td>NaN</td>\n",
       "      <td>NaN</td>\n",
       "    </tr>\n",
       "    <tr>\n",
       "      <th>Synthetics</th>\n",
       "      <td>Coated Freesheet</td>\n",
       "      <td>Uncoated Freesheet</td>\n",
       "      <td>Envelopes</td>\n",
       "      <td>Pressure Sensitive</td>\n",
       "      <td>Wide Format</td>\n",
       "    </tr>\n",
       "    <tr>\n",
       "      <th>Uncoated Freesheet</th>\n",
       "      <td>Coated Freesheet</td>\n",
       "      <td>Envelopes</td>\n",
       "      <td>Pressure Sensitive</td>\n",
       "      <td>Synthetics</td>\n",
       "      <td>Wide Format</td>\n",
       "    </tr>\n",
       "    <tr>\n",
       "      <th>Wide Format</th>\n",
       "      <td>Uncoated Freesheet</td>\n",
       "      <td>Coated Freesheet</td>\n",
       "      <td>Envelopes</td>\n",
       "      <td>Pressure Sensitive</td>\n",
       "      <td>Synthetics</td>\n",
       "    </tr>\n",
       "  </tbody>\n",
       "</table>\n",
       "</div>"
      ],
      "text/plain": [
       "                      Recommendation 1    Recommendation 2  \\\n",
       "Coated Freesheet    Uncoated Freesheet           Envelopes   \n",
       "Envelopes             Coated Freesheet  Uncoated Freesheet   \n",
       "Pressure Sensitive    Coated Freesheet  Uncoated Freesheet   \n",
       "Specialty             Coated Freesheet  Uncoated Freesheet   \n",
       "Synthetics            Coated Freesheet  Uncoated Freesheet   \n",
       "Uncoated Freesheet    Coated Freesheet           Envelopes   \n",
       "Wide Format         Uncoated Freesheet    Coated Freesheet   \n",
       "\n",
       "                      Recommendation 3    Recommendation 4 Recommendation 5  \n",
       "Coated Freesheet    Pressure Sensitive          Synthetics      Wide Format  \n",
       "Envelopes           Pressure Sensitive          Synthetics      Wide Format  \n",
       "Pressure Sensitive           Envelopes          Synthetics      Wide Format  \n",
       "Specialty           Pressure Sensitive                 NaN              NaN  \n",
       "Synthetics                   Envelopes  Pressure Sensitive      Wide Format  \n",
       "Uncoated Freesheet  Pressure Sensitive          Synthetics      Wide Format  \n",
       "Wide Format                  Envelopes  Pressure Sensitive       Synthetics  "
      ]
     },
     "execution_count": 103,
     "metadata": {},
     "output_type": "execute_result"
    }
   ],
   "source": [
    "cat1_recommendation_df"
   ]
  },
  {
   "cell_type": "code",
   "execution_count": 104,
   "metadata": {},
   "outputs": [
    {
     "name": "stdout",
     "output_type": "stream",
     "text": [
      ">> Product+cat1+cat3 level df of Length: 936 rows\n"
     ]
    }
   ],
   "source": [
    "# Map cat1 and add cat3 level recos\n",
    "new_cat1_recommendation_df = map_and_add_recommendations_cat1(df, cat1_df, new_cat3_recommendation_df, cat1_recommendation_df, top_5_items_cat1)\n",
    "print(f\">> Product+cat1+cat3 level df of Length: {len(new_cat1_recommendation_df)} rows\")"
   ]
  },
  {
   "cell_type": "code",
   "execution_count": 105,
   "metadata": {},
   "outputs": [
    {
     "data": {
      "text/html": [
       "<div>\n",
       "<style scoped>\n",
       "    .dataframe tbody tr th:only-of-type {\n",
       "        vertical-align: middle;\n",
       "    }\n",
       "\n",
       "    .dataframe tbody tr th {\n",
       "        vertical-align: top;\n",
       "    }\n",
       "\n",
       "    .dataframe thead th {\n",
       "        text-align: right;\n",
       "    }\n",
       "</style>\n",
       "<table border=\"1\" class=\"dataframe\">\n",
       "  <thead>\n",
       "    <tr style=\"text-align: right;\">\n",
       "      <th></th>\n",
       "      <th>item_cde</th>\n",
       "      <th>Recommendation 1</th>\n",
       "      <th>Recommendation 2</th>\n",
       "      <th>Recommendation 3</th>\n",
       "      <th>Recommendation 4</th>\n",
       "      <th>Recommendation 5</th>\n",
       "      <th>frequency 1</th>\n",
       "      <th>frequency 2</th>\n",
       "      <th>frequency 3</th>\n",
       "      <th>frequency 4</th>\n",
       "      <th>frequency 5</th>\n",
       "    </tr>\n",
       "  </thead>\n",
       "  <tbody>\n",
       "    <tr>\n",
       "      <th>0</th>\n",
       "      <td>10298253</td>\n",
       "      <td>10301632</td>\n",
       "      <td>10802527</td>\n",
       "      <td>10302519</td>\n",
       "      <td>10735816</td>\n",
       "      <td>10735815</td>\n",
       "      <td>1303.0</td>\n",
       "      <td>154.0</td>\n",
       "      <td>692.0</td>\n",
       "      <td>285.0</td>\n",
       "      <td>159.0</td>\n",
       "    </tr>\n",
       "    <tr>\n",
       "      <th>1</th>\n",
       "      <td>10299390</td>\n",
       "      <td>10298253</td>\n",
       "      <td>10735814</td>\n",
       "      <td>10735815</td>\n",
       "      <td>10735817</td>\n",
       "      <td>10735816</td>\n",
       "      <td>281.0</td>\n",
       "      <td>CAT</td>\n",
       "      <td>CAT</td>\n",
       "      <td>CAT</td>\n",
       "      <td>CAT</td>\n",
       "    </tr>\n",
       "    <tr>\n",
       "      <th>2</th>\n",
       "      <td>10301632</td>\n",
       "      <td>10298253</td>\n",
       "      <td>10802527</td>\n",
       "      <td>10302519</td>\n",
       "      <td>10735817</td>\n",
       "      <td>10766056</td>\n",
       "      <td>1303.0</td>\n",
       "      <td>424.0</td>\n",
       "      <td>569.0</td>\n",
       "      <td>320.0</td>\n",
       "      <td>162.0</td>\n",
       "    </tr>\n",
       "    <tr>\n",
       "      <th>3</th>\n",
       "      <td>10302459</td>\n",
       "      <td>11136851</td>\n",
       "      <td>11136857</td>\n",
       "      <td>10735815</td>\n",
       "      <td>10802527</td>\n",
       "      <td>10735814</td>\n",
       "      <td>CAT</td>\n",
       "      <td>CAT</td>\n",
       "      <td>CAT</td>\n",
       "      <td>CAT</td>\n",
       "      <td>CAT</td>\n",
       "    </tr>\n",
       "    <tr>\n",
       "      <th>4</th>\n",
       "      <td>10302519</td>\n",
       "      <td>10298253</td>\n",
       "      <td>10301632</td>\n",
       "      <td>10802527</td>\n",
       "      <td>10299390</td>\n",
       "      <td>11136851</td>\n",
       "      <td>692.0</td>\n",
       "      <td>569.0</td>\n",
       "      <td>189.0</td>\n",
       "      <td>CAT</td>\n",
       "      <td>CAT</td>\n",
       "    </tr>\n",
       "    <tr>\n",
       "      <th>...</th>\n",
       "      <td>...</td>\n",
       "      <td>...</td>\n",
       "      <td>...</td>\n",
       "      <td>...</td>\n",
       "      <td>...</td>\n",
       "      <td>...</td>\n",
       "      <td>...</td>\n",
       "      <td>...</td>\n",
       "      <td>...</td>\n",
       "      <td>...</td>\n",
       "      <td>...</td>\n",
       "    </tr>\n",
       "    <tr>\n",
       "      <th>931</th>\n",
       "      <td>20014557</td>\n",
       "      <td>10735718</td>\n",
       "      <td>10298253</td>\n",
       "      <td>10990077</td>\n",
       "      <td></td>\n",
       "      <td></td>\n",
       "      <td>NaN</td>\n",
       "      <td>NaN</td>\n",
       "      <td>NaN</td>\n",
       "      <td>NaN</td>\n",
       "      <td>NaN</td>\n",
       "    </tr>\n",
       "    <tr>\n",
       "      <th>932</th>\n",
       "      <td>20046242</td>\n",
       "      <td>10735718</td>\n",
       "      <td>10298253</td>\n",
       "      <td>10990077</td>\n",
       "      <td></td>\n",
       "      <td></td>\n",
       "      <td>NaN</td>\n",
       "      <td>NaN</td>\n",
       "      <td>NaN</td>\n",
       "      <td>NaN</td>\n",
       "      <td>NaN</td>\n",
       "    </tr>\n",
       "    <tr>\n",
       "      <th>933</th>\n",
       "      <td>20046068</td>\n",
       "      <td>10735718</td>\n",
       "      <td>10298253</td>\n",
       "      <td>10990077</td>\n",
       "      <td></td>\n",
       "      <td></td>\n",
       "      <td>NaN</td>\n",
       "      <td>NaN</td>\n",
       "      <td>NaN</td>\n",
       "      <td>NaN</td>\n",
       "      <td>NaN</td>\n",
       "    </tr>\n",
       "    <tr>\n",
       "      <th>934</th>\n",
       "      <td>20045610</td>\n",
       "      <td>10735718</td>\n",
       "      <td>10298253</td>\n",
       "      <td>10990077</td>\n",
       "      <td></td>\n",
       "      <td></td>\n",
       "      <td>NaN</td>\n",
       "      <td>NaN</td>\n",
       "      <td>NaN</td>\n",
       "      <td>NaN</td>\n",
       "      <td>NaN</td>\n",
       "    </tr>\n",
       "    <tr>\n",
       "      <th>935</th>\n",
       "      <td>20045342</td>\n",
       "      <td>10735718</td>\n",
       "      <td>10298253</td>\n",
       "      <td>10990077</td>\n",
       "      <td></td>\n",
       "      <td></td>\n",
       "      <td>NaN</td>\n",
       "      <td>NaN</td>\n",
       "      <td>NaN</td>\n",
       "      <td>NaN</td>\n",
       "      <td>NaN</td>\n",
       "    </tr>\n",
       "  </tbody>\n",
       "</table>\n",
       "<p>936 rows × 11 columns</p>\n",
       "</div>"
      ],
      "text/plain": [
       "     item_cde Recommendation 1 Recommendation 2 Recommendation 3  \\\n",
       "0    10298253         10301632         10802527         10302519   \n",
       "1    10299390         10298253         10735814         10735815   \n",
       "2    10301632         10298253         10802527         10302519   \n",
       "3    10302459         11136851         11136857         10735815   \n",
       "4    10302519         10298253         10301632         10802527   \n",
       "..        ...              ...              ...              ...   \n",
       "931  20014557         10735718         10298253         10990077   \n",
       "932  20046242         10735718         10298253         10990077   \n",
       "933  20046068         10735718         10298253         10990077   \n",
       "934  20045610         10735718         10298253         10990077   \n",
       "935  20045342         10735718         10298253         10990077   \n",
       "\n",
       "    Recommendation 4 Recommendation 5 frequency 1 frequency 2 frequency 3  \\\n",
       "0           10735816         10735815      1303.0       154.0       692.0   \n",
       "1           10735817         10735816       281.0         CAT         CAT   \n",
       "2           10735817         10766056      1303.0       424.0       569.0   \n",
       "3           10802527         10735814         CAT         CAT         CAT   \n",
       "4           10299390         11136851       692.0       569.0       189.0   \n",
       "..               ...              ...         ...         ...         ...   \n",
       "931                                           NaN         NaN         NaN   \n",
       "932                                           NaN         NaN         NaN   \n",
       "933                                           NaN         NaN         NaN   \n",
       "934                                           NaN         NaN         NaN   \n",
       "935                                           NaN         NaN         NaN   \n",
       "\n",
       "    frequency 4 frequency 5  \n",
       "0         285.0       159.0  \n",
       "1           CAT         CAT  \n",
       "2         320.0       162.0  \n",
       "3           CAT         CAT  \n",
       "4           CAT         CAT  \n",
       "..          ...         ...  \n",
       "931         NaN         NaN  \n",
       "932         NaN         NaN  \n",
       "933         NaN         NaN  \n",
       "934         NaN         NaN  \n",
       "935         NaN         NaN  \n",
       "\n",
       "[936 rows x 11 columns]"
      ]
     },
     "execution_count": 105,
     "metadata": {},
     "output_type": "execute_result"
    }
   ],
   "source": [
    "new_cat1_recommendation_df"
   ]
  },
  {
   "cell_type": "markdown",
   "metadata": {},
   "source": [
    "# Reorder private items"
   ]
  },
  {
   "cell_type": "code",
   "execution_count": 106,
   "metadata": {},
   "outputs": [
    {
     "name": "stdout",
     "output_type": "stream",
     "text": [
      ">> Connected to database\n"
     ]
    }
   ],
   "source": [
    "conn = connect_db()\n",
    "print(\">> Connected to database\")"
   ]
  },
  {
   "cell_type": "code",
   "execution_count": 107,
   "metadata": {},
   "outputs": [
    {
     "name": "stdout",
     "output_type": "stream",
     "text": [
      ">> Fetched the private label data containing 4284 rows\n"
     ]
    }
   ],
   "source": [
    "# Get private label information\n",
    "private_l_df = fetch_private_label_data(conn, df)\n",
    "print(f\">> Fetched the private label data containing {len(private_l_df)} rows\")"
   ]
  },
  {
   "cell_type": "code",
   "execution_count": 108,
   "metadata": {},
   "outputs": [
    {
     "data": {
      "text/plain": [
       "private_label_sw\n",
       "N    2568\n",
       "Y    1715\n",
       "Name: count, dtype: int64"
      ]
     },
     "execution_count": 108,
     "metadata": {},
     "output_type": "execute_result"
    }
   ],
   "source": [
    "private_l_df['private_label_sw'].value_counts ()"
   ]
  },
  {
   "cell_type": "code",
   "execution_count": 109,
   "metadata": {},
   "outputs": [
    {
     "name": "stdout",
     "output_type": "stream",
     "text": [
      ">> Re-ordered the private label data containing 936 rows\n"
     ]
    }
   ],
   "source": [
    "# Re-order private items to top\n",
    "reorder_private_df = reorder_recommendations(new_cat1_recommendation_df, private_l_df)\n",
    "print(f\">> Re-ordered the private label data containing {len(reorder_private_df)} rows\")"
   ]
  },
  {
   "cell_type": "code",
   "execution_count": 110,
   "metadata": {},
   "outputs": [
    {
     "name": "stdout",
     "output_type": "stream",
     "text": [
      ">> Connected to database\n"
     ]
    }
   ],
   "source": [
    "conn = connect_db()\n",
    "print(\">> Connected to database\")"
   ]
  },
  {
   "cell_type": "code",
   "execution_count": 111,
   "metadata": {},
   "outputs": [
    {
     "name": "stdout",
     "output_type": "stream",
     "text": [
      ">>Fetched item descriptions data containing 936 rows\n"
     ]
    }
   ],
   "source": [
    "# Get item descriptions\n",
    "item_desc_df=fetch_item_descriptions(conn,df)\n",
    "print(f\">>Fetched item descriptions data containing {len(reorder_private_df)} rows\")"
   ]
  },
  {
   "cell_type": "code",
   "execution_count": 112,
   "metadata": {},
   "outputs": [],
   "source": [
    "#Select columns\n",
    "reorder_df=reorder_private_df[['item_cde','Recommendation 1','Recommendation 2','Recommendation 3','Recommendation 4','Recommendation 5']]"
   ]
  },
  {
   "cell_type": "code",
   "execution_count": 113,
   "metadata": {},
   "outputs": [
    {
     "name": "stdout",
     "output_type": "stream",
     "text": [
      ">>Removed duplicate recommendations and self-references data containing 936 rows\n"
     ]
    }
   ],
   "source": [
    "# Remove duplicate recommendations and self-references\n",
    "reorder_df_cleaned = remove_duplicate_and_self_references(reorder_df)\n",
    "print(f\">>Removed duplicate recommendations and self-references data containing {len(reorder_df_cleaned)} rows\")"
   ]
  },
  {
   "cell_type": "code",
   "execution_count": 114,
   "metadata": {},
   "outputs": [
    {
     "name": "stdout",
     "output_type": "stream",
     "text": [
      ">>Shift non empty recommendations data containing 936 rows\n"
     ]
    }
   ],
   "source": [
    "#Shift non empty recommendations to left\n",
    "reorder_shift_left=shift_recommendations_left(reorder_df_cleaned)\n",
    "print(f\">>Shift non empty recommendations data containing {len(reorder_shift_left)} rows\")"
   ]
  },
  {
   "cell_type": "markdown",
   "metadata": {},
   "source": [
    "# Atleast 2 recommendation (Katie's request)"
   ]
  },
  {
   "cell_type": "code",
   "execution_count": 115,
   "metadata": {},
   "outputs": [
    {
     "name": "stdout",
     "output_type": "stream",
     "text": [
      ">>Items with less than 2 recommendations are Length: 2 rows\n"
     ]
    }
   ],
   "source": [
    "#Check # of rows with less trhan 2 recommendation\n",
    "rows_with_0_or_1_recommendation = copy_rows_with_0_or_1_recommendation(reorder_shift_left)\n",
    "print(f\">>Items with less than 2 recommendations are Length: {len(rows_with_0_or_1_recommendation)} rows\")"
   ]
  },
  {
   "cell_type": "code",
   "execution_count": 116,
   "metadata": {},
   "outputs": [
    {
     "name": "stdout",
     "output_type": "stream",
     "text": [
      ">>Items with less than 3 recommendations are Length: 8 rows\n"
     ]
    }
   ],
   "source": [
    "rows_with_0_to_2_recommendation = copy_rows_with_0_to_2_recommendation(reorder_shift_left)\n",
    "print(f\">>Items with less than 3 recommendations are Length: {len(rows_with_0_to_2_recommendation)} rows\")"
   ]
  },
  {
   "cell_type": "code",
   "execution_count": 117,
   "metadata": {},
   "outputs": [],
   "source": [
    "#Make atleast 2 recommendations\n",
    "#updated_reorder_df = add_recommendations2(reorder_shift_left, cat3_df, top_5_items_cat3, cat1_df, top_5_items_cat1)\n",
    "#print(f\">>Atleast two recommendations added for data with {len(updated_reorder_df)} rows\")"
   ]
  },
  {
   "cell_type": "code",
   "execution_count": 118,
   "metadata": {},
   "outputs": [
    {
     "name": "stdout",
     "output_type": "stream",
     "text": [
      ">>Atleast three recommendations added for data with 936 rows\n"
     ]
    }
   ],
   "source": [
    "updated_reorder_df = minimum_three_recommendations(reorder_df, cat3_df, top_5_items_cat3, cat1_df, top_5_items_cat1)\n",
    "print(f\">>Atleast three recommendations added for data with {len(updated_reorder_df)} rows\")"
   ]
  },
  {
   "cell_type": "markdown",
   "metadata": {},
   "source": [
    "# Check if updated df has any less than 2 reco rows"
   ]
  },
  {
   "cell_type": "code",
   "execution_count": 119,
   "metadata": {},
   "outputs": [
    {
     "name": "stdout",
     "output_type": "stream",
     "text": [
      ">>Length of data with less than 2 recommendations 0 rows\n"
     ]
    }
   ],
   "source": [
    "rows_with_0_to_2_recommendation = copy_rows_with_0_to_2_recommendation(updated_reorder_df)\n",
    "print(f\">>Length of data with less than 2 recommendations {len(rows_with_0_to_2_recommendation)} rows\")"
   ]
  },
  {
   "cell_type": "code",
   "execution_count": 120,
   "metadata": {},
   "outputs": [
    {
     "name": "stdout",
     "output_type": "stream",
     "text": [
      ">>Unique check column added for data with 936 rows\n"
     ]
    }
   ],
   "source": [
    "# Add unique check column to ensure every recommendation is unique in a given row\n",
    "updated_reorder_df['unique_check'] = updated_reorder_df.apply(are_values_unique, axis=1)\n",
    "print(f\">>Unique check column added for data with {len(updated_reorder_df)} rows\")"
   ]
  },
  {
   "cell_type": "code",
   "execution_count": 121,
   "metadata": {},
   "outputs": [],
   "source": [
    "#updated_reorder_df.to_csv('unique_updated_reorder_df_min2_recos.csv')"
   ]
  },
  {
   "cell_type": "code",
   "execution_count": 122,
   "metadata": {},
   "outputs": [
    {
     "name": "stdout",
     "output_type": "stream",
     "text": [
      ">> Transform the recommendations, new Length 4680 rows, which is 5 times 936 (Prev length)\n"
     ]
    }
   ],
   "source": [
    "# Transform the recommendations row-wise\n",
    "transformed_df = transform_recommendations(updated_reorder_df)\n",
    "print(f\">> Transform the recommendations, new Length {len(transformed_df)} rows, which is 5 times {len(new_cat1_recommendation_df)} (Prev length)\")"
   ]
  },
  {
   "cell_type": "code",
   "execution_count": 123,
   "metadata": {},
   "outputs": [
    {
     "name": "stdout",
     "output_type": "stream",
     "text": [
      ">>Data after removing empty related items have 4647 rows\n"
     ]
    }
   ],
   "source": [
    "# Remove empty items from related items column\n",
    "nonempty_transformed_df=remove_empty_related_items(transformed_df)\n",
    "print(f\">>Data after removing empty related items have {len(nonempty_transformed_df)} rows\")"
   ]
  },
  {
   "cell_type": "code",
   "execution_count": 124,
   "metadata": {},
   "outputs": [
    {
     "data": {
      "text/html": [
       "<div>\n",
       "<style scoped>\n",
       "    .dataframe tbody tr th:only-of-type {\n",
       "        vertical-align: middle;\n",
       "    }\n",
       "\n",
       "    .dataframe tbody tr th {\n",
       "        vertical-align: top;\n",
       "    }\n",
       "\n",
       "    .dataframe thead th {\n",
       "        text-align: right;\n",
       "    }\n",
       "</style>\n",
       "<table border=\"1\" class=\"dataframe\">\n",
       "  <thead>\n",
       "    <tr style=\"text-align: right;\">\n",
       "      <th></th>\n",
       "      <th>Primary Item Number</th>\n",
       "      <th>Related Item Number</th>\n",
       "    </tr>\n",
       "  </thead>\n",
       "  <tbody>\n",
       "    <tr>\n",
       "      <th>0</th>\n",
       "      <td>10298253</td>\n",
       "      <td>10301632</td>\n",
       "    </tr>\n",
       "    <tr>\n",
       "      <th>1</th>\n",
       "      <td>10298253</td>\n",
       "      <td>10802527</td>\n",
       "    </tr>\n",
       "    <tr>\n",
       "      <th>2</th>\n",
       "      <td>10298253</td>\n",
       "      <td>10302519</td>\n",
       "    </tr>\n",
       "    <tr>\n",
       "      <th>3</th>\n",
       "      <td>10298253</td>\n",
       "      <td>10735816</td>\n",
       "    </tr>\n",
       "    <tr>\n",
       "      <th>4</th>\n",
       "      <td>10298253</td>\n",
       "      <td>10735815</td>\n",
       "    </tr>\n",
       "    <tr>\n",
       "      <th>...</th>\n",
       "      <td>...</td>\n",
       "      <td>...</td>\n",
       "    </tr>\n",
       "    <tr>\n",
       "      <th>4671</th>\n",
       "      <td>20045610</td>\n",
       "      <td>10298253</td>\n",
       "    </tr>\n",
       "    <tr>\n",
       "      <th>4672</th>\n",
       "      <td>20045610</td>\n",
       "      <td>10990077</td>\n",
       "    </tr>\n",
       "    <tr>\n",
       "      <th>4675</th>\n",
       "      <td>20045342</td>\n",
       "      <td>10735718</td>\n",
       "    </tr>\n",
       "    <tr>\n",
       "      <th>4676</th>\n",
       "      <td>20045342</td>\n",
       "      <td>10298253</td>\n",
       "    </tr>\n",
       "    <tr>\n",
       "      <th>4677</th>\n",
       "      <td>20045342</td>\n",
       "      <td>10990077</td>\n",
       "    </tr>\n",
       "  </tbody>\n",
       "</table>\n",
       "<p>4647 rows × 2 columns</p>\n",
       "</div>"
      ],
      "text/plain": [
       "     Primary Item Number Related Item Number\n",
       "0               10298253            10301632\n",
       "1               10298253            10802527\n",
       "2               10298253            10302519\n",
       "3               10298253            10735816\n",
       "4               10298253            10735815\n",
       "...                  ...                 ...\n",
       "4671            20045610            10298253\n",
       "4672            20045610            10990077\n",
       "4675            20045342            10735718\n",
       "4676            20045342            10298253\n",
       "4677            20045342            10990077\n",
       "\n",
       "[4647 rows x 2 columns]"
      ]
     },
     "execution_count": 124,
     "metadata": {},
     "output_type": "execute_result"
    }
   ],
   "source": [
    "nonempty_transformed_df"
   ]
  },
  {
   "cell_type": "code",
   "execution_count": 125,
   "metadata": {},
   "outputs": [
    {
     "data": {
      "text/plain": [
       "str"
      ]
     },
     "execution_count": 125,
     "metadata": {},
     "output_type": "execute_result"
    }
   ],
   "source": [
    "type(nonempty_transformed_df['Primary Item Number'][1])"
   ]
  },
  {
   "cell_type": "code",
   "execution_count": 126,
   "metadata": {},
   "outputs": [],
   "source": [
    "#nonempty_transformed_df.to_csv('nonprint_minimum2_recommendations.csv', index=False)"
   ]
  },
  {
   "cell_type": "markdown",
   "metadata": {},
   "source": [
    "## Result needed for new items only"
   ]
  },
  {
   "cell_type": "code",
   "execution_count": 127,
   "metadata": {},
   "outputs": [
    {
     "name": "stdout",
     "output_type": "stream",
     "text": [
      "Empty DataFrame\n",
      "Columns: [Primary Item Number, Related Item Number]\n",
      "Index: []\n"
     ]
    }
   ],
   "source": [
    "def filter_primary_item_numbers(df, item_numbers):\n",
    "    # Filter the DataFrame to include only rows where 'Primary Item Number' is in the item_numbers list\n",
    "    filtered_df = df[df['Primary Item Number'].isin(item_numbers)]\n",
    "    return filtered_df\n",
    "\n",
    "# Define the list of item numbers\n",
    "item_numbers = ['20121463', '20121758'\n",
    "\n",
    "\n",
    "]\n",
    "\n",
    "nonempty_transformed_filtered_df = filter_primary_item_numbers(nonempty_transformed_df, item_numbers)\n",
    "print(nonempty_transformed_filtered_df)"
   ]
  },
  {
   "cell_type": "code",
   "execution_count": null,
   "metadata": {},
   "outputs": [],
   "source": [
    "nonempty_transformed_filtered_df.to_csv('results_mar25/print_overall_results.csv',index=False)"
   ]
  },
  {
   "cell_type": "code",
   "execution_count": 75,
   "metadata": {},
   "outputs": [
    {
     "name": "stdout",
     "output_type": "stream",
     "text": [
      ">>Added item descriptions to data containing 96 rows\n"
     ]
    }
   ],
   "source": [
    "# Add item descriptions\n",
    "updated_reorder_df_with_desc=add_descriptions(item_desc_df,updated_reorder_df)\n",
    "print(f\">>Added item descriptions to data containing {len(updated_reorder_df_with_desc)} rows\")"
   ]
  }
 ],
 "metadata": {
  "kernelspec": {
   "display_name": "Python 3",
   "language": "python",
   "name": "python3"
  },
  "language_info": {
   "codemirror_mode": {
    "name": "ipython",
    "version": 3
   },
   "file_extension": ".py",
   "mimetype": "text/x-python",
   "name": "python",
   "nbconvert_exporter": "python",
   "pygments_lexer": "ipython3",
   "version": "3.11.9"
  }
 },
 "nbformat": 4,
 "nbformat_minor": 2
}
