{
 "cells": [
  {
   "cell_type": "code",
   "execution_count": 1,
   "metadata": {},
   "outputs": [],
   "source": [
    "import pandas as pd\n",
    "from data_retrieval import connect_db, fetch_trx_data, fetch_cat_data, fetch_cat1_data, fetch_item_descriptions, fetch_private_label_data\n",
    "from data_processing import multi_aggregate_data, apply_custom_calculations\n",
    "from data_analysis import create_baskets, create_baskets_365, create_baskets_365_qty, flatten_baskets\n",
    "from modelling import create_cooccurrence_matrix_with_recommendations, create_pair_frequency_matrix,add_freq\n",
    "from modeling_2 import replace_low_values,get_top_5_cat3_items, get_top_5_cat1_items, create_cat3_to_top_item_map, replace_recommendations\n",
    "from modeling_3 import filter_mfg_name, replace_item_cde_with_cat3_set,map_and_add_recommendations, map_and_add_recommendations_cat1, transform_recommendations, filter_non_print_segment, reorder_recommendations, add_descriptions\n",
    "from modeling_4 import remove_duplicate_and_self_references, shift_recommendations_left, copy_rows_with_0_to_2_recommendation, copy_rows_with_0_or_1_recommendation, add_recommendations2, minimum_three_recommendations, are_values_unique, remove_empty_related_items"
   ]
  },
  {
   "cell_type": "code",
   "execution_count": 2,
   "metadata": {},
   "outputs": [],
   "source": [
    "# Sittun's code review edit suggestions\n",
    "\n",
    "#import modelling as m1\n",
    "#import modeling_2 as m2"
   ]
  },
  {
   "cell_type": "code",
   "execution_count": 3,
   "metadata": {},
   "outputs": [],
   "source": [
    "#m2.replace_low_values()"
   ]
  },
  {
   "cell_type": "code",
   "execution_count": 4,
   "metadata": {},
   "outputs": [],
   "source": [
    "import warnings\n",
    "\n",
    "# Suppress all warnings\n",
    "warnings.filterwarnings('ignore')"
   ]
  },
  {
   "cell_type": "code",
   "execution_count": 5,
   "metadata": {},
   "outputs": [
    {
     "name": "stdout",
     "output_type": "stream",
     "text": [
      ">> Loaded 97 e-commerce items with their item_cde\n"
     ]
    }
   ],
   "source": [
    "# Load items \n",
    "df = pd.read_excel('data/GOJO AB Product Scope.xlsx', usecols=['Item Number'])\n",
    "print(f\">> Loaded {len(df)} e-commerce items with their item_cde\")"
   ]
  },
  {
   "cell_type": "code",
   "execution_count": 6,
   "metadata": {},
   "outputs": [
    {
     "data": {
      "text/html": [
       "<div>\n",
       "<style scoped>\n",
       "    .dataframe tbody tr th:only-of-type {\n",
       "        vertical-align: middle;\n",
       "    }\n",
       "\n",
       "    .dataframe tbody tr th {\n",
       "        vertical-align: top;\n",
       "    }\n",
       "\n",
       "    .dataframe thead th {\n",
       "        text-align: right;\n",
       "    }\n",
       "</style>\n",
       "<table border=\"1\" class=\"dataframe\">\n",
       "  <thead>\n",
       "    <tr style=\"text-align: right;\">\n",
       "      <th></th>\n",
       "      <th>Item Number</th>\n",
       "    </tr>\n",
       "  </thead>\n",
       "  <tbody>\n",
       "    <tr>\n",
       "      <th>0</th>\n",
       "      <td>10570540</td>\n",
       "    </tr>\n",
       "    <tr>\n",
       "      <th>1</th>\n",
       "      <td>10561388</td>\n",
       "    </tr>\n",
       "    <tr>\n",
       "      <th>2</th>\n",
       "      <td>10102473</td>\n",
       "    </tr>\n",
       "    <tr>\n",
       "      <th>3</th>\n",
       "      <td>10664064</td>\n",
       "    </tr>\n",
       "    <tr>\n",
       "      <th>4</th>\n",
       "      <td>10561435</td>\n",
       "    </tr>\n",
       "    <tr>\n",
       "      <th>...</th>\n",
       "      <td>...</td>\n",
       "    </tr>\n",
       "    <tr>\n",
       "      <th>92</th>\n",
       "      <td>20090396</td>\n",
       "    </tr>\n",
       "    <tr>\n",
       "      <th>93</th>\n",
       "      <td>20090403</td>\n",
       "    </tr>\n",
       "    <tr>\n",
       "      <th>94</th>\n",
       "      <td>20090407</td>\n",
       "    </tr>\n",
       "    <tr>\n",
       "      <th>95</th>\n",
       "      <td>20090409</td>\n",
       "    </tr>\n",
       "    <tr>\n",
       "      <th>96</th>\n",
       "      <td>20121738</td>\n",
       "    </tr>\n",
       "  </tbody>\n",
       "</table>\n",
       "<p>97 rows × 1 columns</p>\n",
       "</div>"
      ],
      "text/plain": [
       "    Item Number\n",
       "0      10570540\n",
       "1      10561388\n",
       "2      10102473\n",
       "3      10664064\n",
       "4      10561435\n",
       "..          ...\n",
       "92     20090396\n",
       "93     20090403\n",
       "94     20090407\n",
       "95     20090409\n",
       "96     20121738\n",
       "\n",
       "[97 rows x 1 columns]"
      ]
     },
     "execution_count": 6,
     "metadata": {},
     "output_type": "execute_result"
    }
   ],
   "source": [
    "df"
   ]
  },
  {
   "cell_type": "code",
   "execution_count": 7,
   "metadata": {},
   "outputs": [
    {
     "name": "stdout",
     "output_type": "stream",
     "text": [
      ">> Renamed the columns to ['item_cde']\n"
     ]
    }
   ],
   "source": [
    "# Rename the columns\n",
    "df.rename(columns={'Item Number': 'item_cde'}, \n",
    "          inplace=True)\n",
    "print(f\">> Renamed the columns to {df.columns.tolist()}\")"
   ]
  },
  {
   "cell_type": "code",
   "execution_count": 8,
   "metadata": {},
   "outputs": [
    {
     "name": "stdout",
     "output_type": "stream",
     "text": [
      ">> Connected to database\n"
     ]
    }
   ],
   "source": [
    "# connecting to db\n",
    "conn = connect_db()\n",
    "print(\">> Connected to database\")"
   ]
  },
  {
   "cell_type": "code",
   "execution_count": 9,
   "metadata": {},
   "outputs": [
    {
     "name": "stdout",
     "output_type": "stream",
     "text": [
      ">> Fetched the transaction data containing 70645 rows\n"
     ]
    }
   ],
   "source": [
    "# getting transaction data from db\n",
    "trx_df = fetch_trx_data(conn, df)\n",
    "print(f\">> Fetched the transaction data containing {len(trx_df)} rows\")"
   ]
  },
  {
   "cell_type": "markdown",
   "metadata": {},
   "source": [
    "## If Manufacturer filteration is needed (when scope not given)"
   ]
  },
  {
   "cell_type": "code",
   "execution_count": 10,
   "metadata": {},
   "outputs": [],
   "source": [
    "#trx_df_new = trx_df[trx_df['mfg_name'].str.contains('3M', na=False)]\n"
   ]
  },
  {
   "cell_type": "code",
   "execution_count": 11,
   "metadata": {},
   "outputs": [],
   "source": [
    "# OPTIONAL: Apply if mfg filter needed\n",
    "#mfg_df=filter_mfg_name(trx_df, '')"
   ]
  },
  {
   "cell_type": "code",
   "execution_count": 12,
   "metadata": {},
   "outputs": [
    {
     "name": "stdout",
     "output_type": "stream",
     "text": [
      ">> Sixe of data for non print  data is Length: 70645\n"
     ]
    }
   ],
   "source": [
    "#Get only the non Print df entries\n",
    "trx_df_nonpr = filter_non_print_segment(trx_df)\n",
    "print(f\">> Sixe of data for non print  data is Length: {len(trx_df)}\")"
   ]
  },
  {
   "cell_type": "code",
   "execution_count": 13,
   "metadata": {},
   "outputs": [
    {
     "name": "stdout",
     "output_type": "stream",
     "text": [
      ">> Aggregated data at bill-to level.Length: 1995 rows\n"
     ]
    }
   ],
   "source": [
    "# aggregate data at bill-to\n",
    "aggregated_df = multi_aggregate_data(trx_df_nonpr)\n",
    "print(f\">> Aggregated data at bill-to level.Length: {len(aggregated_df)} rows\")"
   ]
  },
  {
   "cell_type": "code",
   "execution_count": 14,
   "metadata": {},
   "outputs": [
    {
     "name": "stdout",
     "output_type": "stream",
     "text": [
      ">> Calculated custom columns.Length: 1995 rows\n"
     ]
    }
   ],
   "source": [
    "# custom column calculation for avg time interval\n",
    "custom_calculated_df = apply_custom_calculations(aggregated_df)\n",
    "print(f\">> Calculated custom columns.Length: {len(custom_calculated_df)} rows\")"
   ]
  },
  {
   "cell_type": "code",
   "execution_count": 15,
   "metadata": {},
   "outputs": [
    {
     "name": "stdout",
     "output_type": "stream",
     "text": [
      ">> Made baskets with size: 1995 baskets\n"
     ]
    }
   ],
   "source": [
    "# make baskets for all possible starting date\n",
    "baskets_df_365_qty = create_baskets_365_qty(custom_calculated_df)\n",
    "print(f\">> Made baskets with size: {len(baskets_df_365_qty)} baskets\")"
   ]
  },
  {
   "cell_type": "code",
   "execution_count": 16,
   "metadata": {},
   "outputs": [
    {
     "name": "stdout",
     "output_type": "stream",
     "text": [
      ">> Flattened baskets. Length: 22094\n"
     ]
    }
   ],
   "source": [
    "# flatten the baskets\n",
    "flattened_basket_list_365 = flatten_baskets(baskets_df_365_qty)\n",
    "print(f\">> Flattened baskets. Length: {len(flattened_basket_list_365)}\")"
   ]
  },
  {
   "cell_type": "code",
   "execution_count": 17,
   "metadata": {},
   "outputs": [
    {
     "name": "stderr",
     "output_type": "stream",
     "text": [
      "100%|██████████| 22094/22094 [00:00<00:00, 458110.85it/s]\n",
      "100%|██████████| 89/89 [00:00<00:00, 3315.60it/s]"
     ]
    },
    {
     "name": "stdout",
     "output_type": "stream",
     "text": [
      ">> Made item level recommendations for: 89 items\n"
     ]
    },
    {
     "name": "stderr",
     "output_type": "stream",
     "text": [
      "\n"
     ]
    }
   ],
   "source": [
    "# make item level recommendations\n",
    "co_occurrence_matrix, recommendation_df = create_cooccurrence_matrix_with_recommendations(flattened_basket_list_365)\n",
    "print(f\">> Made item level recommendations for: {len(recommendation_df)} items\")"
   ]
  },
  {
   "cell_type": "code",
   "execution_count": 19,
   "metadata": {},
   "outputs": [
    {
     "name": "stdout",
     "output_type": "stream",
     "text": [
      ">> Created pair wise frequency matrix of Length: 90\n"
     ]
    }
   ],
   "source": [
    "# Get the pair frequency matrix\n",
    "pair_freq_matrix = create_pair_frequency_matrix(flattened_basket_list_365)\n",
    "print(f\">> Created pair wise frequency matrix of Length: {len(pair_freq_matrix)}\")"
   ]
  },
  {
   "cell_type": "code",
   "execution_count": 21,
   "metadata": {},
   "outputs": [
    {
     "name": "stdout",
     "output_type": "stream",
     "text": [
      ">>Added freq to the df 89\n"
     ]
    }
   ],
   "source": [
    "#add freq\n",
    "recommendation_df=add_freq(recommendation_df,pair_freq_matrix)\n",
    "print(f\">>Added freq to the df {len(recommendation_df)}\")"
   ]
  },
  {
   "cell_type": "code",
   "execution_count": 22,
   "metadata": {},
   "outputs": [
    {
     "data": {
      "text/plain": [
       "'10043489'"
      ]
     },
     "execution_count": 22,
     "metadata": {},
     "output_type": "execute_result"
    }
   ],
   "source": [
    "recommendation_df['item_cde'][0]\n"
   ]
  },
  {
   "cell_type": "code",
   "execution_count": 23,
   "metadata": {},
   "outputs": [
    {
     "name": "stdout",
     "output_type": "stream",
     "text": [
      ">>Replaced items of baskets with low thresholds: 89 rows\n"
     ]
    }
   ],
   "source": [
    "#Replace recommendations with low basket count with the top cat 3 item\n",
    "recommendation_df=replace_low_values(recommendation_df,100)\n",
    "print(f\">>Replaced items of baskets with low thresholds: {len(recommendation_df)} rows\")"
   ]
  },
  {
   "cell_type": "code",
   "execution_count": 24,
   "metadata": {},
   "outputs": [
    {
     "name": "stdout",
     "output_type": "stream",
     "text": [
      ">> Got cat3 top 5 items: 8\n"
     ]
    }
   ],
   "source": [
    "# Get the cat3 top 5 items\n",
    "top_5_items_cat3=get_top_5_cat3_items(trx_df)\n",
    "print(f\">> Got cat3 top 5 items: {len(top_5_items_cat3)}\")"
   ]
  },
  {
   "cell_type": "code",
   "execution_count": 25,
   "metadata": {},
   "outputs": [
    {
     "name": "stdout",
     "output_type": "stream",
     "text": [
      ">> Got cat1 top 5 items: 4\n"
     ]
    }
   ],
   "source": [
    "# Get the cat1 top 5 items\n",
    "top_5_items_cat1=get_top_5_cat1_items(trx_df)\n",
    "print(f\">> Got cat1 top 5 items: {len(top_5_items_cat1)}\")"
   ]
  },
  {
   "cell_type": "code",
   "execution_count": 26,
   "metadata": {},
   "outputs": [
    {
     "name": "stdout",
     "output_type": "stream",
     "text": [
      ">> Connected to database\n"
     ]
    }
   ],
   "source": [
    "conn = connect_db()\n",
    "print(\">> Connected to database\")"
   ]
  },
  {
   "cell_type": "code",
   "execution_count": 27,
   "metadata": {},
   "outputs": [
    {
     "name": "stdout",
     "output_type": "stream",
     "text": [
      "%s, %s, %s, %s, %s, %s, %s, %s, %s, %s, %s, %s, %s, %s, %s, %s, %s, %s, %s, %s, %s, %s, %s, %s, %s, %s, %s, %s, %s, %s, %s, %s, %s, %s, %s, %s, %s, %s, %s, %s, %s, %s, %s, %s, %s, %s, %s, %s, %s, %s, %s, %s, %s, %s, %s, %s, %s, %s, %s, %s, %s, %s, %s, %s, %s, %s, %s, %s, %s, %s, %s, %s, %s, %s, %s, %s, %s, %s, %s, %s, %s, %s, %s, %s, %s, %s, %s, %s, %s, %s, %s, %s, %s, %s, %s, %s, %s\n",
      ">> Fetched the cat3 data containing 97 rows\n"
     ]
    }
   ],
   "source": [
    "# getting cat3 data from db\n",
    "conn = connect_db()\n",
    "\n",
    "cat3_df = fetch_cat_data(conn, df)\n",
    "print(f\">> Fetched the cat3 data containing {len(cat3_df)} rows\")"
   ]
  },
  {
   "cell_type": "code",
   "execution_count": 28,
   "metadata": {},
   "outputs": [
    {
     "name": "stdout",
     "output_type": "stream",
     "text": [
      ">> Connected to database\n"
     ]
    }
   ],
   "source": [
    "conn = connect_db()\n",
    "print(\">> Connected to database\")"
   ]
  },
  {
   "cell_type": "code",
   "execution_count": 29,
   "metadata": {},
   "outputs": [
    {
     "name": "stdout",
     "output_type": "stream",
     "text": [
      "%s, %s, %s, %s, %s, %s, %s, %s, %s, %s, %s, %s, %s, %s, %s, %s, %s, %s, %s, %s, %s, %s, %s, %s, %s, %s, %s, %s, %s, %s, %s, %s, %s, %s, %s, %s, %s, %s, %s, %s, %s, %s, %s, %s, %s, %s, %s, %s, %s, %s, %s, %s, %s, %s, %s, %s, %s, %s, %s, %s, %s, %s, %s, %s, %s, %s, %s, %s, %s, %s, %s, %s, %s, %s, %s, %s, %s, %s, %s, %s, %s, %s, %s, %s, %s, %s, %s, %s, %s, %s, %s, %s, %s, %s, %s, %s, %s\n",
      ">> Fetched the cat1 data containing 97 rows\n"
     ]
    }
   ],
   "source": [
    "# getting cat1 data from db\n",
    "cat1_df = fetch_cat1_data(conn, df)\n",
    "print(f\">> Fetched the cat1 data containing {len(cat1_df)} rows\")"
   ]
  },
  {
   "cell_type": "code",
   "execution_count": 31,
   "metadata": {},
   "outputs": [
    {
     "name": "stdout",
     "output_type": "stream",
     "text": [
      ">> Map items from item to top items in cat3 97 rows\n"
     ]
    }
   ],
   "source": [
    "# Map item to top item in cat3\n",
    "item_to_cat3_top_map= create_cat3_to_top_item_map(df, cat3_df, top_5_items_cat3)\n",
    "print(f\">> Map items from item to top items in cat3 {len(item_to_cat3_top_map)} rows\")"
   ]
  },
  {
   "cell_type": "code",
   "execution_count": 32,
   "metadata": {},
   "outputs": [
    {
     "data": {
      "text/plain": [
       "{10570540: '10568358',\n",
       " 10561388: '10943252',\n",
       " 10102473: '10568358',\n",
       " 10664064: '10568358',\n",
       " 10561435: '10568358',\n",
       " 10561454: '10943252',\n",
       " 10561422: '10943252',\n",
       " 11157487: '10568358',\n",
       " 11160268: '10568358',\n",
       " 11141927: '10943252',\n",
       " 11157483: '10568358',\n",
       " 10562613: '10943252',\n",
       " 10559422: '10943252',\n",
       " 10559699: '10943252',\n",
       " 11148094: '11148094',\n",
       " 11109702: '10568358',\n",
       " 10787413: '10844710',\n",
       " 11126675: '11126675',\n",
       " 10787426: '10844710',\n",
       " 11153989: '10943252',\n",
       " 10844688: '10844710',\n",
       " 10844710: '10844710',\n",
       " 10844729: '10844710',\n",
       " 10499244: '10943252',\n",
       " 10576587: '10568358',\n",
       " 10105196: '10748903',\n",
       " 10583076: '10568358',\n",
       " 11100207: '10943252',\n",
       " 11155222: '10943252',\n",
       " 11155231: '10568358',\n",
       " 11155237: '10568358',\n",
       " 10580144: '10943252',\n",
       " 11133601: '10568358',\n",
       " 10466265: '10568358',\n",
       " 11048293: '10568358',\n",
       " 11133627: '20017743',\n",
       " 11134604: '20017743',\n",
       " 10495917: '10943252',\n",
       " 11108424: '10568358',\n",
       " 10431273: '10568358',\n",
       " 10843315: '10568358',\n",
       " 10601450: '10943252',\n",
       " 10346499: '10568358',\n",
       " 10729064: '10568358',\n",
       " 10416426: '10568358',\n",
       " 10076998: '10568358',\n",
       " 10355644: '10943252',\n",
       " 10748903: '10748903',\n",
       " 11047796: '20017743',\n",
       " 10943261: '10568358',\n",
       " 10975237: '10568358',\n",
       " 10572500: '10568358',\n",
       " 10942870: '10568358',\n",
       " 10572501: '10568358',\n",
       " 10942965: '10568358',\n",
       " 10942990: '20017743',\n",
       " 10942996: '20017743',\n",
       " 10572503: '10943252',\n",
       " 10943189: '10943252',\n",
       " 10573468: '10748903',\n",
       " 10943252: '10943252',\n",
       " 10062528: '10062528',\n",
       " 10062551: '10568358',\n",
       " 10568358: '10568358',\n",
       " 11014297: '10568358',\n",
       " 10118393: '10568358',\n",
       " 10043489: '10568358',\n",
       " 10942645: '10943252',\n",
       " 20017743: '20017743',\n",
       " 20025215: '10943252',\n",
       " 20059769: '11148094',\n",
       " 20059771: '11148094',\n",
       " 20059773: '11148094',\n",
       " 20037815: '10943252',\n",
       " 10998955: '20017743',\n",
       " 20090200: '20017743',\n",
       " 20090212: '20017743',\n",
       " 20090215: '20017743',\n",
       " 20090307: '20017743',\n",
       " 20090309: '20017743',\n",
       " 20090317: '20017743',\n",
       " 20090322: '20017743',\n",
       " 20090335: '20017743',\n",
       " 20090353: '10568358',\n",
       " 20090356: '10568358',\n",
       " 20090358: '10568358',\n",
       " 20090378: '10568358',\n",
       " 20090380: '10943252',\n",
       " 20090386: '10943252',\n",
       " 20090387: '10943252',\n",
       " 20090391: '10943252',\n",
       " 20090394: '20017743',\n",
       " 20090396: '20017743',\n",
       " 20090403: '20017743',\n",
       " 20090407: '20017743',\n",
       " 20090409: '20017743',\n",
       " 20121738: '11148094'}"
      ]
     },
     "execution_count": 32,
     "metadata": {},
     "output_type": "execute_result"
    }
   ],
   "source": [
    "item_to_cat3_top_map"
   ]
  },
  {
   "cell_type": "code",
   "execution_count": 31,
   "metadata": {},
   "outputs": [],
   "source": [
    "# Replace items with low freq with top items\n",
    "\n",
    "#new_recommendation_df=replace_recommendations(recommendation_df,item_to_cat3_top_map)\n",
    "#print(f\">> Replacde items with low freq with top items with {len(new_recommendation_df)} rows\")"
   ]
  },
  {
   "cell_type": "code",
   "execution_count": 33,
   "metadata": {},
   "outputs": [
    {
     "data": {
      "text/html": [
       "<div>\n",
       "<style scoped>\n",
       "    .dataframe tbody tr th:only-of-type {\n",
       "        vertical-align: middle;\n",
       "    }\n",
       "\n",
       "    .dataframe tbody tr th {\n",
       "        vertical-align: top;\n",
       "    }\n",
       "\n",
       "    .dataframe thead th {\n",
       "        text-align: right;\n",
       "    }\n",
       "</style>\n",
       "<table border=\"1\" class=\"dataframe\">\n",
       "  <thead>\n",
       "    <tr style=\"text-align: right;\">\n",
       "      <th></th>\n",
       "      <th>item_cde</th>\n",
       "      <th>Recommendation 1</th>\n",
       "      <th>Recommendation 2</th>\n",
       "      <th>Recommendation 3</th>\n",
       "      <th>Recommendation 4</th>\n",
       "      <th>Recommendation 5</th>\n",
       "      <th>frequency 1</th>\n",
       "      <th>frequency 2</th>\n",
       "      <th>frequency 3</th>\n",
       "      <th>frequency 4</th>\n",
       "      <th>frequency 5</th>\n",
       "    </tr>\n",
       "  </thead>\n",
       "  <tbody>\n",
       "    <tr>\n",
       "      <th>0</th>\n",
       "      <td>10043489</td>\n",
       "      <td>11157483</td>\n",
       "      <td>10466265</td>\n",
       "      <td>10062551</td>\n",
       "      <td>10943252</td>\n",
       "      <td>10559422</td>\n",
       "      <td>CAT</td>\n",
       "      <td>CAT</td>\n",
       "      <td>CAT</td>\n",
       "      <td>CAT</td>\n",
       "      <td>CAT</td>\n",
       "    </tr>\n",
       "    <tr>\n",
       "      <th>1</th>\n",
       "      <td>10062528</td>\n",
       "      <td>10355644</td>\n",
       "      <td>10062551</td>\n",
       "      <td>11155222</td>\n",
       "      <td>10043489</td>\n",
       "      <td>10572500</td>\n",
       "      <td>CAT</td>\n",
       "      <td>CAT</td>\n",
       "      <td>CAT</td>\n",
       "      <td>CAT</td>\n",
       "      <td>CAT</td>\n",
       "    </tr>\n",
       "    <tr>\n",
       "      <th>2</th>\n",
       "      <td>10062551</td>\n",
       "      <td>10942965</td>\n",
       "      <td>10844710</td>\n",
       "      <td>11157483</td>\n",
       "      <td>11160268</td>\n",
       "      <td>10466265</td>\n",
       "      <td>CAT</td>\n",
       "      <td>CAT</td>\n",
       "      <td>109.0</td>\n",
       "      <td>CAT</td>\n",
       "      <td>CAT</td>\n",
       "    </tr>\n",
       "    <tr>\n",
       "      <th>3</th>\n",
       "      <td>10076998</td>\n",
       "      <td>10572500</td>\n",
       "      <td>10572501</td>\n",
       "      <td>10580144</td>\n",
       "      <td>11133627</td>\n",
       "      <td>10729064</td>\n",
       "      <td>1606.0</td>\n",
       "      <td>544.0</td>\n",
       "      <td>573.0</td>\n",
       "      <td>571.0</td>\n",
       "      <td>234.0</td>\n",
       "    </tr>\n",
       "    <tr>\n",
       "      <th>4</th>\n",
       "      <td>10102473</td>\n",
       "      <td>11157483</td>\n",
       "      <td>11157487</td>\n",
       "      <td>11160268</td>\n",
       "      <td>10431273</td>\n",
       "      <td>10118393</td>\n",
       "      <td>CAT</td>\n",
       "      <td>CAT</td>\n",
       "      <td>CAT</td>\n",
       "      <td>CAT</td>\n",
       "      <td>CAT</td>\n",
       "    </tr>\n",
       "    <tr>\n",
       "      <th>...</th>\n",
       "      <td>...</td>\n",
       "      <td>...</td>\n",
       "      <td>...</td>\n",
       "      <td>...</td>\n",
       "      <td>...</td>\n",
       "      <td>...</td>\n",
       "      <td>...</td>\n",
       "      <td>...</td>\n",
       "      <td>...</td>\n",
       "      <td>...</td>\n",
       "      <td>...</td>\n",
       "    </tr>\n",
       "    <tr>\n",
       "      <th>84</th>\n",
       "      <td>20090387</td>\n",
       "      <td>20090317</td>\n",
       "      <td>20090322</td>\n",
       "      <td>10573468</td>\n",
       "      <td>10561388</td>\n",
       "      <td>10568358</td>\n",
       "      <td>CAT</td>\n",
       "      <td>CAT</td>\n",
       "      <td>CAT</td>\n",
       "      <td>CAT</td>\n",
       "      <td>CAT</td>\n",
       "    </tr>\n",
       "    <tr>\n",
       "      <th>85</th>\n",
       "      <td>20090394</td>\n",
       "      <td>20090212</td>\n",
       "      <td>20090387</td>\n",
       "      <td>20090307</td>\n",
       "      <td>10062551</td>\n",
       "      <td>20090322</td>\n",
       "      <td>CAT</td>\n",
       "      <td>CAT</td>\n",
       "      <td>CAT</td>\n",
       "      <td>CAT</td>\n",
       "      <td>CAT</td>\n",
       "    </tr>\n",
       "    <tr>\n",
       "      <th>86</th>\n",
       "      <td>20090403</td>\n",
       "      <td>20090322</td>\n",
       "      <td>20090387</td>\n",
       "      <td>10943252</td>\n",
       "      <td>NaN</td>\n",
       "      <td>NaN</td>\n",
       "      <td>CAT</td>\n",
       "      <td>CAT</td>\n",
       "      <td>CAT</td>\n",
       "      <td>CAT</td>\n",
       "      <td>CAT</td>\n",
       "    </tr>\n",
       "    <tr>\n",
       "      <th>87</th>\n",
       "      <td>20090407</td>\n",
       "      <td>20090387</td>\n",
       "      <td>20090317</td>\n",
       "      <td>20090380</td>\n",
       "      <td>20090322</td>\n",
       "      <td>10943252</td>\n",
       "      <td>CAT</td>\n",
       "      <td>CAT</td>\n",
       "      <td>CAT</td>\n",
       "      <td>CAT</td>\n",
       "      <td>CAT</td>\n",
       "    </tr>\n",
       "    <tr>\n",
       "      <th>88</th>\n",
       "      <td>20090409</td>\n",
       "      <td>11157483</td>\n",
       "      <td>11157487</td>\n",
       "      <td>20090380</td>\n",
       "      <td>20090322</td>\n",
       "      <td>11160268</td>\n",
       "      <td>CAT</td>\n",
       "      <td>CAT</td>\n",
       "      <td>CAT</td>\n",
       "      <td>CAT</td>\n",
       "      <td>CAT</td>\n",
       "    </tr>\n",
       "  </tbody>\n",
       "</table>\n",
       "<p>89 rows × 11 columns</p>\n",
       "</div>"
      ],
      "text/plain": [
       "    item_cde Recommendation 1 Recommendation 2 Recommendation 3  \\\n",
       "0   10043489         11157483         10466265         10062551   \n",
       "1   10062528         10355644         10062551         11155222   \n",
       "2   10062551         10942965         10844710         11157483   \n",
       "3   10076998         10572500         10572501         10580144   \n",
       "4   10102473         11157483         11157487         11160268   \n",
       "..       ...              ...              ...              ...   \n",
       "84  20090387         20090317         20090322         10573468   \n",
       "85  20090394         20090212         20090387         20090307   \n",
       "86  20090403         20090322         20090387         10943252   \n",
       "87  20090407         20090387         20090317         20090380   \n",
       "88  20090409         11157483         11157487         20090380   \n",
       "\n",
       "   Recommendation 4 Recommendation 5 frequency 1 frequency 2 frequency 3  \\\n",
       "0          10943252         10559422         CAT         CAT         CAT   \n",
       "1          10043489         10572500         CAT         CAT         CAT   \n",
       "2          11160268         10466265         CAT         CAT       109.0   \n",
       "3          11133627         10729064      1606.0       544.0       573.0   \n",
       "4          10431273         10118393         CAT         CAT         CAT   \n",
       "..              ...              ...         ...         ...         ...   \n",
       "84         10561388         10568358         CAT         CAT         CAT   \n",
       "85         10062551         20090322         CAT         CAT         CAT   \n",
       "86              NaN              NaN         CAT         CAT         CAT   \n",
       "87         20090322         10943252         CAT         CAT         CAT   \n",
       "88         20090322         11160268         CAT         CAT         CAT   \n",
       "\n",
       "   frequency 4 frequency 5  \n",
       "0          CAT         CAT  \n",
       "1          CAT         CAT  \n",
       "2          CAT         CAT  \n",
       "3        571.0       234.0  \n",
       "4          CAT         CAT  \n",
       "..         ...         ...  \n",
       "84         CAT         CAT  \n",
       "85         CAT         CAT  \n",
       "86         CAT         CAT  \n",
       "87         CAT         CAT  \n",
       "88         CAT         CAT  \n",
       "\n",
       "[89 rows x 11 columns]"
      ]
     },
     "execution_count": 33,
     "metadata": {},
     "output_type": "execute_result"
    }
   ],
   "source": [
    "recommendation_df"
   ]
  },
  {
   "cell_type": "markdown",
   "metadata": {},
   "source": [
    "# Cat 3 operations"
   ]
  },
  {
   "cell_type": "code",
   "execution_count": 34,
   "metadata": {},
   "outputs": [
    {
     "name": "stdout",
     "output_type": "stream",
     "text": [
      ">> Made cat3 level baskets for co-occurance size: 22094\n"
     ]
    }
   ],
   "source": [
    "# Make cat3 level baskets for co-occurance\n",
    "cat3_basket_365=replace_item_cde_with_cat3_set(flattened_basket_list_365, cat3_df)\n",
    "print(f\">> Made cat3 level baskets for co-occurance size: {len(cat3_basket_365)}\")"
   ]
  },
  {
   "cell_type": "code",
   "execution_count": 35,
   "metadata": {},
   "outputs": [
    {
     "name": "stderr",
     "output_type": "stream",
     "text": [
      "100%|██████████| 22094/22094 [00:00<00:00, 681695.12it/s]\n",
      "100%|██████████| 8/8 [00:00<00:00, 2634.20it/s]"
     ]
    },
    {
     "name": "stdout",
     "output_type": "stream",
     "text": [
      ">> Create co-occurance df for cat3 level df Length: 8\n"
     ]
    },
    {
     "name": "stderr",
     "output_type": "stream",
     "text": [
      "\n"
     ]
    }
   ],
   "source": [
    "# Create co-occurance df for cat3 level\n",
    "cat3_co_occurrence_matrix, cat3_recommendation_df=create_cooccurrence_matrix_with_recommendations(cat3_basket_365, top_n=5)\n",
    "print(f\">> Create co-occurance df for cat3 level df Length: {len(cat3_recommendation_df)}\")"
   ]
  },
  {
   "cell_type": "code",
   "execution_count": 36,
   "metadata": {},
   "outputs": [
    {
     "name": "stdout",
     "output_type": "stream",
     "text": [
      ">> Product+cat3 level df of Length: 97 rows\n"
     ]
    }
   ],
   "source": [
    "# Map cat3 and add cat3 level recos\n",
    "new_cat3_recommendation_df = map_and_add_recommendations(df, cat3_df, recommendation_df, cat3_recommendation_df,top_5_items_cat3)\n",
    "print(f\">> Product+cat3 level df of Length: {len(new_cat3_recommendation_df)} rows\")"
   ]
  },
  {
   "cell_type": "code",
   "execution_count": 40,
   "metadata": {},
   "outputs": [
    {
     "data": {
      "text/html": [
       "<div>\n",
       "<style scoped>\n",
       "    .dataframe tbody tr th:only-of-type {\n",
       "        vertical-align: middle;\n",
       "    }\n",
       "\n",
       "    .dataframe tbody tr th {\n",
       "        vertical-align: top;\n",
       "    }\n",
       "\n",
       "    .dataframe thead th {\n",
       "        text-align: right;\n",
       "    }\n",
       "</style>\n",
       "<table border=\"1\" class=\"dataframe\">\n",
       "  <thead>\n",
       "    <tr style=\"text-align: right;\">\n",
       "      <th></th>\n",
       "      <th>item_cde</th>\n",
       "      <th>Recommendation 1</th>\n",
       "      <th>Recommendation 2</th>\n",
       "      <th>Recommendation 3</th>\n",
       "      <th>Recommendation 4</th>\n",
       "      <th>Recommendation 5</th>\n",
       "      <th>frequency 1</th>\n",
       "      <th>frequency 2</th>\n",
       "      <th>frequency 3</th>\n",
       "      <th>frequency 4</th>\n",
       "      <th>frequency 5</th>\n",
       "    </tr>\n",
       "  </thead>\n",
       "  <tbody>\n",
       "    <tr>\n",
       "      <th>0</th>\n",
       "      <td>10043489</td>\n",
       "      <td>11157483</td>\n",
       "      <td>10466265</td>\n",
       "      <td>10062551</td>\n",
       "      <td>10943252</td>\n",
       "      <td>10559422</td>\n",
       "      <td>CAT</td>\n",
       "      <td>CAT</td>\n",
       "      <td>CAT</td>\n",
       "      <td>CAT</td>\n",
       "      <td>CAT</td>\n",
       "    </tr>\n",
       "    <tr>\n",
       "      <th>1</th>\n",
       "      <td>10062528</td>\n",
       "      <td>10355644</td>\n",
       "      <td>10062551</td>\n",
       "      <td>11155222</td>\n",
       "      <td>10043489</td>\n",
       "      <td>10572500</td>\n",
       "      <td>CAT</td>\n",
       "      <td>CAT</td>\n",
       "      <td>CAT</td>\n",
       "      <td>CAT</td>\n",
       "      <td>CAT</td>\n",
       "    </tr>\n",
       "    <tr>\n",
       "      <th>2</th>\n",
       "      <td>10062551</td>\n",
       "      <td>10942965</td>\n",
       "      <td>10844710</td>\n",
       "      <td>11157483</td>\n",
       "      <td>11160268</td>\n",
       "      <td>10466265</td>\n",
       "      <td>CAT</td>\n",
       "      <td>CAT</td>\n",
       "      <td>109.0</td>\n",
       "      <td>CAT</td>\n",
       "      <td>CAT</td>\n",
       "    </tr>\n",
       "    <tr>\n",
       "      <th>3</th>\n",
       "      <td>10076998</td>\n",
       "      <td>10572500</td>\n",
       "      <td>10572501</td>\n",
       "      <td>10580144</td>\n",
       "      <td>11133627</td>\n",
       "      <td>10729064</td>\n",
       "      <td>1606.0</td>\n",
       "      <td>544.0</td>\n",
       "      <td>573.0</td>\n",
       "      <td>571.0</td>\n",
       "      <td>234.0</td>\n",
       "    </tr>\n",
       "    <tr>\n",
       "      <th>4</th>\n",
       "      <td>10102473</td>\n",
       "      <td>11157483</td>\n",
       "      <td>11157487</td>\n",
       "      <td>11160268</td>\n",
       "      <td>10431273</td>\n",
       "      <td>10118393</td>\n",
       "      <td>CAT</td>\n",
       "      <td>CAT</td>\n",
       "      <td>CAT</td>\n",
       "      <td>CAT</td>\n",
       "      <td>CAT</td>\n",
       "    </tr>\n",
       "    <tr>\n",
       "      <th>...</th>\n",
       "      <td>...</td>\n",
       "      <td>...</td>\n",
       "      <td>...</td>\n",
       "      <td>...</td>\n",
       "      <td>...</td>\n",
       "      <td>...</td>\n",
       "      <td>...</td>\n",
       "      <td>...</td>\n",
       "      <td>...</td>\n",
       "      <td>...</td>\n",
       "      <td>...</td>\n",
       "    </tr>\n",
       "    <tr>\n",
       "      <th>92</th>\n",
       "      <td>20090335</td>\n",
       "      <td>10568358</td>\n",
       "      <td>10943252</td>\n",
       "      <td>10748903</td>\n",
       "      <td>10844710</td>\n",
       "      <td>11148094</td>\n",
       "      <td>NaN</td>\n",
       "      <td>NaN</td>\n",
       "      <td>NaN</td>\n",
       "      <td>NaN</td>\n",
       "      <td>NaN</td>\n",
       "    </tr>\n",
       "    <tr>\n",
       "      <th>93</th>\n",
       "      <td>20090386</td>\n",
       "      <td>10568358</td>\n",
       "      <td>10748903</td>\n",
       "      <td>10844710</td>\n",
       "      <td>20017743</td>\n",
       "      <td>11148094</td>\n",
       "      <td>NaN</td>\n",
       "      <td>NaN</td>\n",
       "      <td>NaN</td>\n",
       "      <td>NaN</td>\n",
       "      <td>NaN</td>\n",
       "    </tr>\n",
       "    <tr>\n",
       "      <th>94</th>\n",
       "      <td>20090391</td>\n",
       "      <td>10568358</td>\n",
       "      <td>10748903</td>\n",
       "      <td>10844710</td>\n",
       "      <td>20017743</td>\n",
       "      <td>11148094</td>\n",
       "      <td>NaN</td>\n",
       "      <td>NaN</td>\n",
       "      <td>NaN</td>\n",
       "      <td>NaN</td>\n",
       "      <td>NaN</td>\n",
       "    </tr>\n",
       "    <tr>\n",
       "      <th>95</th>\n",
       "      <td>20090396</td>\n",
       "      <td>10568358</td>\n",
       "      <td>10943252</td>\n",
       "      <td>10748903</td>\n",
       "      <td>10844710</td>\n",
       "      <td>11148094</td>\n",
       "      <td>NaN</td>\n",
       "      <td>NaN</td>\n",
       "      <td>NaN</td>\n",
       "      <td>NaN</td>\n",
       "      <td>NaN</td>\n",
       "    </tr>\n",
       "    <tr>\n",
       "      <th>96</th>\n",
       "      <td>20121738</td>\n",
       "      <td>10943252</td>\n",
       "      <td>10844710</td>\n",
       "      <td>10568358</td>\n",
       "      <td>20017743</td>\n",
       "      <td>10748903</td>\n",
       "      <td>NaN</td>\n",
       "      <td>NaN</td>\n",
       "      <td>NaN</td>\n",
       "      <td>NaN</td>\n",
       "      <td>NaN</td>\n",
       "    </tr>\n",
       "  </tbody>\n",
       "</table>\n",
       "<p>97 rows × 11 columns</p>\n",
       "</div>"
      ],
      "text/plain": [
       "    item_cde Recommendation 1 Recommendation 2 Recommendation 3  \\\n",
       "0   10043489         11157483         10466265         10062551   \n",
       "1   10062528         10355644         10062551         11155222   \n",
       "2   10062551         10942965         10844710         11157483   \n",
       "3   10076998         10572500         10572501         10580144   \n",
       "4   10102473         11157483         11157487         11160268   \n",
       "..       ...              ...              ...              ...   \n",
       "92  20090335         10568358         10943252         10748903   \n",
       "93  20090386         10568358         10748903         10844710   \n",
       "94  20090391         10568358         10748903         10844710   \n",
       "95  20090396         10568358         10943252         10748903   \n",
       "96  20121738         10943252         10844710         10568358   \n",
       "\n",
       "   Recommendation 4 Recommendation 5 frequency 1 frequency 2 frequency 3  \\\n",
       "0          10943252         10559422         CAT         CAT         CAT   \n",
       "1          10043489         10572500         CAT         CAT         CAT   \n",
       "2          11160268         10466265         CAT         CAT       109.0   \n",
       "3          11133627         10729064      1606.0       544.0       573.0   \n",
       "4          10431273         10118393         CAT         CAT         CAT   \n",
       "..              ...              ...         ...         ...         ...   \n",
       "92         10844710         11148094         NaN         NaN         NaN   \n",
       "93         20017743         11148094         NaN         NaN         NaN   \n",
       "94         20017743         11148094         NaN         NaN         NaN   \n",
       "95         10844710         11148094         NaN         NaN         NaN   \n",
       "96         20017743         10748903         NaN         NaN         NaN   \n",
       "\n",
       "   frequency 4 frequency 5  \n",
       "0          CAT         CAT  \n",
       "1          CAT         CAT  \n",
       "2          CAT         CAT  \n",
       "3        571.0       234.0  \n",
       "4          CAT         CAT  \n",
       "..         ...         ...  \n",
       "92         NaN         NaN  \n",
       "93         NaN         NaN  \n",
       "94         NaN         NaN  \n",
       "95         NaN         NaN  \n",
       "96         NaN         NaN  \n",
       "\n",
       "[97 rows x 11 columns]"
      ]
     },
     "execution_count": 40,
     "metadata": {},
     "output_type": "execute_result"
    }
   ],
   "source": [
    "new_cat3_recommendation_df"
   ]
  },
  {
   "cell_type": "code",
   "execution_count": 98,
   "metadata": {},
   "outputs": [],
   "source": [
    "#new_cat3_recommendation_df.to_csv('new_cat3_recommendation_df_with_item_cde.csv',index=False)"
   ]
  },
  {
   "cell_type": "markdown",
   "metadata": {},
   "source": [
    "# Cat 1 Operations"
   ]
  },
  {
   "cell_type": "code",
   "execution_count": 41,
   "metadata": {},
   "outputs": [
    {
     "name": "stdout",
     "output_type": "stream",
     "text": [
      ">> Made cat1 level baskets for co-occurance size: 22094\n"
     ]
    }
   ],
   "source": [
    "# Make cat1 level baskets for co-occurance\n",
    "cat1_basket_365=replace_item_cde_with_cat3_set(flattened_basket_list_365, cat1_df)\n",
    "print(f\">> Made cat1 level baskets for co-occurance size: {len(cat1_basket_365)}\")"
   ]
  },
  {
   "cell_type": "code",
   "execution_count": 42,
   "metadata": {},
   "outputs": [
    {
     "name": "stderr",
     "output_type": "stream",
     "text": [
      "100%|██████████| 22094/22094 [00:00<00:00, 965190.99it/s]\n",
      "100%|██████████| 4/4 [00:00<00:00, 2424.10it/s]"
     ]
    },
    {
     "name": "stdout",
     "output_type": "stream",
     "text": [
      ">> Create co-occurance df for cat3 level df Length: 4\n"
     ]
    },
    {
     "name": "stderr",
     "output_type": "stream",
     "text": [
      "\n"
     ]
    }
   ],
   "source": [
    "# Create co-occurance df for cat1 level\n",
    "cat1_co_occurrence_matrix, cat1_recommendation_df=create_cooccurrence_matrix_with_recommendations(cat1_basket_365, top_n=5)\n",
    "print(f\">> Create co-occurance df for cat3 level df Length: {len(cat1_recommendation_df)}\")"
   ]
  },
  {
   "cell_type": "code",
   "execution_count": 43,
   "metadata": {},
   "outputs": [
    {
     "data": {
      "text/html": [
       "<div>\n",
       "<style scoped>\n",
       "    .dataframe tbody tr th:only-of-type {\n",
       "        vertical-align: middle;\n",
       "    }\n",
       "\n",
       "    .dataframe tbody tr th {\n",
       "        vertical-align: top;\n",
       "    }\n",
       "\n",
       "    .dataframe thead th {\n",
       "        text-align: right;\n",
       "    }\n",
       "</style>\n",
       "<table border=\"1\" class=\"dataframe\">\n",
       "  <thead>\n",
       "    <tr style=\"text-align: right;\">\n",
       "      <th></th>\n",
       "      <th>Recommendation 1</th>\n",
       "      <th>Recommendation 2</th>\n",
       "      <th>Recommendation 3</th>\n",
       "      <th>Recommendation 4</th>\n",
       "      <th>Recommendation 5</th>\n",
       "    </tr>\n",
       "  </thead>\n",
       "  <tbody>\n",
       "    <tr>\n",
       "      <th>Chemicals</th>\n",
       "      <td>Skincare</td>\n",
       "      <td>Wipers</td>\n",
       "      <td>NaN</td>\n",
       "      <td>NaN</td>\n",
       "      <td>NaN</td>\n",
       "    </tr>\n",
       "    <tr>\n",
       "      <th>Personal Hygiene</th>\n",
       "      <td>Skincare</td>\n",
       "      <td>NaN</td>\n",
       "      <td>NaN</td>\n",
       "      <td>NaN</td>\n",
       "      <td>NaN</td>\n",
       "    </tr>\n",
       "    <tr>\n",
       "      <th>Skincare</th>\n",
       "      <td>Chemicals</td>\n",
       "      <td>Wipers</td>\n",
       "      <td>Personal Hygiene</td>\n",
       "      <td>NaN</td>\n",
       "      <td>NaN</td>\n",
       "    </tr>\n",
       "    <tr>\n",
       "      <th>Wipers</th>\n",
       "      <td>Skincare</td>\n",
       "      <td>Chemicals</td>\n",
       "      <td>NaN</td>\n",
       "      <td>NaN</td>\n",
       "      <td>NaN</td>\n",
       "    </tr>\n",
       "  </tbody>\n",
       "</table>\n",
       "</div>"
      ],
      "text/plain": [
       "                 Recommendation 1 Recommendation 2  Recommendation 3  \\\n",
       "Chemicals                Skincare           Wipers               NaN   \n",
       "Personal Hygiene         Skincare              NaN               NaN   \n",
       "Skincare                Chemicals           Wipers  Personal Hygiene   \n",
       "Wipers                   Skincare        Chemicals               NaN   \n",
       "\n",
       "                 Recommendation 4 Recommendation 5  \n",
       "Chemicals                     NaN              NaN  \n",
       "Personal Hygiene              NaN              NaN  \n",
       "Skincare                      NaN              NaN  \n",
       "Wipers                        NaN              NaN  "
      ]
     },
     "execution_count": 43,
     "metadata": {},
     "output_type": "execute_result"
    }
   ],
   "source": [
    "cat1_recommendation_df"
   ]
  },
  {
   "cell_type": "code",
   "execution_count": 46,
   "metadata": {},
   "outputs": [
    {
     "name": "stdout",
     "output_type": "stream",
     "text": [
      ">> Product+cat1+cat3 level df of Length: 97 rows\n"
     ]
    }
   ],
   "source": [
    "# Map cat1 and add cat3 level recos\n",
    "new_cat1_recommendation_df = map_and_add_recommendations_cat1(df, cat1_df, new_cat3_recommendation_df, cat1_recommendation_df, top_5_items_cat1)\n",
    "print(f\">> Product+cat1+cat3 level df of Length: {len(new_cat1_recommendation_df)} rows\")"
   ]
  },
  {
   "cell_type": "code",
   "execution_count": 47,
   "metadata": {},
   "outputs": [
    {
     "data": {
      "text/html": [
       "<div>\n",
       "<style scoped>\n",
       "    .dataframe tbody tr th:only-of-type {\n",
       "        vertical-align: middle;\n",
       "    }\n",
       "\n",
       "    .dataframe tbody tr th {\n",
       "        vertical-align: top;\n",
       "    }\n",
       "\n",
       "    .dataframe thead th {\n",
       "        text-align: right;\n",
       "    }\n",
       "</style>\n",
       "<table border=\"1\" class=\"dataframe\">\n",
       "  <thead>\n",
       "    <tr style=\"text-align: right;\">\n",
       "      <th></th>\n",
       "      <th>item_cde</th>\n",
       "      <th>Recommendation 1</th>\n",
       "      <th>Recommendation 2</th>\n",
       "      <th>Recommendation 3</th>\n",
       "      <th>Recommendation 4</th>\n",
       "      <th>Recommendation 5</th>\n",
       "      <th>frequency 1</th>\n",
       "      <th>frequency 2</th>\n",
       "      <th>frequency 3</th>\n",
       "      <th>frequency 4</th>\n",
       "      <th>frequency 5</th>\n",
       "    </tr>\n",
       "  </thead>\n",
       "  <tbody>\n",
       "    <tr>\n",
       "      <th>0</th>\n",
       "      <td>10043489</td>\n",
       "      <td>11157483</td>\n",
       "      <td>10466265</td>\n",
       "      <td>10062551</td>\n",
       "      <td>10943252</td>\n",
       "      <td>10559422</td>\n",
       "      <td>CAT</td>\n",
       "      <td>CAT</td>\n",
       "      <td>CAT</td>\n",
       "      <td>CAT</td>\n",
       "      <td>CAT</td>\n",
       "    </tr>\n",
       "    <tr>\n",
       "      <th>1</th>\n",
       "      <td>10062528</td>\n",
       "      <td>10355644</td>\n",
       "      <td>10062551</td>\n",
       "      <td>11155222</td>\n",
       "      <td>10043489</td>\n",
       "      <td>10572500</td>\n",
       "      <td>CAT</td>\n",
       "      <td>CAT</td>\n",
       "      <td>CAT</td>\n",
       "      <td>CAT</td>\n",
       "      <td>CAT</td>\n",
       "    </tr>\n",
       "    <tr>\n",
       "      <th>2</th>\n",
       "      <td>10062551</td>\n",
       "      <td>10942965</td>\n",
       "      <td>10844710</td>\n",
       "      <td>11157483</td>\n",
       "      <td>11160268</td>\n",
       "      <td>10466265</td>\n",
       "      <td>CAT</td>\n",
       "      <td>CAT</td>\n",
       "      <td>109.0</td>\n",
       "      <td>CAT</td>\n",
       "      <td>CAT</td>\n",
       "    </tr>\n",
       "    <tr>\n",
       "      <th>3</th>\n",
       "      <td>10076998</td>\n",
       "      <td>10572500</td>\n",
       "      <td>10572501</td>\n",
       "      <td>10580144</td>\n",
       "      <td>11133627</td>\n",
       "      <td>10729064</td>\n",
       "      <td>1606.0</td>\n",
       "      <td>544.0</td>\n",
       "      <td>573.0</td>\n",
       "      <td>571.0</td>\n",
       "      <td>234.0</td>\n",
       "    </tr>\n",
       "    <tr>\n",
       "      <th>4</th>\n",
       "      <td>10102473</td>\n",
       "      <td>11157483</td>\n",
       "      <td>11157487</td>\n",
       "      <td>11160268</td>\n",
       "      <td>10431273</td>\n",
       "      <td>10118393</td>\n",
       "      <td>CAT</td>\n",
       "      <td>CAT</td>\n",
       "      <td>CAT</td>\n",
       "      <td>CAT</td>\n",
       "      <td>CAT</td>\n",
       "    </tr>\n",
       "    <tr>\n",
       "      <th>...</th>\n",
       "      <td>...</td>\n",
       "      <td>...</td>\n",
       "      <td>...</td>\n",
       "      <td>...</td>\n",
       "      <td>...</td>\n",
       "      <td>...</td>\n",
       "      <td>...</td>\n",
       "      <td>...</td>\n",
       "      <td>...</td>\n",
       "      <td>...</td>\n",
       "      <td>...</td>\n",
       "    </tr>\n",
       "    <tr>\n",
       "      <th>92</th>\n",
       "      <td>20090335</td>\n",
       "      <td>10568358</td>\n",
       "      <td>10943252</td>\n",
       "      <td>10748903</td>\n",
       "      <td>10844710</td>\n",
       "      <td>11148094</td>\n",
       "      <td>NaN</td>\n",
       "      <td>NaN</td>\n",
       "      <td>NaN</td>\n",
       "      <td>NaN</td>\n",
       "      <td>NaN</td>\n",
       "    </tr>\n",
       "    <tr>\n",
       "      <th>93</th>\n",
       "      <td>20090386</td>\n",
       "      <td>10568358</td>\n",
       "      <td>10748903</td>\n",
       "      <td>10844710</td>\n",
       "      <td>20017743</td>\n",
       "      <td>11148094</td>\n",
       "      <td>NaN</td>\n",
       "      <td>NaN</td>\n",
       "      <td>NaN</td>\n",
       "      <td>NaN</td>\n",
       "      <td>NaN</td>\n",
       "    </tr>\n",
       "    <tr>\n",
       "      <th>94</th>\n",
       "      <td>20090391</td>\n",
       "      <td>10568358</td>\n",
       "      <td>10748903</td>\n",
       "      <td>10844710</td>\n",
       "      <td>20017743</td>\n",
       "      <td>11148094</td>\n",
       "      <td>NaN</td>\n",
       "      <td>NaN</td>\n",
       "      <td>NaN</td>\n",
       "      <td>NaN</td>\n",
       "      <td>NaN</td>\n",
       "    </tr>\n",
       "    <tr>\n",
       "      <th>95</th>\n",
       "      <td>20090396</td>\n",
       "      <td>10568358</td>\n",
       "      <td>10943252</td>\n",
       "      <td>10748903</td>\n",
       "      <td>10844710</td>\n",
       "      <td>11148094</td>\n",
       "      <td>NaN</td>\n",
       "      <td>NaN</td>\n",
       "      <td>NaN</td>\n",
       "      <td>NaN</td>\n",
       "      <td>NaN</td>\n",
       "    </tr>\n",
       "    <tr>\n",
       "      <th>96</th>\n",
       "      <td>20121738</td>\n",
       "      <td>10943252</td>\n",
       "      <td>10844710</td>\n",
       "      <td>10568358</td>\n",
       "      <td>20017743</td>\n",
       "      <td>10748903</td>\n",
       "      <td>NaN</td>\n",
       "      <td>NaN</td>\n",
       "      <td>NaN</td>\n",
       "      <td>NaN</td>\n",
       "      <td>NaN</td>\n",
       "    </tr>\n",
       "  </tbody>\n",
       "</table>\n",
       "<p>97 rows × 11 columns</p>\n",
       "</div>"
      ],
      "text/plain": [
       "    item_cde Recommendation 1 Recommendation 2 Recommendation 3  \\\n",
       "0   10043489         11157483         10466265         10062551   \n",
       "1   10062528         10355644         10062551         11155222   \n",
       "2   10062551         10942965         10844710         11157483   \n",
       "3   10076998         10572500         10572501         10580144   \n",
       "4   10102473         11157483         11157487         11160268   \n",
       "..       ...              ...              ...              ...   \n",
       "92  20090335         10568358         10943252         10748903   \n",
       "93  20090386         10568358         10748903         10844710   \n",
       "94  20090391         10568358         10748903         10844710   \n",
       "95  20090396         10568358         10943252         10748903   \n",
       "96  20121738         10943252         10844710         10568358   \n",
       "\n",
       "   Recommendation 4 Recommendation 5 frequency 1 frequency 2 frequency 3  \\\n",
       "0          10943252         10559422         CAT         CAT         CAT   \n",
       "1          10043489         10572500         CAT         CAT         CAT   \n",
       "2          11160268         10466265         CAT         CAT       109.0   \n",
       "3          11133627         10729064      1606.0       544.0       573.0   \n",
       "4          10431273         10118393         CAT         CAT         CAT   \n",
       "..              ...              ...         ...         ...         ...   \n",
       "92         10844710         11148094         NaN         NaN         NaN   \n",
       "93         20017743         11148094         NaN         NaN         NaN   \n",
       "94         20017743         11148094         NaN         NaN         NaN   \n",
       "95         10844710         11148094         NaN         NaN         NaN   \n",
       "96         20017743         10748903         NaN         NaN         NaN   \n",
       "\n",
       "   frequency 4 frequency 5  \n",
       "0          CAT         CAT  \n",
       "1          CAT         CAT  \n",
       "2          CAT         CAT  \n",
       "3        571.0       234.0  \n",
       "4          CAT         CAT  \n",
       "..         ...         ...  \n",
       "92         NaN         NaN  \n",
       "93         NaN         NaN  \n",
       "94         NaN         NaN  \n",
       "95         NaN         NaN  \n",
       "96         NaN         NaN  \n",
       "\n",
       "[97 rows x 11 columns]"
      ]
     },
     "execution_count": 47,
     "metadata": {},
     "output_type": "execute_result"
    }
   ],
   "source": [
    "new_cat1_recommendation_df"
   ]
  },
  {
   "cell_type": "markdown",
   "metadata": {},
   "source": [
    "# Reorder private items"
   ]
  },
  {
   "cell_type": "code",
   "execution_count": 39,
   "metadata": {},
   "outputs": [
    {
     "name": "stdout",
     "output_type": "stream",
     "text": [
      ">> Connected to database\n"
     ]
    }
   ],
   "source": [
    "conn = connect_db()\n",
    "print(\">> Connected to database\")"
   ]
  },
  {
   "cell_type": "code",
   "execution_count": 40,
   "metadata": {},
   "outputs": [
    {
     "name": "stdout",
     "output_type": "stream",
     "text": [
      ">> Fetched the private label data containing 97 rows\n"
     ]
    }
   ],
   "source": [
    "# Get private label information\n",
    "private_l_df = fetch_private_label_data(conn, df)\n",
    "print(f\">> Fetched the private label data containing {len(private_l_df)} rows\")"
   ]
  },
  {
   "cell_type": "code",
   "execution_count": 41,
   "metadata": {},
   "outputs": [
    {
     "data": {
      "text/plain": [
       "private_label_sw\n",
       "N    97\n",
       "Name: count, dtype: int64"
      ]
     },
     "execution_count": 41,
     "metadata": {},
     "output_type": "execute_result"
    }
   ],
   "source": [
    "private_l_df['private_label_sw'].value_counts ()"
   ]
  },
  {
   "cell_type": "code",
   "execution_count": 42,
   "metadata": {},
   "outputs": [
    {
     "name": "stdout",
     "output_type": "stream",
     "text": [
      ">> Re-ordered the private label data containing 97 rows\n"
     ]
    }
   ],
   "source": [
    "# Re-order private items to top\n",
    "reorder_private_df = reorder_recommendations(new_cat1_recommendation_df, private_l_df)\n",
    "print(f\">> Re-ordered the private label data containing {len(reorder_private_df)} rows\")"
   ]
  },
  {
   "cell_type": "code",
   "execution_count": 43,
   "metadata": {},
   "outputs": [
    {
     "name": "stdout",
     "output_type": "stream",
     "text": [
      ">> Connected to database\n"
     ]
    }
   ],
   "source": [
    "conn = connect_db()\n",
    "print(\">> Connected to database\")"
   ]
  },
  {
   "cell_type": "code",
   "execution_count": 44,
   "metadata": {},
   "outputs": [
    {
     "name": "stdout",
     "output_type": "stream",
     "text": [
      ">>Fetched item descriptions data containing 97 rows\n"
     ]
    }
   ],
   "source": [
    "# Get item descriptions\n",
    "item_desc_df=fetch_item_descriptions(conn,df)\n",
    "print(f\">>Fetched item descriptions data containing {len(reorder_private_df)} rows\")"
   ]
  },
  {
   "cell_type": "code",
   "execution_count": 45,
   "metadata": {},
   "outputs": [],
   "source": [
    "#Select columns\n",
    "reorder_df=reorder_private_df[['item_cde','Recommendation 1','Recommendation 2','Recommendation 3','Recommendation 4','Recommendation 5']]"
   ]
  },
  {
   "cell_type": "code",
   "execution_count": 46,
   "metadata": {},
   "outputs": [
    {
     "name": "stdout",
     "output_type": "stream",
     "text": [
      ">>Removed duplicate recommendations and self-references data containing 97 rows\n"
     ]
    }
   ],
   "source": [
    "# Remove duplicate recommendations and self-references\n",
    "reorder_df_cleaned = remove_duplicate_and_self_references(reorder_df)\n",
    "print(f\">>Removed duplicate recommendations and self-references data containing {len(reorder_df_cleaned)} rows\")"
   ]
  },
  {
   "cell_type": "code",
   "execution_count": 47,
   "metadata": {},
   "outputs": [
    {
     "name": "stdout",
     "output_type": "stream",
     "text": [
      ">>Shift non empty recommendations data containing 97 rows\n"
     ]
    }
   ],
   "source": [
    "#Shift non empty recommendations to left\n",
    "reorder_shift_left=shift_recommendations_left(reorder_df_cleaned)\n",
    "print(f\">>Shift non empty recommendations data containing {len(reorder_shift_left)} rows\")"
   ]
  },
  {
   "cell_type": "code",
   "execution_count": 108,
   "metadata": {},
   "outputs": [
    {
     "data": {
      "text/html": [
       "<div>\n",
       "<style scoped>\n",
       "    .dataframe tbody tr th:only-of-type {\n",
       "        vertical-align: middle;\n",
       "    }\n",
       "\n",
       "    .dataframe tbody tr th {\n",
       "        vertical-align: top;\n",
       "    }\n",
       "\n",
       "    .dataframe thead th {\n",
       "        text-align: right;\n",
       "    }\n",
       "</style>\n",
       "<table border=\"1\" class=\"dataframe\">\n",
       "  <thead>\n",
       "    <tr style=\"text-align: right;\">\n",
       "      <th></th>\n",
       "      <th>item_cde</th>\n",
       "      <th>Recommendation 1</th>\n",
       "      <th>Recommendation 2</th>\n",
       "      <th>Recommendation 3</th>\n",
       "      <th>Recommendation 4</th>\n",
       "      <th>Recommendation 5</th>\n",
       "      <th>unique_check</th>\n",
       "    </tr>\n",
       "  </thead>\n",
       "  <tbody>\n",
       "    <tr>\n",
       "      <th>0</th>\n",
       "      <td>10043489</td>\n",
       "      <td>10568358</td>\n",
       "      <td>10943252</td>\n",
       "      <td>10076998</td>\n",
       "      <td>None</td>\n",
       "      <td>None</td>\n",
       "      <td>True</td>\n",
       "    </tr>\n",
       "    <tr>\n",
       "      <th>1</th>\n",
       "      <td>10062528</td>\n",
       "      <td>10943252</td>\n",
       "      <td>10568358</td>\n",
       "      <td>None</td>\n",
       "      <td>None</td>\n",
       "      <td>None</td>\n",
       "      <td>True</td>\n",
       "    </tr>\n",
       "    <tr>\n",
       "      <th>2</th>\n",
       "      <td>10062551</td>\n",
       "      <td>10568358</td>\n",
       "      <td>10844710</td>\n",
       "      <td>11157483</td>\n",
       "      <td>None</td>\n",
       "      <td>None</td>\n",
       "      <td>True</td>\n",
       "    </tr>\n",
       "    <tr>\n",
       "      <th>3</th>\n",
       "      <td>10076998</td>\n",
       "      <td>10572500</td>\n",
       "      <td>10572501</td>\n",
       "      <td>10580144</td>\n",
       "      <td>11133627</td>\n",
       "      <td>10729064</td>\n",
       "      <td>True</td>\n",
       "    </tr>\n",
       "    <tr>\n",
       "      <th>4</th>\n",
       "      <td>10102473</td>\n",
       "      <td>10568358</td>\n",
       "      <td>10076998</td>\n",
       "      <td>10943261</td>\n",
       "      <td>None</td>\n",
       "      <td>None</td>\n",
       "      <td>True</td>\n",
       "    </tr>\n",
       "    <tr>\n",
       "      <th>...</th>\n",
       "      <td>...</td>\n",
       "      <td>...</td>\n",
       "      <td>...</td>\n",
       "      <td>...</td>\n",
       "      <td>...</td>\n",
       "      <td>...</td>\n",
       "      <td>...</td>\n",
       "    </tr>\n",
       "    <tr>\n",
       "      <th>92</th>\n",
       "      <td>20090335</td>\n",
       "      <td>10844710</td>\n",
       "      <td>11148094</td>\n",
       "      <td>10062528</td>\n",
       "      <td></td>\n",
       "      <td>None</td>\n",
       "      <td>True</td>\n",
       "    </tr>\n",
       "    <tr>\n",
       "      <th>93</th>\n",
       "      <td>20090386</td>\n",
       "      <td>10844710</td>\n",
       "      <td>11148094</td>\n",
       "      <td>10062528</td>\n",
       "      <td></td>\n",
       "      <td>None</td>\n",
       "      <td>True</td>\n",
       "    </tr>\n",
       "    <tr>\n",
       "      <th>94</th>\n",
       "      <td>20090391</td>\n",
       "      <td>10844710</td>\n",
       "      <td>11148094</td>\n",
       "      <td>10062528</td>\n",
       "      <td></td>\n",
       "      <td>None</td>\n",
       "      <td>True</td>\n",
       "    </tr>\n",
       "    <tr>\n",
       "      <th>95</th>\n",
       "      <td>20090396</td>\n",
       "      <td>10844710</td>\n",
       "      <td>11148094</td>\n",
       "      <td>10062528</td>\n",
       "      <td></td>\n",
       "      <td>None</td>\n",
       "      <td>True</td>\n",
       "    </tr>\n",
       "    <tr>\n",
       "      <th>96</th>\n",
       "      <td>20121738</td>\n",
       "      <td>10943252</td>\n",
       "      <td>10844710</td>\n",
       "      <td></td>\n",
       "      <td>None</td>\n",
       "      <td>None</td>\n",
       "      <td>True</td>\n",
       "    </tr>\n",
       "  </tbody>\n",
       "</table>\n",
       "<p>97 rows × 7 columns</p>\n",
       "</div>"
      ],
      "text/plain": [
       "    item_cde Recommendation 1 Recommendation 2 Recommendation 3  \\\n",
       "0   10043489         10568358         10943252         10076998   \n",
       "1   10062528         10943252         10568358             None   \n",
       "2   10062551         10568358         10844710         11157483   \n",
       "3   10076998         10572500         10572501         10580144   \n",
       "4   10102473         10568358         10076998         10943261   \n",
       "..       ...              ...              ...              ...   \n",
       "92  20090335         10844710         11148094         10062528   \n",
       "93  20090386         10844710         11148094         10062528   \n",
       "94  20090391         10844710         11148094         10062528   \n",
       "95  20090396         10844710         11148094         10062528   \n",
       "96  20121738         10943252         10844710                    \n",
       "\n",
       "   Recommendation 4 Recommendation 5  unique_check  \n",
       "0              None             None          True  \n",
       "1              None             None          True  \n",
       "2              None             None          True  \n",
       "3          11133627         10729064          True  \n",
       "4              None             None          True  \n",
       "..              ...              ...           ...  \n",
       "92                              None          True  \n",
       "93                              None          True  \n",
       "94                              None          True  \n",
       "95                              None          True  \n",
       "96             None             None          True  \n",
       "\n",
       "[97 rows x 7 columns]"
      ]
     },
     "execution_count": 108,
     "metadata": {},
     "output_type": "execute_result"
    }
   ],
   "source": [
    "reorder_shift_left.iloc[[reorder_shift_left['Recommendation 3']], ]"
   ]
  },
  {
   "cell_type": "markdown",
   "metadata": {},
   "source": [
    "# Atleast 2 recommendation (Katie's request)"
   ]
  },
  {
   "cell_type": "code",
   "execution_count": 92,
   "metadata": {},
   "outputs": [
    {
     "name": "stdout",
     "output_type": "stream",
     "text": [
      ">>Items with less than 2 recommendations are Length: 0 rows\n"
     ]
    }
   ],
   "source": [
    "#Check # of rows with less trhan 2 recommendation\n",
    "rows_with_0_or_1_recommendation = copy_rows_with_0_or_1_recommendation(reorder_shift_left)\n",
    "print(f\">>Items with less than 2 recommendations are Length: {len(rows_with_0_or_1_recommendation)} rows\")"
   ]
  },
  {
   "cell_type": "code",
   "execution_count": 49,
   "metadata": {},
   "outputs": [
    {
     "name": "stdout",
     "output_type": "stream",
     "text": [
      ">>Items with less than 3 recommendations are Length: 34 rows\n"
     ]
    }
   ],
   "source": [
    "rows_with_0_to_2_recommendation = copy_rows_with_0_to_2_recommendation(reorder_shift_left)\n",
    "print(f\">>Items with less than 3 recommendations are Length: {len(rows_with_0_to_2_recommendation)} rows\")"
   ]
  },
  {
   "cell_type": "code",
   "execution_count": 90,
   "metadata": {},
   "outputs": [],
   "source": [
    "#Make atleast 2 recommendations\n",
    "#updated_reorder_df = add_recommendations2(reorder_shift_left, cat3_df, top_5_items_cat3, cat1_df, top_5_items_cat1)\n",
    "#print(f\">>Atleast two recommendations added for data with {len(updated_reorder_df)} rows\")"
   ]
  },
  {
   "cell_type": "code",
   "execution_count": 51,
   "metadata": {},
   "outputs": [
    {
     "name": "stdout",
     "output_type": "stream",
     "text": [
      ">>Atleast three recommendations added for data with 97 rows\n"
     ]
    }
   ],
   "source": [
    "updated_reorder_df = minimum_three_recommendations(reorder_df, cat3_df, top_5_items_cat3, cat1_df, top_5_items_cat1)\n",
    "print(f\">>Atleast three recommendations added for data with {len(updated_reorder_df)} rows\")"
   ]
  },
  {
   "cell_type": "markdown",
   "metadata": {},
   "source": [
    "# Check if updated df has any less than 2 reco rows"
   ]
  },
  {
   "cell_type": "code",
   "execution_count": 52,
   "metadata": {},
   "outputs": [
    {
     "name": "stdout",
     "output_type": "stream",
     "text": [
      ">>Length of data with less than 2 recommendations 1 rows\n"
     ]
    }
   ],
   "source": [
    "rows_with_0_to_2_recommendation = copy_rows_with_0_to_2_recommendation(updated_reorder_df)\n",
    "print(f\">>Length of data with less than 2 recommendations {len(rows_with_0_to_2_recommendation)} rows\")"
   ]
  },
  {
   "cell_type": "code",
   "execution_count": 62,
   "metadata": {},
   "outputs": [
    {
     "data": {
      "text/html": [
       "<div>\n",
       "<style scoped>\n",
       "    .dataframe tbody tr th:only-of-type {\n",
       "        vertical-align: middle;\n",
       "    }\n",
       "\n",
       "    .dataframe tbody tr th {\n",
       "        vertical-align: top;\n",
       "    }\n",
       "\n",
       "    .dataframe thead th {\n",
       "        text-align: right;\n",
       "    }\n",
       "</style>\n",
       "<table border=\"1\" class=\"dataframe\">\n",
       "  <thead>\n",
       "    <tr style=\"text-align: right;\">\n",
       "      <th></th>\n",
       "      <th>item_cde</th>\n",
       "      <th>Recommendation 1</th>\n",
       "      <th>Recommendation 2</th>\n",
       "      <th>Recommendation 3</th>\n",
       "      <th>Recommendation 4</th>\n",
       "      <th>Recommendation 5</th>\n",
       "      <th>unique_check</th>\n",
       "    </tr>\n",
       "  </thead>\n",
       "  <tbody>\n",
       "    <tr>\n",
       "      <th>96</th>\n",
       "      <td>20121738</td>\n",
       "      <td>10943252</td>\n",
       "      <td>10844710</td>\n",
       "      <td></td>\n",
       "      <td>None</td>\n",
       "      <td>None</td>\n",
       "      <td>True</td>\n",
       "    </tr>\n",
       "  </tbody>\n",
       "</table>\n",
       "</div>"
      ],
      "text/plain": [
       "    item_cde Recommendation 1 Recommendation 2 Recommendation 3  \\\n",
       "96  20121738         10943252         10844710                    \n",
       "\n",
       "   Recommendation 4 Recommendation 5  unique_check  \n",
       "96             None             None          True  "
      ]
     },
     "execution_count": 62,
     "metadata": {},
     "output_type": "execute_result"
    }
   ],
   "source": [
    "updated_reorder_df[updated_reorder_df['item_cde']=='20121738']"
   ]
  },
  {
   "cell_type": "code",
   "execution_count": 53,
   "metadata": {},
   "outputs": [
    {
     "name": "stdout",
     "output_type": "stream",
     "text": [
      ">>Unique check column added for data with 97 rows\n"
     ]
    }
   ],
   "source": [
    "# Add unique check column to ensure every recommendation is unique in a given row\n",
    "updated_reorder_df['unique_check'] = updated_reorder_df.apply(are_values_unique, axis=1)\n",
    "print(f\">>Unique check column added for data with {len(updated_reorder_df)} rows\")"
   ]
  },
  {
   "cell_type": "code",
   "execution_count": 194,
   "metadata": {},
   "outputs": [],
   "source": [
    "#updated_reorder_df.to_csv('unique_updated_reorder_df_min2_recos.csv')"
   ]
  },
  {
   "cell_type": "code",
   "execution_count": 54,
   "metadata": {},
   "outputs": [
    {
     "name": "stdout",
     "output_type": "stream",
     "text": [
      ">> Transform the recommendations, new Length 485 rows, which is 5 times 97 (Prev length)\n"
     ]
    }
   ],
   "source": [
    "# Transform the recommendations row-wise\n",
    "transformed_df = transform_recommendations(updated_reorder_df)\n",
    "print(f\">> Transform the recommendations, new Length {len(transformed_df)} rows, which is 5 times {len(new_cat1_recommendation_df)} (Prev length)\")"
   ]
  },
  {
   "cell_type": "code",
   "execution_count": 55,
   "metadata": {},
   "outputs": [
    {
     "name": "stdout",
     "output_type": "stream",
     "text": [
      ">>Data after removing empty related items have 330 rows\n"
     ]
    }
   ],
   "source": [
    "# Remove empty items from related items column\n",
    "nonempty_transformed_df=remove_empty_related_items(transformed_df)\n",
    "print(f\">>Data after removing empty related items have {len(nonempty_transformed_df)} rows\")"
   ]
  },
  {
   "cell_type": "code",
   "execution_count": 56,
   "metadata": {},
   "outputs": [
    {
     "data": {
      "text/html": [
       "<div>\n",
       "<style scoped>\n",
       "    .dataframe tbody tr th:only-of-type {\n",
       "        vertical-align: middle;\n",
       "    }\n",
       "\n",
       "    .dataframe tbody tr th {\n",
       "        vertical-align: top;\n",
       "    }\n",
       "\n",
       "    .dataframe thead th {\n",
       "        text-align: right;\n",
       "    }\n",
       "</style>\n",
       "<table border=\"1\" class=\"dataframe\">\n",
       "  <thead>\n",
       "    <tr style=\"text-align: right;\">\n",
       "      <th></th>\n",
       "      <th>Primary Item Number</th>\n",
       "      <th>Related Item Number</th>\n",
       "    </tr>\n",
       "  </thead>\n",
       "  <tbody>\n",
       "    <tr>\n",
       "      <th>0</th>\n",
       "      <td>10043489</td>\n",
       "      <td>10568358</td>\n",
       "    </tr>\n",
       "    <tr>\n",
       "      <th>1</th>\n",
       "      <td>10043489</td>\n",
       "      <td>10943252</td>\n",
       "    </tr>\n",
       "    <tr>\n",
       "      <th>2</th>\n",
       "      <td>10043489</td>\n",
       "      <td>10076998</td>\n",
       "    </tr>\n",
       "    <tr>\n",
       "      <th>5</th>\n",
       "      <td>10062528</td>\n",
       "      <td>10943252</td>\n",
       "    </tr>\n",
       "    <tr>\n",
       "      <th>6</th>\n",
       "      <td>10062528</td>\n",
       "      <td>10568358</td>\n",
       "    </tr>\n",
       "    <tr>\n",
       "      <th>...</th>\n",
       "      <td>...</td>\n",
       "      <td>...</td>\n",
       "    </tr>\n",
       "    <tr>\n",
       "      <th>475</th>\n",
       "      <td>20090396</td>\n",
       "      <td>10844710</td>\n",
       "    </tr>\n",
       "    <tr>\n",
       "      <th>476</th>\n",
       "      <td>20090396</td>\n",
       "      <td>11148094</td>\n",
       "    </tr>\n",
       "    <tr>\n",
       "      <th>477</th>\n",
       "      <td>20090396</td>\n",
       "      <td>10062528</td>\n",
       "    </tr>\n",
       "    <tr>\n",
       "      <th>480</th>\n",
       "      <td>20121738</td>\n",
       "      <td>10943252</td>\n",
       "    </tr>\n",
       "    <tr>\n",
       "      <th>481</th>\n",
       "      <td>20121738</td>\n",
       "      <td>10844710</td>\n",
       "    </tr>\n",
       "  </tbody>\n",
       "</table>\n",
       "<p>330 rows × 2 columns</p>\n",
       "</div>"
      ],
      "text/plain": [
       "    Primary Item Number Related Item Number\n",
       "0              10043489            10568358\n",
       "1              10043489            10943252\n",
       "2              10043489            10076998\n",
       "5              10062528            10943252\n",
       "6              10062528            10568358\n",
       "..                  ...                 ...\n",
       "475            20090396            10844710\n",
       "476            20090396            11148094\n",
       "477            20090396            10062528\n",
       "480            20121738            10943252\n",
       "481            20121738            10844710\n",
       "\n",
       "[330 rows x 2 columns]"
      ]
     },
     "execution_count": 56,
     "metadata": {},
     "output_type": "execute_result"
    }
   ],
   "source": [
    "nonempty_transformed_df"
   ]
  },
  {
   "cell_type": "code",
   "execution_count": 198,
   "metadata": {},
   "outputs": [
    {
     "data": {
      "text/plain": [
       "str"
      ]
     },
     "execution_count": 198,
     "metadata": {},
     "output_type": "execute_result"
    }
   ],
   "source": [
    "type(nonempty_transformed_df['Primary Item Number'][1])"
   ]
  },
  {
   "cell_type": "code",
   "execution_count": 199,
   "metadata": {},
   "outputs": [],
   "source": [
    "#nonempty_transformed_df.to_csv('nonprint_minimum2_recommendations.csv', index=False)"
   ]
  },
  {
   "cell_type": "markdown",
   "metadata": {},
   "source": [
    "## Result needed for new items only"
   ]
  },
  {
   "cell_type": "code",
   "execution_count": 57,
   "metadata": {},
   "outputs": [
    {
     "name": "stdout",
     "output_type": "stream",
     "text": [
      "    Primary Item Number Related Item Number\n",
      "480            20121738            10943252\n",
      "481            20121738            10844710\n"
     ]
    }
   ],
   "source": [
    "def filter_primary_item_numbers(df, item_numbers):\n",
    "    # Filter the DataFrame to include only rows where 'Primary Item Number' is in the item_numbers list\n",
    "    filtered_df = df[df['Primary Item Number'].isin(item_numbers)]\n",
    "    return filtered_df\n",
    "\n",
    "# Define the list of item numbers\n",
    "item_numbers = [\n",
    "    \"20121738\"\n",
    "]\n",
    "\n",
    "nonempty_transformed_filtered_df = filter_primary_item_numbers(nonempty_transformed_df, item_numbers)\n",
    "print(nonempty_transformed_filtered_df)"
   ]
  },
  {
   "cell_type": "code",
   "execution_count": 136,
   "metadata": {},
   "outputs": [],
   "source": [
    "nonempty_transformed_filtered_df.to_csv('Gojo_results_2.csv',index=False)"
   ]
  },
  {
   "cell_type": "code",
   "execution_count": 75,
   "metadata": {},
   "outputs": [
    {
     "name": "stdout",
     "output_type": "stream",
     "text": [
      ">>Added item descriptions to data containing 96 rows\n"
     ]
    }
   ],
   "source": [
    "# Add item descriptions\n",
    "updated_reorder_df_with_desc=add_descriptions(item_desc_df,updated_reorder_df)\n",
    "print(f\">>Added item descriptions to data containing {len(updated_reorder_df_with_desc)} rows\")"
   ]
  }
 ],
 "metadata": {
  "kernelspec": {
   "display_name": "Python 3",
   "language": "python",
   "name": "python3"
  },
  "language_info": {
   "codemirror_mode": {
    "name": "ipython",
    "version": 3
   },
   "file_extension": ".py",
   "mimetype": "text/x-python",
   "name": "python",
   "nbconvert_exporter": "python",
   "pygments_lexer": "ipython3",
   "version": "3.11.9"
  }
 },
 "nbformat": 4,
 "nbformat_minor": 2
}
