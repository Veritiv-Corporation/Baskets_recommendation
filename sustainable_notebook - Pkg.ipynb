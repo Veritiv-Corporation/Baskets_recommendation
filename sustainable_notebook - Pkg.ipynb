{
 "cells": [
  {
   "cell_type": "markdown",
   "metadata": {},
   "source": [
    "# Load"
   ]
  },
  {
   "cell_type": "code",
   "execution_count": 115,
   "metadata": {},
   "outputs": [],
   "source": [
    "import pandas as pd\n",
    "from data_retrieval import connect_db, fetch_trx_data, fetch_cat_data, fetch_cat1_data, fetch_private_label_data, fetch_sustainability_data, fetch_segment_data\n",
    "from data_processing import multi_aggregate_data, apply_custom_calculations\n",
    "from data_analysis import  create_baskets_365_qty, flatten_baskets\n",
    "from modelling import create_cooccurrence_matrix_with_recommendations, create_cooccurrence_matrix_with_recommendations_2\n",
    "from modeling_2 import get_top_5_cat3_items, get_top_5_cat1_items, create_cat3_to_top_item_map\n",
    "from modeling_3 import replace_item_cde_with_cat3_set,map_and_add_recommendations, map_and_add_recommendations_cat1, transform_recommendations, reorder_private\n",
    "from modeling_4 import remove_duplicate_and_self_references, shift_recommendations_left, remove_empty_related_items, drop_spaces"
   ]
  },
  {
   "cell_type": "code",
   "execution_count": 116,
   "metadata": {},
   "outputs": [],
   "source": [
    "# Sittun's code review edit suggestions\n",
    "\n",
    "#import modelling as m1\n",
    "#import modeling_2 as m2"
   ]
  },
  {
   "cell_type": "code",
   "execution_count": 117,
   "metadata": {},
   "outputs": [],
   "source": [
    "#m2.replace_low_values()"
   ]
  },
  {
   "cell_type": "code",
   "execution_count": 118,
   "metadata": {},
   "outputs": [],
   "source": [
    "import warnings\n",
    "\n",
    "# Suppress all warnings\n",
    "warnings.filterwarnings('ignore')"
   ]
  },
  {
   "cell_type": "code",
   "execution_count": 119,
   "metadata": {},
   "outputs": [
    {
     "name": "stdout",
     "output_type": "stream",
     "text": [
      ">> Loaded 4284 e-commerce items with their item_cde\n"
     ]
    }
   ],
   "source": [
    "# Load items \n",
    "df = pd.read_excel('data/AB_Scope_sust.xlsx', usecols=['Item Number'])\n",
    "print(f\">> Loaded {len(df)} e-commerce items with their item_cde\")"
   ]
  },
  {
   "cell_type": "code",
   "execution_count": 120,
   "metadata": {},
   "outputs": [
    {
     "name": "stdout",
     "output_type": "stream",
     "text": [
      ">> Renamed the columns to ['item_cde']\n"
     ]
    }
   ],
   "source": [
    "#Rename the columns\n",
    "df.rename(columns={'Item Number': 'item_cde'}, \n",
    "          inplace=True)\n",
    "print(f\">> Renamed the columns to {df.columns.tolist()}\")"
   ]
  },
  {
   "cell_type": "markdown",
   "metadata": {},
   "source": [
    "## Fetch segment data"
   ]
  },
  {
   "cell_type": "code",
   "execution_count": 121,
   "metadata": {},
   "outputs": [
    {
     "name": "stdout",
     "output_type": "stream",
     "text": [
      ">> Connected to database\n"
     ]
    }
   ],
   "source": [
    "# connecting to db\n",
    "conn = connect_db()\n",
    "print(\">> Connected to database\")"
   ]
  },
  {
   "cell_type": "code",
   "execution_count": 122,
   "metadata": {},
   "outputs": [
    {
     "name": "stdout",
     "output_type": "stream",
     "text": [
      ">> Fetched the segment data containing 4284 rows\n"
     ]
    }
   ],
   "source": [
    "# getting segment data from db\n",
    "seg_df = fetch_segment_data(conn, df)\n",
    "print(f\">> Fetched the segment data containing {len(seg_df)} rows\")"
   ]
  },
  {
   "cell_type": "code",
   "execution_count": 123,
   "metadata": {},
   "outputs": [],
   "source": [
    "#filter Packaging segment\n",
    "seg_pkg_df=seg_df[seg_df['segment'].str.contains('Print', na=False)]"
   ]
  },
  {
   "cell_type": "code",
   "execution_count": 124,
   "metadata": {},
   "outputs": [
    {
     "name": "stdout",
     "output_type": "stream",
     "text": [
      ">> Connected to database\n"
     ]
    }
   ],
   "source": [
    "# connecting to db\n",
    "conn = connect_db()\n",
    "print(\">> Connected to database\")"
   ]
  },
  {
   "cell_type": "code",
   "execution_count": 125,
   "metadata": {},
   "outputs": [
    {
     "name": "stdout",
     "output_type": "stream",
     "text": [
      ">> Fetched the transaction data containing 184077 rows\n"
     ]
    }
   ],
   "source": [
    "# getting transaction data from db\n",
    "trx_seg_df = fetch_trx_data(conn, seg_pkg_df)\n",
    "print(f\">> Fetched the transaction data containing {len(trx_seg_df)} rows\")"
   ]
  },
  {
   "cell_type": "markdown",
   "metadata": {},
   "source": [
    "## If Manufacturer filteration is needed (when scope not given)"
   ]
  },
  {
   "cell_type": "code",
   "execution_count": 126,
   "metadata": {},
   "outputs": [],
   "source": [
    "#trx_df_new = trx_seg_df[trx_seg_df['mfg_name'].str.contains('3M', na=False)]\n"
   ]
  },
  {
   "cell_type": "code",
   "execution_count": 127,
   "metadata": {},
   "outputs": [],
   "source": [
    "# OPTIONAL: Apply if mfg filter needed\n",
    "#mfg_df=filter_mfg_name(trx_df, '')"
   ]
  },
  {
   "cell_type": "code",
   "execution_count": 128,
   "metadata": {},
   "outputs": [
    {
     "name": "stdout",
     "output_type": "stream",
     "text": [
      ">> Aggregated data at bill-to level.Length: 5174 rows\n"
     ]
    }
   ],
   "source": [
    "# aggregate data at bill-to\n",
    "aggregated_df = multi_aggregate_data(trx_seg_df)\n",
    "print(f\">> Aggregated data at bill-to level.Length: {len(aggregated_df)} rows\")"
   ]
  },
  {
   "cell_type": "code",
   "execution_count": 129,
   "metadata": {},
   "outputs": [
    {
     "name": "stdout",
     "output_type": "stream",
     "text": [
      ">> Calculated custom columns.Length: 5174 rows\n"
     ]
    }
   ],
   "source": [
    "# custom column calculation for avg time interval\n",
    "custom_calculated_df = apply_custom_calculations(aggregated_df)\n",
    "print(f\">> Calculated custom columns.Length: {len(custom_calculated_df)} rows\")"
   ]
  },
  {
   "cell_type": "code",
   "execution_count": 130,
   "metadata": {},
   "outputs": [
    {
     "name": "stdout",
     "output_type": "stream",
     "text": [
      ">> Made baskets with size: 5174 baskets\n"
     ]
    }
   ],
   "source": [
    "# make baskets for all possible starting date\n",
    "baskets_df_365_qty = create_baskets_365_qty(custom_calculated_df)\n",
    "print(f\">> Made baskets with size: {len(baskets_df_365_qty)} baskets\")"
   ]
  },
  {
   "cell_type": "code",
   "execution_count": 131,
   "metadata": {},
   "outputs": [
    {
     "name": "stdout",
     "output_type": "stream",
     "text": [
      ">> Flattened baskets. Length: 82733\n"
     ]
    }
   ],
   "source": [
    "# flatten the baskets\n",
    "flattened_basket_list_365 = flatten_baskets(baskets_df_365_qty)\n",
    "print(f\">> Flattened baskets. Length: {len(flattened_basket_list_365)}\")"
   ]
  },
  {
   "cell_type": "code",
   "execution_count": 132,
   "metadata": {},
   "outputs": [
    {
     "name": "stderr",
     "output_type": "stream",
     "text": [
      "100%|██████████| 82733/82733 [00:02<00:00, 39396.89it/s]\n",
      "100%|██████████| 557/557 [00:01<00:00, 405.36it/s]\n"
     ]
    },
    {
     "name": "stdout",
     "output_type": "stream",
     "text": [
      ">> Made item level recommendations for: 557 items\n"
     ]
    }
   ],
   "source": [
    "# make item level recommendations\n",
    "co_occurrence_matrix, recommendation_df = create_cooccurrence_matrix_with_recommendations_2(flattened_basket_list_365)\n",
    "print(f\">> Made item level recommendations for: {len(recommendation_df)} items\")"
   ]
  },
  {
   "cell_type": "code",
   "execution_count": 133,
   "metadata": {},
   "outputs": [],
   "source": [
    "# Convert all values to integers, ignoring NaN\n",
    "recommendation_df = recommendation_df.apply(pd.to_numeric, errors='coerce')\n",
    "\n",
    "# Create the desired DataFrame\n",
    "result_df = pd.DataFrame({\n",
    "    'item_cde': recommendation_df.index,\n",
    "    'reco': recommendation_df.apply(lambda row: [int(x) for x in row.dropna()], axis=1)\n",
    "})\n",
    "\n"
   ]
  },
  {
   "cell_type": "markdown",
   "metadata": {},
   "source": [
    "# Filter for sustainable"
   ]
  },
  {
   "cell_type": "code",
   "execution_count": 134,
   "metadata": {},
   "outputs": [
    {
     "name": "stdout",
     "output_type": "stream",
     "text": [
      ">> Connected to database\n"
     ]
    }
   ],
   "source": [
    "# connecting to db\n",
    "conn = connect_db()\n",
    "print(\">> Connected to database\")"
   ]
  },
  {
   "cell_type": "code",
   "execution_count": 135,
   "metadata": {},
   "outputs": [
    {
     "name": "stdout",
     "output_type": "stream",
     "text": [
      ">> Fetched the sustainable label data containing 1842 rows\n"
     ]
    }
   ],
   "source": [
    "# Get sustainable label information\n",
    "sustainable_df = fetch_sustainability_data(conn, df)\n",
    "print(f\">> Fetched the sustainable label data containing {len(sustainable_df)} rows\")"
   ]
  },
  {
   "cell_type": "code",
   "execution_count": 136,
   "metadata": {},
   "outputs": [],
   "source": [
    "# Convert sustainable_df['item_cde'] to integers\n",
    "sustainable_df['item_cde'] = sustainable_df['item_cde'].astype(int)\n",
    "\n",
    "# Create a set of sustainable items\n",
    "sustainable_set = set(sustainable_df['item_cde'])\n",
    "\n",
    "# Filter reco list based on sustainable_df\n",
    "result_df['reco'] = result_df['reco'].apply(lambda lst: [x for x in lst if x in sustainable_set])"
   ]
  },
  {
   "cell_type": "code",
   "execution_count": 137,
   "metadata": {},
   "outputs": [],
   "source": [
    "# segment_sustainable items\n",
    "df_pkg_sustainable = seg_pkg_df[seg_pkg_df['item_cde'].astype(int).isin(sustainable_set)].copy()\n"
   ]
  },
  {
   "cell_type": "code",
   "execution_count": 138,
   "metadata": {},
   "outputs": [],
   "source": [
    "# Filter trx_df_pkg and keep 'item_cde' as a string\n",
    "trx_df_sustainable = trx_seg_df[trx_seg_df['item_cde'].astype(int).isin(sustainable_set)].copy()\n",
    "\n",
    "# Ensure 'item_cde' remains as string\n",
    "trx_df_sustainable['item_cde'] = trx_df_sustainable['item_cde'].astype(str)\n",
    "#trx_df_sustainable"
   ]
  },
  {
   "cell_type": "code",
   "execution_count": 139,
   "metadata": {},
   "outputs": [],
   "source": [
    "result_df = result_df[result_df['reco'].apply(lambda x: len(x) > 0)]\n"
   ]
  },
  {
   "cell_type": "code",
   "execution_count": 140,
   "metadata": {},
   "outputs": [
    {
     "name": "stdout",
     "output_type": "stream",
     "text": [
      ">> Got cat3 top 5 items: 14\n"
     ]
    }
   ],
   "source": [
    "# Get the cat3 top 5 items\n",
    "top_5_items_cat3=get_top_5_cat3_items(trx_df_sustainable)\n",
    "print(f\">> Got cat3 top 5 items: {len(top_5_items_cat3)}\")"
   ]
  },
  {
   "cell_type": "code",
   "execution_count": 141,
   "metadata": {},
   "outputs": [
    {
     "name": "stdout",
     "output_type": "stream",
     "text": [
      ">> Got cat1 top 5 items: 5\n"
     ]
    }
   ],
   "source": [
    "# Get the cat1 top 5 items\n",
    "top_5_items_cat1=get_top_5_cat1_items(trx_df_sustainable)\n",
    "print(f\">> Got cat1 top 5 items: {len(top_5_items_cat1)}\")"
   ]
  },
  {
   "cell_type": "code",
   "execution_count": 142,
   "metadata": {},
   "outputs": [
    {
     "name": "stdout",
     "output_type": "stream",
     "text": [
      ">> Connected to database\n"
     ]
    }
   ],
   "source": [
    "conn = connect_db()\n",
    "print(\">> Connected to database\")"
   ]
  },
  {
   "cell_type": "code",
   "execution_count": 143,
   "metadata": {},
   "outputs": [
    {
     "name": "stdout",
     "output_type": "stream",
     "text": [
      "%s, %s, %s, %s, %s, %s, %s, %s, %s, %s, %s, %s, %s, %s, %s, %s, %s, %s, %s, %s, %s, %s, %s, %s, %s, %s, %s, %s, %s, %s, %s, %s, %s, %s, %s, %s, %s, %s, %s, %s, %s, %s, %s, %s, %s, %s, %s, %s, %s, %s, %s, %s, %s, %s, %s, %s, %s, %s, %s, %s, %s, %s, %s, %s, %s, %s, %s, %s, %s, %s, %s, %s, %s, %s, %s, %s, %s, %s, %s, %s, %s, %s, %s, %s, %s, %s, %s, %s, %s, %s, %s, %s, %s, %s, %s, %s, %s, %s, %s, %s, %s, %s, %s, %s, %s, %s, %s, %s, %s, %s, %s, %s, %s, %s, %s, %s, %s, %s, %s, %s, %s, %s, %s, %s, %s, %s, %s, %s, %s, %s, %s, %s, %s, %s, %s, %s, %s, %s, %s, %s, %s, %s, %s, %s, %s, %s, %s, %s, %s, %s, %s, %s, %s, %s, %s, %s, %s, %s, %s, %s, %s, %s, %s, %s, %s, %s, %s, %s, %s, %s, %s, %s, %s, %s, %s, %s, %s, %s, %s, %s, %s, %s, %s, %s, %s, %s, %s, %s, %s, %s, %s, %s, %s, %s, %s, %s, %s, %s, %s, %s, %s, %s, %s, %s, %s, %s, %s, %s, %s, %s, %s, %s, %s, %s, %s, %s, %s, %s, %s, %s, %s, %s, %s, %s, %s, %s, %s, %s, %s, %s, %s, %s, %s, %s, %s, %s, %s, %s, %s, %s, %s, %s, %s, %s, %s, %s, %s, %s, %s, %s, %s, %s, %s, %s, %s, %s, %s, %s, %s, %s, %s, %s, %s, %s, %s, %s, %s, %s, %s, %s, %s, %s, %s, %s, %s, %s, %s, %s, %s, %s, %s, %s, %s, %s, %s, %s, %s, %s, %s, %s, %s, %s, %s, %s, %s, %s, %s, %s, %s, %s, %s, %s, %s, %s, %s, %s, %s, %s, %s, %s, %s, %s, %s, %s, %s, %s, %s, %s, %s, %s, %s, %s, %s, %s, %s, %s, %s, %s, %s, %s, %s, %s, %s, %s, %s, %s, %s, %s, %s, %s, %s, %s, %s, %s, %s, %s, %s, %s, %s, %s, %s, %s, %s, %s, %s, %s, %s, %s, %s, %s, %s, %s, %s, %s, %s, %s, %s, %s, %s, %s, %s, %s, %s, %s, %s, %s, %s, %s, %s, %s, %s, %s, %s, %s, %s, %s, %s, %s, %s, %s, %s, %s, %s, %s, %s, %s, %s, %s, %s, %s, %s, %s, %s, %s, %s, %s, %s, %s, %s, %s, %s, %s, %s, %s, %s, %s, %s, %s, %s, %s, %s, %s, %s, %s, %s, %s, %s, %s, %s, %s, %s, %s, %s, %s, %s, %s, %s, %s, %s, %s, %s, %s, %s, %s, %s, %s, %s, %s, %s, %s, %s, %s, %s, %s, %s, %s, %s, %s, %s, %s, %s, %s, %s, %s, %s, %s, %s, %s, %s, %s, %s, %s, %s, %s, %s, %s, %s, %s, %s, %s, %s, %s, %s, %s, %s, %s, %s, %s, %s, %s, %s, %s, %s, %s, %s, %s, %s, %s, %s, %s, %s, %s, %s, %s, %s, %s, %s, %s, %s, %s, %s, %s, %s, %s, %s, %s, %s, %s, %s, %s, %s, %s, %s, %s, %s, %s, %s, %s, %s, %s, %s, %s, %s, %s, %s, %s, %s, %s, %s, %s, %s, %s, %s, %s, %s, %s, %s, %s, %s, %s, %s, %s, %s, %s, %s, %s, %s, %s, %s, %s, %s, %s, %s, %s, %s, %s, %s, %s, %s, %s, %s, %s, %s, %s, %s, %s, %s, %s, %s, %s, %s, %s, %s, %s, %s, %s, %s, %s, %s, %s, %s, %s, %s, %s, %s, %s, %s, %s, %s, %s, %s, %s, %s, %s, %s, %s, %s, %s, %s, %s, %s, %s, %s, %s, %s, %s, %s, %s, %s, %s, %s, %s, %s, %s, %s, %s, %s, %s, %s, %s, %s, %s, %s, %s, %s, %s, %s, %s, %s, %s, %s, %s, %s, %s, %s, %s, %s, %s, %s, %s, %s, %s, %s, %s, %s, %s, %s, %s, %s, %s, %s, %s, %s, %s, %s, %s, %s, %s, %s, %s, %s, %s, %s, %s, %s, %s, %s, %s, %s, %s, %s, %s, %s, %s, %s, %s, %s, %s, %s, %s, %s, %s, %s, %s, %s, %s, %s, %s, %s, %s, %s, %s, %s, %s, %s, %s, %s, %s, %s, %s, %s, %s, %s, %s, %s, %s, %s, %s, %s, %s, %s, %s, %s, %s, %s, %s, %s, %s, %s, %s, %s, %s, %s, %s, %s, %s, %s, %s, %s, %s, %s, %s, %s, %s, %s, %s, %s, %s, %s, %s, %s, %s, %s, %s, %s, %s, %s, %s, %s, %s, %s, %s, %s, %s, %s, %s, %s, %s, %s, %s, %s, %s, %s, %s, %s, %s, %s, %s, %s, %s, %s, %s, %s, %s, %s, %s, %s, %s, %s, %s, %s, %s, %s, %s, %s, %s, %s, %s, %s, %s, %s, %s, %s, %s, %s, %s, %s, %s, %s, %s, %s, %s, %s, %s, %s, %s, %s, %s, %s, %s, %s, %s, %s, %s, %s, %s, %s, %s, %s, %s, %s, %s, %s, %s, %s, %s, %s, %s, %s, %s, %s, %s, %s, %s, %s, %s, %s, %s, %s, %s, %s, %s, %s, %s, %s, %s, %s, %s, %s, %s, %s, %s, %s, %s, %s, %s, %s, %s, %s, %s, %s, %s, %s, %s, %s, %s, %s, %s, %s, %s, %s, %s, %s, %s, %s, %s, %s, %s, %s, %s, %s, %s, %s, %s, %s, %s, %s, %s, %s, %s, %s, %s, %s, %s, %s, %s, %s, %s, %s, %s, %s, %s, %s, %s, %s, %s, %s, %s, %s, %s, %s, %s, %s, %s, %s, %s, %s, %s, %s, %s, %s, %s, %s, %s, %s, %s, %s, %s, %s, %s, %s, %s, %s, %s, %s, %s, %s, %s, %s, %s, %s, %s, %s, %s, %s, %s, %s, %s, %s, %s, %s, %s, %s, %s, %s, %s, %s, %s, %s, %s, %s, %s, %s, %s, %s, %s, %s, %s, %s, %s, %s, %s, %s, %s, %s, %s, %s, %s, %s, %s, %s, %s, %s, %s, %s, %s, %s, %s, %s, %s, %s, %s, %s, %s, %s, %s, %s, %s, %s, %s, %s, %s, %s, %s, %s, %s, %s, %s, %s, %s, %s, %s, %s, %s, %s, %s, %s, %s, %s, %s, %s, %s, %s, %s, %s, %s, %s, %s, %s, %s, %s, %s, %s, %s, %s, %s, %s, %s, %s, %s, %s, %s, %s, %s, %s, %s, %s, %s, %s, %s, %s, %s, %s, %s, %s, %s, %s, %s, %s, %s, %s, %s, %s, %s, %s, %s, %s, %s, %s, %s, %s, %s, %s, %s, %s, %s, %s, %s, %s, %s, %s, %s, %s, %s, %s, %s, %s, %s, %s, %s, %s, %s, %s, %s, %s, %s, %s, %s, %s, %s, %s, %s, %s, %s, %s, %s, %s, %s, %s, %s, %s, %s, %s, %s, %s, %s, %s, %s, %s, %s, %s, %s, %s, %s, %s, %s, %s, %s, %s, %s, %s, %s, %s, %s, %s, %s, %s, %s, %s, %s, %s, %s, %s, %s, %s, %s, %s, %s, %s, %s, %s, %s, %s, %s, %s, %s, %s, %s, %s, %s, %s, %s, %s, %s, %s, %s, %s, %s, %s, %s, %s, %s, %s, %s, %s, %s, %s, %s, %s, %s, %s, %s, %s, %s, %s, %s, %s, %s, %s, %s, %s, %s, %s, %s, %s, %s, %s, %s, %s, %s, %s, %s, %s, %s, %s, %s, %s, %s, %s, %s, %s, %s, %s, %s, %s, %s, %s, %s, %s, %s, %s, %s, %s, %s, %s, %s, %s, %s, %s, %s, %s, %s, %s, %s, %s, %s, %s, %s, %s, %s, %s, %s, %s, %s, %s, %s, %s, %s, %s, %s, %s, %s, %s, %s, %s, %s, %s, %s, %s, %s, %s, %s, %s, %s, %s, %s, %s, %s, %s, %s, %s, %s, %s, %s, %s, %s, %s, %s, %s, %s, %s, %s, %s, %s, %s, %s, %s, %s, %s, %s, %s, %s, %s, %s, %s, %s, %s, %s, %s, %s, %s, %s, %s, %s, %s, %s, %s, %s, %s, %s, %s, %s, %s, %s, %s, %s, %s, %s, %s, %s, %s, %s, %s, %s, %s, %s, %s, %s, %s, %s, %s, %s, %s, %s, %s, %s, %s, %s, %s, %s, %s, %s, %s, %s, %s, %s, %s, %s, %s, %s, %s, %s, %s, %s, %s, %s, %s, %s, %s, %s, %s, %s, %s, %s, %s, %s, %s, %s, %s, %s, %s, %s, %s, %s, %s, %s, %s, %s, %s, %s, %s, %s, %s, %s, %s, %s, %s, %s, %s, %s, %s, %s, %s, %s, %s, %s, %s, %s, %s, %s, %s, %s, %s, %s, %s, %s, %s, %s, %s, %s, %s, %s, %s, %s, %s, %s, %s, %s, %s, %s, %s, %s, %s, %s, %s, %s, %s, %s, %s, %s, %s, %s, %s, %s, %s, %s, %s, %s, %s, %s, %s, %s, %s, %s, %s, %s, %s, %s, %s, %s, %s, %s, %s, %s, %s, %s, %s, %s, %s, %s, %s, %s, %s, %s, %s, %s, %s, %s, %s, %s, %s, %s, %s, %s, %s, %s, %s, %s, %s, %s, %s, %s, %s, %s, %s, %s, %s, %s, %s, %s, %s, %s, %s, %s, %s, %s, %s, %s, %s, %s, %s, %s, %s, %s, %s, %s, %s, %s, %s, %s, %s, %s, %s, %s, %s, %s, %s, %s, %s, %s, %s, %s, %s, %s, %s, %s, %s, %s, %s, %s, %s, %s, %s, %s, %s, %s, %s, %s, %s, %s, %s, %s, %s, %s, %s, %s, %s, %s, %s, %s, %s, %s, %s, %s, %s, %s, %s, %s, %s, %s, %s, %s, %s, %s, %s, %s, %s, %s, %s, %s, %s, %s, %s, %s, %s, %s, %s, %s, %s, %s, %s, %s, %s, %s, %s, %s, %s, %s, %s, %s, %s, %s, %s, %s, %s, %s, %s, %s, %s, %s, %s, %s, %s, %s, %s, %s, %s, %s, %s, %s, %s, %s, %s, %s, %s, %s, %s, %s, %s, %s, %s, %s, %s, %s, %s, %s, %s, %s, %s, %s, %s, %s, %s, %s, %s, %s, %s, %s, %s, %s, %s, %s, %s, %s, %s, %s, %s, %s, %s, %s, %s, %s, %s, %s, %s, %s, %s, %s, %s, %s, %s, %s, %s, %s, %s, %s, %s, %s, %s, %s, %s, %s, %s, %s, %s, %s, %s, %s, %s, %s, %s, %s, %s, %s, %s, %s, %s, %s, %s, %s, %s, %s, %s, %s, %s, %s, %s, %s, %s, %s, %s, %s, %s, %s, %s, %s, %s, %s, %s, %s, %s, %s, %s, %s, %s, %s, %s, %s, %s, %s, %s, %s, %s, %s, %s, %s, %s, %s, %s, %s, %s, %s, %s, %s, %s, %s, %s, %s, %s, %s, %s, %s, %s, %s, %s, %s, %s, %s, %s, %s, %s, %s, %s, %s, %s, %s, %s, %s, %s, %s, %s, %s, %s, %s, %s, %s, %s, %s, %s, %s, %s, %s, %s, %s, %s, %s, %s, %s, %s, %s, %s, %s, %s, %s, %s, %s, %s, %s, %s, %s, %s, %s, %s, %s, %s, %s, %s, %s, %s, %s, %s, %s, %s, %s, %s, %s, %s, %s, %s, %s, %s, %s, %s, %s, %s, %s, %s, %s, %s, %s, %s, %s, %s, %s, %s, %s, %s, %s, %s, %s, %s, %s, %s, %s, %s, %s, %s, %s, %s, %s, %s, %s, %s, %s, %s, %s, %s, %s, %s, %s, %s, %s, %s, %s, %s, %s, %s, %s, %s, %s, %s, %s, %s, %s, %s, %s, %s, %s, %s, %s, %s, %s, %s, %s, %s, %s, %s, %s, %s, %s, %s, %s, %s, %s, %s, %s, %s, %s, %s, %s, %s, %s, %s, %s, %s, %s, %s, %s, %s, %s, %s, %s, %s, %s, %s, %s, %s, %s, %s, %s, %s, %s, %s, %s, %s, %s, %s, %s, %s, %s, %s, %s, %s, %s, %s, %s, %s, %s, %s, %s, %s, %s, %s, %s, %s, %s, %s, %s, %s, %s, %s, %s, %s, %s, %s, %s, %s, %s, %s, %s, %s, %s, %s, %s, %s, %s, %s, %s, %s, %s, %s, %s, %s, %s, %s, %s, %s, %s, %s, %s, %s, %s, %s, %s, %s, %s, %s, %s, %s, %s, %s, %s, %s, %s, %s, %s, %s, %s, %s, %s, %s, %s, %s, %s, %s, %s, %s, %s, %s, %s, %s, %s, %s, %s, %s, %s, %s, %s, %s, %s, %s, %s, %s, %s, %s, %s, %s, %s, %s, %s, %s, %s, %s, %s, %s, %s, %s, %s, %s, %s, %s, %s, %s, %s, %s, %s, %s, %s, %s, %s, %s, %s, %s, %s, %s, %s, %s, %s, %s, %s, %s, %s, %s, %s, %s, %s, %s, %s, %s, %s, %s, %s, %s, %s, %s, %s, %s, %s, %s, %s, %s, %s, %s, %s, %s, %s, %s, %s, %s, %s, %s, %s, %s, %s, %s, %s, %s, %s, %s, %s, %s, %s, %s, %s, %s, %s, %s, %s, %s, %s, %s, %s, %s, %s, %s, %s, %s, %s, %s, %s, %s, %s, %s, %s, %s, %s, %s, %s, %s, %s, %s, %s, %s, %s, %s, %s, %s, %s, %s, %s, %s, %s, %s, %s, %s, %s, %s, %s, %s, %s, %s, %s, %s, %s, %s, %s, %s, %s, %s, %s, %s, %s, %s, %s, %s, %s, %s, %s, %s, %s, %s, %s, %s, %s, %s, %s, %s, %s, %s, %s, %s, %s, %s, %s, %s, %s, %s, %s, %s, %s, %s, %s, %s, %s, %s, %s, %s, %s, %s, %s, %s, %s, %s, %s, %s, %s, %s, %s, %s, %s, %s, %s, %s, %s, %s, %s, %s, %s, %s, %s, %s, %s, %s, %s, %s, %s, %s, %s, %s, %s, %s, %s, %s, %s, %s, %s, %s, %s, %s, %s, %s, %s, %s, %s, %s, %s, %s, %s, %s, %s, %s, %s, %s, %s, %s, %s, %s, %s, %s, %s, %s, %s, %s, %s, %s, %s, %s, %s, %s, %s, %s, %s, %s, %s, %s, %s, %s, %s, %s, %s, %s, %s, %s, %s, %s, %s, %s, %s, %s, %s, %s, %s, %s, %s, %s, %s, %s, %s, %s, %s, %s, %s, %s, %s, %s, %s, %s, %s, %s, %s, %s, %s, %s, %s, %s, %s, %s, %s, %s, %s, %s, %s, %s, %s, %s, %s, %s, %s, %s, %s, %s, %s, %s, %s, %s, %s, %s, %s, %s, %s, %s, %s, %s, %s, %s, %s, %s, %s, %s, %s, %s, %s, %s, %s, %s, %s, %s, %s, %s, %s, %s, %s, %s, %s, %s, %s, %s, %s, %s, %s, %s, %s, %s, %s, %s, %s, %s, %s, %s, %s, %s, %s, %s, %s, %s, %s, %s, %s, %s, %s, %s, %s, %s, %s, %s, %s, %s, %s, %s, %s, %s, %s, %s, %s, %s, %s, %s, %s, %s, %s, %s, %s, %s, %s, %s, %s, %s, %s, %s, %s, %s, %s, %s, %s, %s, %s, %s, %s, %s, %s, %s, %s, %s, %s, %s, %s, %s, %s, %s, %s, %s, %s, %s, %s, %s, %s, %s, %s, %s, %s, %s, %s, %s, %s, %s, %s, %s, %s, %s, %s, %s, %s, %s, %s, %s, %s, %s, %s, %s, %s, %s, %s, %s, %s, %s, %s, %s, %s, %s, %s, %s, %s, %s, %s, %s, %s, %s, %s, %s, %s, %s, %s, %s, %s, %s, %s, %s, %s, %s, %s, %s, %s, %s, %s, %s, %s, %s, %s, %s, %s, %s, %s, %s, %s, %s, %s, %s, %s, %s, %s, %s, %s, %s, %s, %s, %s, %s, %s, %s, %s, %s, %s, %s, %s, %s, %s, %s, %s, %s, %s, %s, %s, %s, %s, %s, %s, %s, %s, %s, %s, %s, %s, %s, %s, %s, %s, %s, %s, %s, %s, %s, %s, %s, %s, %s, %s, %s, %s, %s, %s, %s, %s, %s, %s, %s, %s, %s, %s, %s, %s, %s, %s, %s, %s, %s, %s, %s, %s, %s, %s, %s, %s, %s, %s, %s, %s, %s, %s, %s, %s, %s, %s, %s, %s, %s, %s, %s, %s, %s, %s, %s, %s, %s, %s, %s, %s, %s, %s, %s, %s, %s, %s, %s, %s, %s, %s, %s, %s, %s, %s, %s, %s, %s, %s, %s, %s, %s, %s, %s, %s, %s, %s, %s, %s, %s, %s, %s, %s, %s, %s, %s, %s, %s, %s, %s, %s, %s, %s, %s, %s, %s, %s, %s, %s, %s, %s, %s, %s, %s, %s, %s, %s, %s, %s, %s, %s, %s, %s, %s, %s, %s, %s, %s, %s, %s, %s, %s, %s, %s, %s, %s, %s, %s, %s, %s, %s, %s, %s, %s, %s, %s, %s, %s, %s, %s, %s, %s, %s, %s, %s, %s, %s, %s, %s, %s, %s, %s, %s, %s, %s, %s, %s, %s, %s, %s, %s, %s, %s, %s, %s, %s, %s, %s, %s, %s, %s, %s, %s, %s, %s, %s, %s, %s, %s, %s, %s, %s, %s, %s, %s, %s, %s, %s, %s, %s, %s, %s, %s, %s, %s, %s, %s, %s, %s, %s, %s, %s, %s, %s, %s, %s, %s, %s, %s, %s, %s, %s, %s, %s, %s, %s, %s, %s, %s, %s, %s, %s, %s, %s, %s, %s, %s, %s, %s, %s, %s, %s, %s, %s, %s, %s, %s, %s, %s, %s, %s, %s, %s, %s, %s, %s, %s, %s, %s, %s, %s, %s, %s, %s, %s, %s, %s, %s, %s, %s, %s, %s, %s, %s, %s, %s, %s, %s, %s, %s, %s, %s, %s, %s, %s, %s, %s, %s, %s, %s, %s, %s, %s, %s, %s, %s, %s, %s, %s, %s, %s, %s, %s, %s, %s, %s, %s, %s, %s, %s, %s, %s, %s, %s, %s, %s, %s, %s, %s, %s, %s, %s, %s, %s, %s, %s, %s, %s, %s, %s, %s, %s, %s, %s, %s, %s, %s, %s, %s, %s, %s, %s, %s, %s, %s, %s, %s, %s, %s, %s, %s, %s, %s, %s, %s, %s, %s, %s, %s, %s, %s, %s, %s, %s, %s, %s, %s, %s, %s, %s, %s, %s, %s, %s, %s, %s, %s, %s, %s, %s, %s, %s, %s, %s, %s, %s, %s, %s, %s, %s, %s, %s, %s, %s, %s, %s, %s, %s, %s, %s, %s, %s, %s, %s, %s, %s, %s, %s, %s, %s, %s, %s, %s, %s, %s, %s, %s, %s, %s, %s, %s, %s, %s, %s, %s, %s, %s, %s, %s, %s, %s, %s, %s, %s, %s, %s, %s, %s, %s, %s, %s, %s, %s, %s, %s, %s, %s, %s, %s, %s, %s, %s, %s, %s, %s, %s, %s, %s, %s, %s, %s, %s, %s, %s, %s, %s, %s, %s, %s, %s, %s, %s, %s, %s, %s, %s, %s, %s, %s, %s, %s, %s, %s, %s, %s, %s, %s, %s, %s, %s, %s, %s, %s, %s, %s, %s, %s, %s, %s, %s, %s, %s, %s, %s, %s, %s, %s, %s, %s, %s, %s, %s, %s, %s, %s, %s, %s, %s, %s, %s, %s, %s, %s, %s, %s, %s, %s, %s, %s, %s, %s, %s, %s, %s, %s, %s, %s, %s, %s, %s, %s, %s, %s, %s, %s, %s, %s, %s, %s, %s, %s, %s, %s, %s, %s, %s, %s, %s, %s, %s, %s, %s, %s, %s, %s, %s, %s, %s, %s, %s, %s, %s, %s, %s, %s, %s, %s, %s, %s, %s, %s, %s, %s, %s, %s, %s, %s, %s, %s, %s, %s, %s, %s, %s, %s, %s, %s, %s, %s, %s, %s, %s, %s, %s, %s, %s, %s, %s, %s, %s, %s, %s, %s, %s, %s, %s, %s, %s, %s, %s, %s, %s, %s, %s, %s, %s, %s, %s, %s, %s, %s, %s, %s, %s, %s, %s, %s, %s, %s, %s, %s, %s, %s, %s, %s, %s, %s, %s, %s, %s, %s, %s, %s, %s, %s, %s, %s, %s, %s, %s, %s, %s, %s, %s, %s, %s, %s, %s, %s, %s, %s, %s, %s, %s, %s, %s, %s, %s, %s, %s, %s, %s, %s, %s, %s, %s, %s, %s, %s, %s, %s, %s, %s, %s, %s, %s, %s, %s, %s, %s, %s, %s, %s, %s, %s, %s, %s, %s, %s, %s, %s, %s, %s, %s, %s, %s, %s, %s, %s, %s, %s, %s, %s, %s, %s, %s, %s, %s, %s, %s, %s, %s, %s, %s, %s, %s, %s, %s, %s, %s, %s, %s, %s, %s, %s, %s, %s, %s, %s, %s, %s, %s, %s, %s, %s, %s, %s, %s, %s, %s, %s, %s, %s, %s, %s, %s, %s, %s, %s, %s, %s, %s, %s, %s, %s, %s, %s, %s, %s, %s, %s, %s, %s, %s, %s, %s, %s, %s, %s, %s, %s, %s, %s, %s, %s, %s, %s, %s, %s, %s, %s, %s, %s, %s, %s, %s, %s, %s, %s, %s, %s, %s, %s, %s, %s, %s, %s, %s, %s, %s, %s, %s, %s, %s, %s, %s, %s, %s, %s, %s, %s, %s, %s, %s, %s, %s, %s, %s, %s, %s, %s, %s, %s, %s, %s, %s, %s, %s, %s, %s, %s, %s, %s, %s, %s, %s, %s, %s, %s, %s, %s, %s, %s, %s, %s, %s, %s, %s, %s, %s, %s, %s, %s, %s, %s, %s, %s, %s, %s, %s, %s, %s, %s, %s, %s, %s, %s, %s, %s, %s, %s, %s, %s, %s, %s, %s, %s, %s, %s, %s, %s, %s, %s, %s, %s, %s, %s, %s, %s, %s, %s, %s, %s, %s, %s, %s, %s, %s, %s, %s, %s, %s, %s, %s, %s, %s, %s, %s, %s, %s, %s, %s, %s, %s, %s, %s, %s, %s, %s, %s, %s, %s, %s, %s, %s, %s, %s, %s, %s, %s, %s, %s, %s, %s, %s, %s, %s, %s, %s, %s, %s, %s, %s, %s, %s, %s, %s, %s, %s, %s, %s, %s, %s, %s, %s, %s, %s, %s, %s, %s, %s, %s, %s, %s, %s, %s, %s, %s, %s, %s, %s, %s, %s, %s, %s, %s, %s, %s, %s, %s, %s, %s, %s, %s, %s, %s, %s, %s, %s, %s, %s, %s, %s, %s, %s, %s, %s, %s, %s, %s, %s, %s, %s, %s, %s, %s, %s, %s, %s, %s, %s, %s, %s, %s, %s, %s, %s, %s, %s, %s, %s, %s, %s, %s, %s, %s, %s, %s, %s, %s, %s, %s, %s, %s, %s, %s, %s, %s, %s, %s, %s, %s, %s, %s, %s, %s, %s, %s, %s, %s, %s, %s, %s, %s, %s, %s, %s, %s, %s, %s, %s, %s, %s, %s, %s, %s, %s, %s, %s, %s, %s, %s, %s, %s, %s, %s, %s, %s, %s, %s, %s, %s, %s, %s, %s, %s, %s, %s, %s, %s, %s, %s, %s, %s, %s, %s, %s, %s, %s, %s, %s, %s, %s, %s, %s, %s, %s, %s, %s, %s, %s, %s, %s, %s, %s, %s, %s, %s, %s, %s, %s, %s, %s, %s, %s, %s, %s, %s, %s, %s, %s, %s, %s, %s, %s, %s, %s, %s, %s, %s, %s, %s, %s, %s, %s, %s, %s, %s, %s, %s, %s, %s, %s, %s, %s, %s, %s, %s, %s, %s, %s, %s, %s, %s, %s, %s, %s, %s, %s, %s, %s, %s, %s, %s, %s, %s, %s, %s, %s, %s, %s, %s, %s, %s, %s, %s, %s, %s, %s, %s, %s, %s, %s, %s, %s, %s, %s, %s, %s, %s, %s, %s, %s, %s, %s, %s, %s, %s, %s, %s, %s, %s, %s, %s, %s, %s, %s, %s, %s, %s, %s, %s, %s, %s, %s, %s, %s, %s, %s, %s, %s, %s, %s, %s, %s, %s, %s, %s, %s, %s, %s, %s, %s, %s, %s, %s, %s, %s, %s, %s, %s, %s, %s, %s, %s, %s, %s, %s, %s, %s, %s, %s, %s, %s, %s, %s, %s, %s, %s, %s, %s, %s, %s, %s, %s, %s, %s, %s, %s, %s, %s, %s, %s, %s, %s, %s, %s, %s, %s, %s, %s, %s, %s, %s, %s, %s, %s, %s, %s, %s, %s, %s, %s, %s, %s, %s, %s, %s, %s, %s, %s, %s, %s, %s, %s, %s, %s, %s, %s, %s, %s, %s, %s, %s, %s, %s, %s, %s, %s, %s, %s, %s, %s, %s, %s, %s, %s, %s, %s, %s, %s, %s, %s, %s, %s, %s, %s, %s, %s, %s, %s, %s, %s, %s, %s, %s, %s, %s, %s, %s, %s, %s, %s, %s, %s, %s, %s, %s, %s, %s, %s, %s, %s, %s, %s, %s, %s, %s, %s, %s, %s, %s, %s, %s, %s, %s, %s, %s, %s, %s, %s, %s, %s, %s, %s, %s, %s, %s, %s, %s, %s, %s, %s, %s, %s, %s, %s, %s, %s, %s, %s, %s, %s, %s, %s, %s, %s, %s, %s, %s, %s, %s, %s, %s, %s, %s, %s, %s, %s, %s, %s, %s, %s, %s, %s, %s, %s, %s, %s, %s, %s, %s, %s, %s, %s, %s, %s, %s, %s, %s, %s, %s, %s, %s, %s, %s, %s, %s, %s, %s, %s, %s, %s, %s, %s, %s, %s, %s, %s, %s, %s, %s, %s, %s, %s, %s, %s, %s, %s, %s, %s, %s, %s, %s, %s, %s, %s, %s, %s, %s, %s, %s, %s, %s, %s, %s, %s, %s, %s, %s, %s, %s, %s, %s, %s, %s, %s, %s, %s, %s, %s, %s, %s, %s, %s, %s, %s, %s, %s, %s, %s, %s, %s, %s, %s, %s, %s, %s, %s, %s, %s, %s, %s, %s, %s, %s, %s, %s, %s, %s, %s, %s, %s, %s, %s, %s, %s, %s, %s, %s, %s, %s, %s, %s, %s, %s, %s, %s, %s, %s, %s, %s, %s, %s, %s, %s, %s, %s, %s, %s, %s, %s, %s, %s, %s, %s, %s, %s, %s, %s, %s, %s, %s, %s, %s, %s, %s, %s, %s, %s, %s, %s, %s, %s, %s, %s, %s, %s, %s, %s, %s, %s, %s, %s, %s, %s, %s, %s, %s, %s, %s, %s, %s, %s, %s, %s, %s, %s, %s, %s, %s, %s, %s, %s, %s, %s, %s, %s, %s, %s, %s, %s, %s, %s, %s, %s, %s, %s, %s, %s, %s, %s, %s, %s, %s, %s, %s, %s, %s, %s, %s, %s, %s, %s, %s, %s, %s, %s, %s, %s, %s, %s, %s, %s, %s, %s, %s, %s, %s, %s, %s, %s, %s, %s, %s, %s, %s, %s, %s, %s, %s, %s, %s, %s, %s, %s, %s, %s, %s, %s, %s, %s, %s, %s, %s, %s, %s, %s, %s, %s, %s, %s, %s, %s, %s, %s, %s, %s, %s\n",
      ">> Fetched the cat3 data containing 4284 rows\n"
     ]
    }
   ],
   "source": [
    "# getting cat3 data from db\n",
    "conn = connect_db()\n",
    "\n",
    "cat3_df = fetch_cat_data(conn, df)\n",
    "print(f\">> Fetched the cat3 data containing {len(cat3_df)} rows\")"
   ]
  },
  {
   "cell_type": "code",
   "execution_count": 144,
   "metadata": {},
   "outputs": [
    {
     "name": "stdout",
     "output_type": "stream",
     "text": [
      ">> Connected to database\n"
     ]
    }
   ],
   "source": [
    "conn = connect_db()\n",
    "print(\">> Connected to database\")"
   ]
  },
  {
   "cell_type": "code",
   "execution_count": 145,
   "metadata": {},
   "outputs": [
    {
     "name": "stdout",
     "output_type": "stream",
     "text": [
      "%s, %s, %s, %s, %s, %s, %s, %s, %s, %s, %s, %s, %s, %s, %s, %s, %s, %s, %s, %s, %s, %s, %s, %s, %s, %s, %s, %s, %s, %s, %s, %s, %s, %s, %s, %s, %s, %s, %s, %s, %s, %s, %s, %s, %s, %s, %s, %s, %s, %s, %s, %s, %s, %s, %s, %s, %s, %s, %s, %s, %s, %s, %s, %s, %s, %s, %s, %s, %s, %s, %s, %s, %s, %s, %s, %s, %s, %s, %s, %s, %s, %s, %s, %s, %s, %s, %s, %s, %s, %s, %s, %s, %s, %s, %s, %s, %s, %s, %s, %s, %s, %s, %s, %s, %s, %s, %s, %s, %s, %s, %s, %s, %s, %s, %s, %s, %s, %s, %s, %s, %s, %s, %s, %s, %s, %s, %s, %s, %s, %s, %s, %s, %s, %s, %s, %s, %s, %s, %s, %s, %s, %s, %s, %s, %s, %s, %s, %s, %s, %s, %s, %s, %s, %s, %s, %s, %s, %s, %s, %s, %s, %s, %s, %s, %s, %s, %s, %s, %s, %s, %s, %s, %s, %s, %s, %s, %s, %s, %s, %s, %s, %s, %s, %s, %s, %s, %s, %s, %s, %s, %s, %s, %s, %s, %s, %s, %s, %s, %s, %s, %s, %s, %s, %s, %s, %s, %s, %s, %s, %s, %s, %s, %s, %s, %s, %s, %s, %s, %s, %s, %s, %s, %s, %s, %s, %s, %s, %s, %s, %s, %s, %s, %s, %s, %s, %s, %s, %s, %s, %s, %s, %s, %s, %s, %s, %s, %s, %s, %s, %s, %s, %s, %s, %s, %s, %s, %s, %s, %s, %s, %s, %s, %s, %s, %s, %s, %s, %s, %s, %s, %s, %s, %s, %s, %s, %s, %s, %s, %s, %s, %s, %s, %s, %s, %s, %s, %s, %s, %s, %s, %s, %s, %s, %s, %s, %s, %s, %s, %s, %s, %s, %s, %s, %s, %s, %s, %s, %s, %s, %s, %s, %s, %s, %s, %s, %s, %s, %s, %s, %s, %s, %s, %s, %s, %s, %s, %s, %s, %s, %s, %s, %s, %s, %s, %s, %s, %s, %s, %s, %s, %s, %s, %s, %s, %s, %s, %s, %s, %s, %s, %s, %s, %s, %s, %s, %s, %s, %s, %s, %s, %s, %s, %s, %s, %s, %s, %s, %s, %s, %s, %s, %s, %s, %s, %s, %s, %s, %s, %s, %s, %s, %s, %s, %s, %s, %s, %s, %s, %s, %s, %s, %s, %s, %s, %s, %s, %s, %s, %s, %s, %s, %s, %s, %s, %s, %s, %s, %s, %s, %s, %s, %s, %s, %s, %s, %s, %s, %s, %s, %s, %s, %s, %s, %s, %s, %s, %s, %s, %s, %s, %s, %s, %s, %s, %s, %s, %s, %s, %s, %s, %s, %s, %s, %s, %s, %s, %s, %s, %s, %s, %s, %s, %s, %s, %s, %s, %s, %s, %s, %s, %s, %s, %s, %s, %s, %s, %s, %s, %s, %s, %s, %s, %s, %s, %s, %s, %s, %s, %s, %s, %s, %s, %s, %s, %s, %s, %s, %s, %s, %s, %s, %s, %s, %s, %s, %s, %s, %s, %s, %s, %s, %s, %s, %s, %s, %s, %s, %s, %s, %s, %s, %s, %s, %s, %s, %s, %s, %s, %s, %s, %s, %s, %s, %s, %s, %s, %s, %s, %s, %s, %s, %s, %s, %s, %s, %s, %s, %s, %s, %s, %s, %s, %s, %s, %s, %s, %s, %s, %s, %s, %s, %s, %s, %s, %s, %s, %s, %s, %s, %s, %s, %s, %s, %s, %s, %s, %s, %s, %s, %s, %s, %s, %s, %s, %s, %s, %s, %s, %s, %s, %s, %s, %s, %s, %s, %s, %s, %s, %s, %s, %s, %s, %s, %s, %s, %s, %s, %s, %s, %s, %s, %s, %s, %s, %s, %s, %s, %s, %s, %s, %s, %s, %s, %s, %s, %s, %s, %s, %s, %s, %s, %s, %s, %s, %s, %s, %s, %s, %s, %s, %s, %s, %s, %s, %s, %s, %s, %s, %s, %s, %s, %s, %s, %s, %s, %s, %s, %s, %s, %s, %s, %s, %s, %s, %s, %s, %s, %s, %s, %s, %s, %s, %s, %s, %s, %s, %s, %s, %s, %s, %s, %s, %s, %s, %s, %s, %s, %s, %s, %s, %s, %s, %s, %s, %s, %s, %s, %s, %s, %s, %s, %s, %s, %s, %s, %s, %s, %s, %s, %s, %s, %s, %s, %s, %s, %s, %s, %s, %s, %s, %s, %s, %s, %s, %s, %s, %s, %s, %s, %s, %s, %s, %s, %s, %s, %s, %s, %s, %s, %s, %s, %s, %s, %s, %s, %s, %s, %s, %s, %s, %s, %s, %s, %s, %s, %s, %s, %s, %s, %s, %s, %s, %s, %s, %s, %s, %s, %s, %s, %s, %s, %s, %s, %s, %s, %s, %s, %s, %s, %s, %s, %s, %s, %s, %s, %s, %s, %s, %s, %s, %s, %s, %s, %s, %s, %s, %s, %s, %s, %s, %s, %s, %s, %s, %s, %s, %s, %s, %s, %s, %s, %s, %s, %s, %s, %s, %s, %s, %s, %s, %s, %s, %s, %s, %s, %s, %s, %s, %s, %s, %s, %s, %s, %s, %s, %s, %s, %s, %s, %s, %s, %s, %s, %s, %s, %s, %s, %s, %s, %s, %s, %s, %s, %s, %s, %s, %s, %s, %s, %s, %s, %s, %s, %s, %s, %s, %s, %s, %s, %s, %s, %s, %s, %s, %s, %s, %s, %s, %s, %s, %s, %s, %s, %s, %s, %s, %s, %s, %s, %s, %s, %s, %s, %s, %s, %s, %s, %s, %s, %s, %s, %s, %s, %s, %s, %s, %s, %s, %s, %s, %s, %s, %s, %s, %s, %s, %s, %s, %s, %s, %s, %s, %s, %s, %s, %s, %s, %s, %s, %s, %s, %s, %s, %s, %s, %s, %s, %s, %s, %s, %s, %s, %s, %s, %s, %s, %s, %s, %s, %s, %s, %s, %s, %s, %s, %s, %s, %s, %s, %s, %s, %s, %s, %s, %s, %s, %s, %s, %s, %s, %s, %s, %s, %s, %s, %s, %s, %s, %s, %s, %s, %s, %s, %s, %s, %s, %s, %s, %s, %s, %s, %s, %s, %s, %s, %s, %s, %s, %s, %s, %s, %s, %s, %s, %s, %s, %s, %s, %s, %s, %s, %s, %s, %s, %s, %s, %s, %s, %s, %s, %s, %s, %s, %s, %s, %s, %s, %s, %s, %s, %s, %s, %s, %s, %s, %s, %s, %s, %s, %s, %s, %s, %s, %s, %s, %s, %s, %s, %s, %s, %s, %s, %s, %s, %s, %s, %s, %s, %s, %s, %s, %s, %s, %s, %s, %s, %s, %s, %s, %s, %s, %s, %s, %s, %s, %s, %s, %s, %s, %s, %s, %s, %s, %s, %s, %s, %s, %s, %s, %s, %s, %s, %s, %s, %s, %s, %s, %s, %s, %s, %s, %s, %s, %s, %s, %s, %s, %s, %s, %s, %s, %s, %s, %s, %s, %s, %s, %s, %s, %s, %s, %s, %s, %s, %s, %s, %s, %s, %s, %s, %s, %s, %s, %s, %s, %s, %s, %s, %s, %s, %s, %s, %s, %s, %s, %s, %s, %s, %s, %s, %s, %s, %s, %s, %s, %s, %s, %s, %s, %s, %s, %s, %s, %s, %s, %s, %s, %s, %s, %s, %s, %s, %s, %s, %s, %s, %s, %s, %s, %s, %s, %s, %s, %s, %s, %s, %s, %s, %s, %s, %s, %s, %s, %s, %s, %s, %s, %s, %s, %s, %s, %s, %s, %s, %s, %s, %s, %s, %s, %s, %s, %s, %s, %s, %s, %s, %s, %s, %s, %s, %s, %s, %s, %s, %s, %s, %s, %s, %s, %s, %s, %s, %s, %s, %s, %s, %s, %s, %s, %s, %s, %s, %s, %s, %s, %s, %s, %s, %s, %s, %s, %s, %s, %s, %s, %s, %s, %s, %s, %s, %s, %s, %s, %s, %s, %s, %s, %s, %s, %s, %s, %s, %s, %s, %s, %s, %s, %s, %s, %s, %s, %s, %s, %s, %s, %s, %s, %s, %s, %s, %s, %s, %s, %s, %s, %s, %s, %s, %s, %s, %s, %s, %s, %s, %s, %s, %s, %s, %s, %s, %s, %s, %s, %s, %s, %s, %s, %s, %s, %s, %s, %s, %s, %s, %s, %s, %s, %s, %s, %s, %s, %s, %s, %s, %s, %s, %s, %s, %s, %s, %s, %s, %s, %s, %s, %s, %s, %s, %s, %s, %s, %s, %s, %s, %s, %s, %s, %s, %s, %s, %s, %s, %s, %s, %s, %s, %s, %s, %s, %s, %s, %s, %s, %s, %s, %s, %s, %s, %s, %s, %s, %s, %s, %s, %s, %s, %s, %s, %s, %s, %s, %s, %s, %s, %s, %s, %s, %s, %s, %s, %s, %s, %s, %s, %s, %s, %s, %s, %s, %s, %s, %s, %s, %s, %s, %s, %s, %s, %s, %s, %s, %s, %s, %s, %s, %s, %s, %s, %s, %s, %s, %s, %s, %s, %s, %s, %s, %s, %s, %s, %s, %s, %s, %s, %s, %s, %s, %s, %s, %s, %s, %s, %s, %s, %s, %s, %s, %s, %s, %s, %s, %s, %s, %s, %s, %s, %s, %s, %s, %s, %s, %s, %s, %s, %s, %s, %s, %s, %s, %s, %s, %s, %s, %s, %s, %s, %s, %s, %s, %s, %s, %s, %s, %s, %s, %s, %s, %s, %s, %s, %s, %s, %s, %s, %s, %s, %s, %s, %s, %s, %s, %s, %s, %s, %s, %s, %s, %s, %s, %s, %s, %s, %s, %s, %s, %s, %s, %s, %s, %s, %s, %s, %s, %s, %s, %s, %s, %s, %s, %s, %s, %s, %s, %s, %s, %s, %s, %s, %s, %s, %s, %s, %s, %s, %s, %s, %s, %s, %s, %s, %s, %s, %s, %s, %s, %s, %s, %s, %s, %s, %s, %s, %s, %s, %s, %s, %s, %s, %s, %s, %s, %s, %s, %s, %s, %s, %s, %s, %s, %s, %s, %s, %s, %s, %s, %s, %s, %s, %s, %s, %s, %s, %s, %s, %s, %s, %s, %s, %s, %s, %s, %s, %s, %s, %s, %s, %s, %s, %s, %s, %s, %s, %s, %s, %s, %s, %s, %s, %s, %s, %s, %s, %s, %s, %s, %s, %s, %s, %s, %s, %s, %s, %s, %s, %s, %s, %s, %s, %s, %s, %s, %s, %s, %s, %s, %s, %s, %s, %s, %s, %s, %s, %s, %s, %s, %s, %s, %s, %s, %s, %s, %s, %s, %s, %s, %s, %s, %s, %s, %s, %s, %s, %s, %s, %s, %s, %s, %s, %s, %s, %s, %s, %s, %s, %s, %s, %s, %s, %s, %s, %s, %s, %s, %s, %s, %s, %s, %s, %s, %s, %s, %s, %s, %s, %s, %s, %s, %s, %s, %s, %s, %s, %s, %s, %s, %s, %s, %s, %s, %s, %s, %s, %s, %s, %s, %s, %s, %s, %s, %s, %s, %s, %s, %s, %s, %s, %s, %s, %s, %s, %s, %s, %s, %s, %s, %s, %s, %s, %s, %s, %s, %s, %s, %s, %s, %s, %s, %s, %s, %s, %s, %s, %s, %s, %s, %s, %s, %s, %s, %s, %s, %s, %s, %s, %s, %s, %s, %s, %s, %s, %s, %s, %s, %s, %s, %s, %s, %s, %s, %s, %s, %s, %s, %s, %s, %s, %s, %s, %s, %s, %s, %s, %s, %s, %s, %s, %s, %s, %s, %s, %s, %s, %s, %s, %s, %s, %s, %s, %s, %s, %s, %s, %s, %s, %s, %s, %s, %s, %s, %s, %s, %s, %s, %s, %s, %s, %s, %s, %s, %s, %s, %s, %s, %s, %s, %s, %s, %s, %s, %s, %s, %s, %s, %s, %s, %s, %s, %s, %s, %s, %s, %s, %s, %s, %s, %s, %s, %s, %s, %s, %s, %s, %s, %s, %s, %s, %s, %s, %s, %s, %s, %s, %s, %s, %s, %s, %s, %s, %s, %s, %s, %s, %s, %s, %s, %s, %s, %s, %s, %s, %s, %s, %s, %s, %s, %s, %s, %s, %s, %s, %s, %s, %s, %s, %s, %s, %s, %s, %s, %s, %s, %s, %s, %s, %s, %s, %s, %s, %s, %s, %s, %s, %s, %s, %s, %s, %s, %s, %s, %s, %s, %s, %s, %s, %s, %s, %s, %s, %s, %s, %s, %s, %s, %s, %s, %s, %s, %s, %s, %s, %s, %s, %s, %s, %s, %s, %s, %s, %s, %s, %s, %s, %s, %s, %s, %s, %s, %s, %s, %s, %s, %s, %s, %s, %s, %s, %s, %s, %s, %s, %s, %s, %s, %s, %s, %s, %s, %s, %s, %s, %s, %s, %s, %s, %s, %s, %s, %s, %s, %s, %s, %s, %s, %s, %s, %s, %s, %s, %s, %s, %s, %s, %s, %s, %s, %s, %s, %s, %s, %s, %s, %s, %s, %s, %s, %s, %s, %s, %s, %s, %s, %s, %s, %s, %s, %s, %s, %s, %s, %s, %s, %s, %s, %s, %s, %s, %s, %s, %s, %s, %s, %s, %s, %s, %s, %s, %s, %s, %s, %s, %s, %s, %s, %s, %s, %s, %s, %s, %s, %s, %s, %s, %s, %s, %s, %s, %s, %s, %s, %s, %s, %s, %s, %s, %s, %s, %s, %s, %s, %s, %s, %s, %s, %s, %s, %s, %s, %s, %s, %s, %s, %s, %s, %s, %s, %s, %s, %s, %s, %s, %s, %s, %s, %s, %s, %s, %s, %s, %s, %s, %s, %s, %s, %s, %s, %s, %s, %s, %s, %s, %s, %s, %s, %s, %s, %s, %s, %s, %s, %s, %s, %s, %s, %s, %s, %s, %s, %s, %s, %s, %s, %s, %s, %s, %s, %s, %s, %s, %s, %s, %s, %s, %s, %s, %s, %s, %s, %s, %s, %s, %s, %s, %s, %s, %s, %s, %s, %s, %s, %s, %s, %s, %s, %s, %s, %s, %s, %s, %s, %s, %s, %s, %s, %s, %s, %s, %s, %s, %s, %s, %s, %s, %s, %s, %s, %s, %s, %s, %s, %s, %s, %s, %s, %s, %s, %s, %s, %s, %s, %s, %s, %s, %s, %s, %s, %s, %s, %s, %s, %s, %s, %s, %s, %s, %s, %s, %s, %s, %s, %s, %s, %s, %s, %s, %s, %s, %s, %s, %s, %s, %s, %s, %s, %s, %s, %s, %s, %s, %s, %s, %s, %s, %s, %s, %s, %s, %s, %s, %s, %s, %s, %s, %s, %s, %s, %s, %s, %s, %s, %s, %s, %s, %s, %s, %s, %s, %s, %s, %s, %s, %s, %s, %s, %s, %s, %s, %s, %s, %s, %s, %s, %s, %s, %s, %s, %s, %s, %s, %s, %s, %s, %s, %s, %s, %s, %s, %s, %s, %s, %s, %s, %s, %s, %s, %s, %s, %s, %s, %s, %s, %s, %s, %s, %s, %s, %s, %s, %s, %s, %s, %s, %s, %s, %s, %s, %s, %s, %s, %s, %s, %s, %s, %s, %s, %s, %s, %s, %s, %s, %s, %s, %s, %s, %s, %s, %s, %s, %s, %s, %s, %s, %s, %s, %s, %s, %s, %s, %s, %s, %s, %s, %s, %s, %s, %s, %s, %s, %s, %s, %s, %s, %s, %s, %s, %s, %s, %s, %s, %s, %s, %s, %s, %s, %s, %s, %s, %s, %s, %s, %s, %s, %s, %s, %s, %s, %s, %s, %s, %s, %s, %s, %s, %s, %s, %s, %s, %s, %s, %s, %s, %s, %s, %s, %s, %s, %s, %s, %s, %s, %s, %s, %s, %s, %s, %s, %s, %s, %s, %s, %s, %s, %s, %s, %s, %s, %s, %s, %s, %s, %s, %s, %s, %s, %s, %s, %s, %s, %s, %s, %s, %s, %s, %s, %s, %s, %s, %s, %s, %s, %s, %s, %s, %s, %s, %s, %s, %s, %s, %s, %s, %s, %s, %s, %s, %s, %s, %s, %s, %s, %s, %s, %s, %s, %s, %s, %s, %s, %s, %s, %s, %s, %s, %s, %s, %s, %s, %s, %s, %s, %s, %s, %s, %s, %s, %s, %s, %s, %s, %s, %s, %s, %s, %s, %s, %s, %s, %s, %s, %s, %s, %s, %s, %s, %s, %s, %s, %s, %s, %s, %s, %s, %s, %s, %s, %s, %s, %s, %s, %s, %s, %s, %s, %s, %s, %s, %s, %s, %s, %s, %s, %s, %s, %s, %s, %s, %s, %s, %s, %s, %s, %s, %s, %s, %s, %s, %s, %s, %s, %s, %s, %s, %s, %s, %s, %s, %s, %s, %s, %s, %s, %s, %s, %s, %s, %s, %s, %s, %s, %s, %s, %s, %s, %s, %s, %s, %s, %s, %s, %s, %s, %s, %s, %s, %s, %s, %s, %s, %s, %s, %s, %s, %s, %s, %s, %s, %s, %s, %s, %s, %s, %s, %s, %s, %s, %s, %s, %s, %s, %s, %s, %s, %s, %s, %s, %s, %s, %s, %s, %s, %s, %s, %s, %s, %s, %s, %s, %s, %s, %s, %s, %s, %s, %s, %s, %s, %s, %s, %s, %s, %s, %s, %s, %s, %s, %s, %s, %s, %s, %s, %s, %s, %s, %s, %s, %s, %s, %s, %s, %s, %s, %s, %s, %s, %s, %s, %s, %s, %s, %s, %s, %s, %s, %s, %s, %s, %s, %s, %s, %s, %s, %s, %s, %s, %s, %s, %s, %s, %s, %s, %s, %s, %s, %s, %s, %s, %s, %s, %s, %s, %s, %s, %s, %s, %s, %s, %s, %s, %s, %s, %s, %s, %s, %s, %s, %s, %s, %s, %s, %s, %s, %s, %s, %s, %s, %s, %s, %s, %s, %s, %s, %s, %s, %s, %s, %s, %s, %s, %s, %s, %s, %s, %s, %s, %s, %s, %s, %s, %s, %s, %s, %s, %s, %s, %s, %s, %s, %s, %s, %s, %s, %s, %s, %s, %s, %s, %s, %s, %s, %s, %s, %s, %s, %s, %s, %s, %s, %s, %s, %s, %s, %s, %s, %s, %s, %s, %s, %s, %s, %s, %s, %s, %s, %s, %s, %s, %s, %s, %s, %s, %s, %s, %s, %s, %s, %s, %s, %s, %s, %s, %s, %s, %s, %s, %s, %s, %s, %s, %s, %s, %s, %s, %s, %s, %s, %s, %s, %s, %s, %s, %s, %s, %s, %s, %s, %s, %s, %s, %s, %s, %s, %s, %s, %s, %s, %s, %s, %s, %s, %s, %s, %s, %s, %s, %s, %s, %s, %s, %s, %s, %s, %s, %s, %s, %s, %s, %s, %s, %s, %s, %s, %s, %s, %s, %s, %s, %s, %s, %s, %s, %s, %s, %s, %s, %s, %s, %s, %s, %s, %s, %s, %s, %s, %s, %s, %s, %s, %s, %s, %s, %s, %s, %s, %s, %s, %s, %s, %s, %s, %s, %s, %s, %s, %s, %s, %s, %s, %s, %s, %s, %s, %s, %s, %s, %s, %s, %s, %s, %s, %s, %s, %s, %s, %s, %s, %s, %s, %s, %s, %s, %s, %s, %s, %s, %s, %s, %s, %s, %s, %s, %s, %s, %s, %s, %s, %s, %s, %s, %s, %s, %s, %s, %s, %s, %s, %s, %s, %s, %s, %s, %s, %s, %s, %s, %s, %s, %s, %s, %s, %s, %s, %s, %s, %s, %s, %s, %s, %s, %s, %s, %s, %s, %s, %s, %s, %s, %s, %s, %s, %s, %s, %s, %s, %s, %s, %s, %s, %s, %s, %s, %s, %s, %s, %s, %s, %s, %s, %s, %s, %s, %s, %s, %s, %s, %s, %s, %s, %s, %s, %s, %s, %s, %s, %s, %s, %s, %s, %s, %s, %s, %s, %s, %s, %s, %s, %s, %s, %s, %s, %s, %s, %s, %s, %s, %s, %s, %s, %s, %s, %s, %s, %s, %s, %s, %s, %s, %s, %s, %s, %s, %s, %s, %s, %s, %s, %s, %s, %s, %s, %s, %s, %s, %s, %s, %s, %s, %s, %s, %s, %s, %s, %s, %s, %s, %s, %s, %s, %s, %s, %s, %s, %s, %s, %s, %s, %s, %s, %s, %s, %s, %s, %s, %s, %s, %s, %s, %s, %s, %s, %s, %s, %s, %s, %s, %s, %s, %s, %s, %s, %s, %s, %s, %s, %s, %s, %s, %s, %s, %s, %s, %s, %s, %s, %s, %s, %s, %s, %s, %s, %s, %s, %s, %s, %s, %s, %s, %s, %s, %s, %s, %s, %s, %s, %s, %s, %s, %s, %s, %s, %s, %s, %s, %s, %s, %s, %s, %s, %s, %s, %s, %s, %s, %s, %s, %s, %s, %s, %s, %s, %s, %s, %s, %s, %s, %s, %s, %s, %s, %s, %s, %s, %s, %s, %s, %s, %s, %s, %s, %s, %s, %s, %s, %s, %s, %s, %s, %s, %s, %s, %s, %s, %s, %s, %s, %s, %s, %s, %s, %s, %s, %s, %s, %s, %s, %s, %s, %s, %s, %s, %s, %s, %s, %s, %s, %s, %s, %s, %s, %s, %s, %s, %s, %s, %s, %s, %s, %s, %s, %s, %s, %s, %s, %s, %s, %s, %s, %s, %s, %s, %s, %s, %s, %s, %s, %s, %s, %s, %s, %s, %s, %s, %s, %s, %s, %s, %s, %s, %s, %s, %s, %s, %s, %s, %s, %s, %s, %s, %s, %s, %s, %s, %s, %s, %s, %s, %s, %s, %s, %s, %s, %s, %s, %s, %s, %s, %s, %s, %s, %s, %s, %s, %s, %s, %s, %s, %s, %s, %s, %s, %s, %s, %s, %s, %s, %s, %s, %s, %s, %s, %s, %s, %s, %s, %s, %s, %s, %s, %s, %s, %s, %s, %s, %s, %s, %s, %s, %s, %s, %s, %s, %s, %s, %s, %s, %s, %s, %s, %s, %s, %s, %s, %s, %s, %s, %s, %s, %s, %s, %s, %s, %s, %s, %s, %s, %s, %s, %s, %s, %s, %s, %s, %s, %s, %s, %s, %s, %s, %s, %s, %s, %s, %s, %s, %s, %s, %s, %s, %s, %s, %s, %s, %s, %s, %s, %s, %s, %s, %s, %s, %s, %s, %s, %s, %s, %s, %s, %s, %s, %s, %s, %s, %s, %s, %s, %s, %s, %s, %s, %s, %s, %s, %s, %s, %s, %s, %s, %s, %s, %s, %s, %s, %s, %s, %s, %s, %s, %s, %s, %s, %s, %s, %s, %s, %s, %s, %s, %s, %s, %s, %s, %s, %s, %s, %s, %s, %s, %s, %s, %s, %s, %s, %s, %s, %s, %s, %s, %s, %s, %s, %s, %s, %s, %s, %s, %s, %s, %s, %s, %s, %s, %s, %s, %s, %s, %s, %s, %s, %s, %s, %s, %s, %s, %s, %s, %s, %s, %s, %s, %s, %s, %s, %s, %s, %s, %s, %s, %s, %s, %s, %s, %s, %s, %s, %s, %s, %s, %s, %s, %s, %s, %s, %s, %s, %s, %s, %s, %s, %s, %s, %s, %s, %s, %s, %s, %s, %s, %s, %s, %s, %s, %s, %s, %s, %s, %s, %s, %s, %s, %s, %s, %s, %s, %s, %s, %s, %s, %s, %s, %s, %s, %s, %s, %s, %s, %s, %s, %s, %s, %s, %s, %s, %s, %s, %s, %s, %s, %s, %s, %s, %s, %s, %s, %s, %s, %s, %s, %s, %s, %s, %s, %s, %s, %s, %s, %s, %s, %s, %s, %s, %s, %s, %s, %s, %s, %s, %s, %s, %s, %s, %s, %s, %s, %s, %s, %s, %s, %s, %s, %s, %s, %s, %s, %s, %s, %s, %s, %s, %s, %s, %s, %s, %s, %s, %s, %s, %s, %s, %s, %s, %s, %s, %s, %s, %s, %s, %s, %s, %s, %s, %s, %s, %s, %s, %s, %s, %s, %s, %s, %s, %s, %s, %s, %s, %s, %s, %s, %s, %s, %s, %s, %s, %s, %s, %s, %s, %s, %s, %s, %s, %s, %s, %s, %s, %s, %s, %s, %s, %s, %s, %s, %s, %s, %s, %s, %s, %s, %s, %s, %s, %s, %s, %s, %s, %s, %s, %s, %s, %s, %s, %s, %s, %s, %s, %s, %s, %s, %s, %s, %s, %s, %s, %s, %s, %s, %s, %s, %s, %s, %s, %s, %s, %s, %s, %s, %s, %s, %s, %s, %s, %s, %s, %s, %s, %s, %s, %s, %s, %s, %s, %s, %s, %s, %s, %s, %s, %s, %s, %s, %s, %s, %s, %s, %s, %s, %s, %s, %s, %s, %s, %s, %s, %s, %s, %s, %s, %s, %s, %s, %s, %s, %s, %s, %s, %s, %s, %s, %s, %s, %s, %s, %s, %s, %s, %s, %s, %s, %s, %s, %s, %s, %s, %s, %s, %s, %s, %s, %s, %s, %s, %s, %s, %s, %s, %s, %s, %s, %s, %s, %s, %s, %s, %s, %s, %s, %s, %s, %s, %s, %s, %s, %s, %s, %s, %s, %s, %s, %s, %s, %s, %s, %s, %s, %s, %s, %s, %s, %s, %s, %s, %s, %s, %s, %s, %s, %s, %s, %s, %s, %s, %s, %s, %s, %s, %s, %s, %s, %s, %s, %s, %s, %s, %s, %s, %s, %s, %s, %s, %s, %s, %s, %s, %s, %s, %s, %s, %s, %s, %s, %s, %s, %s, %s, %s, %s, %s, %s, %s, %s, %s, %s, %s, %s, %s, %s, %s, %s, %s, %s, %s, %s, %s, %s, %s, %s, %s, %s, %s, %s, %s, %s, %s, %s, %s, %s, %s, %s, %s, %s, %s, %s, %s, %s, %s, %s, %s, %s, %s, %s, %s, %s, %s, %s, %s, %s, %s, %s, %s, %s, %s, %s, %s, %s, %s, %s, %s, %s, %s, %s, %s, %s, %s, %s, %s, %s, %s, %s, %s, %s, %s, %s, %s, %s, %s, %s, %s, %s, %s, %s, %s, %s, %s, %s, %s, %s, %s, %s, %s, %s, %s, %s, %s, %s, %s, %s, %s, %s, %s, %s, %s, %s, %s, %s, %s, %s, %s, %s, %s, %s, %s, %s, %s, %s, %s, %s, %s, %s, %s, %s, %s, %s, %s, %s, %s, %s, %s, %s, %s, %s, %s, %s, %s, %s, %s, %s, %s, %s, %s, %s, %s, %s, %s, %s, %s, %s, %s, %s, %s, %s, %s, %s, %s, %s, %s, %s, %s, %s, %s, %s, %s, %s, %s, %s, %s, %s, %s, %s, %s, %s, %s, %s, %s, %s, %s, %s, %s, %s, %s, %s, %s, %s, %s, %s, %s, %s, %s, %s, %s, %s, %s, %s, %s, %s, %s, %s, %s, %s, %s, %s, %s, %s, %s, %s, %s, %s, %s, %s, %s, %s, %s, %s, %s, %s, %s, %s, %s, %s, %s, %s, %s, %s, %s, %s, %s, %s, %s, %s, %s, %s, %s, %s, %s, %s, %s, %s, %s, %s, %s, %s, %s, %s, %s, %s, %s, %s, %s, %s, %s, %s, %s, %s, %s, %s, %s, %s, %s, %s, %s, %s, %s, %s, %s, %s, %s, %s, %s, %s, %s, %s, %s, %s, %s, %s, %s, %s, %s, %s, %s, %s, %s, %s, %s, %s, %s, %s, %s, %s, %s, %s, %s, %s, %s, %s, %s, %s, %s, %s, %s, %s, %s, %s, %s, %s, %s, %s, %s, %s, %s, %s, %s, %s, %s, %s, %s, %s, %s\n",
      ">> Fetched the cat1 data containing 4284 rows\n"
     ]
    }
   ],
   "source": [
    "# getting cat1 data from db\n",
    "cat1_df = fetch_cat1_data(conn, df)\n",
    "print(f\">> Fetched the cat1 data containing {len(cat1_df)} rows\")"
   ]
  },
  {
   "cell_type": "code",
   "execution_count": 146,
   "metadata": {},
   "outputs": [
    {
     "name": "stdout",
     "output_type": "stream",
     "text": [
      ">> Map items from item to top items in cat3 871 rows\n"
     ]
    }
   ],
   "source": [
    "# Map item to top item in cat3\n",
    "item_to_cat3_top_map= create_cat3_to_top_item_map(df, cat3_df, top_5_items_cat3)\n",
    "print(f\">> Map items from item to top items in cat3 {len(item_to_cat3_top_map)} rows\")"
   ]
  },
  {
   "cell_type": "markdown",
   "metadata": {},
   "source": [
    "# Cat 3 operations"
   ]
  },
  {
   "cell_type": "code",
   "execution_count": 147,
   "metadata": {},
   "outputs": [
    {
     "name": "stdout",
     "output_type": "stream",
     "text": [
      ">> Made cat3 level baskets for co-occurance size: 82733\n"
     ]
    }
   ],
   "source": [
    "# Make cat3 level baskets for co-occurance\n",
    "cat3_basket_365=replace_item_cde_with_cat3_set(flattened_basket_list_365, cat3_df)\n",
    "print(f\">> Made cat3 level baskets for co-occurance size: {len(cat3_basket_365)}\")"
   ]
  },
  {
   "cell_type": "code",
   "execution_count": 148,
   "metadata": {},
   "outputs": [
    {
     "name": "stderr",
     "output_type": "stream",
     "text": [
      "100%|██████████| 82733/82733 [00:00<00:00, 318708.58it/s]\n",
      "100%|██████████| 17/17 [00:00<?, ?it/s]"
     ]
    },
    {
     "name": "stdout",
     "output_type": "stream",
     "text": [
      ">> Create co-occurance df for cat3 level df Length: 17\n"
     ]
    },
    {
     "name": "stderr",
     "output_type": "stream",
     "text": [
      "\n"
     ]
    }
   ],
   "source": [
    "# Create co-occurance df for cat3 level\n",
    "cat3_co_occurrence_matrix, cat3_recommendation_df=create_cooccurrence_matrix_with_recommendations_2(cat3_basket_365)\n",
    "print(f\">> Create co-occurance df for cat3 level df Length: {len(cat3_recommendation_df)}\")"
   ]
  },
  {
   "cell_type": "code",
   "execution_count": 149,
   "metadata": {},
   "outputs": [
    {
     "name": "stdout",
     "output_type": "stream",
     "text": [
      ">> Product+cat3 level df of Length: 897 rows\n"
     ]
    }
   ],
   "source": [
    "# Map cat3 and add cat3 level recos\n",
    "new_cat3_recommendation_df = map_and_add_recommendations(seg_pkg_df, cat3_df, result_df, cat3_recommendation_df,top_5_items_cat3)\n",
    "print(f\">> Product+cat3 level df of Length: {len(new_cat3_recommendation_df)} rows\")"
   ]
  },
  {
   "cell_type": "code",
   "execution_count": 150,
   "metadata": {},
   "outputs": [],
   "source": [
    "# Drop empty space on new_cat3_recommendation_df\n",
    "\n",
    "result_df_2=drop_spaces(new_cat3_recommendation_df)"
   ]
  },
  {
   "cell_type": "code",
   "execution_count": 151,
   "metadata": {},
   "outputs": [],
   "source": [
    "result_df_2 = pd.DataFrame({\n",
    "    'item_cde': new_cat3_recommendation_df.item_cde,\n",
    "    'reco': new_cat3_recommendation_df.drop(columns=['item_cde'])  # Apply to all other columns\n",
    "        .apply(lambda row: [\n",
    "            int(x) if isinstance(x, (str, float, int)) and str(x).strip() != '' else x \n",
    "            for x in row.dropna()\n",
    "        ], axis=1)\n",
    "})"
   ]
  },
  {
   "cell_type": "markdown",
   "metadata": {},
   "source": [
    "# Cat 1 Operations"
   ]
  },
  {
   "cell_type": "code",
   "execution_count": 152,
   "metadata": {},
   "outputs": [
    {
     "name": "stdout",
     "output_type": "stream",
     "text": [
      ">> Made cat1 level baskets for co-occurance size: 82733\n"
     ]
    }
   ],
   "source": [
    "# Make cat1 level baskets for co-occurance\n",
    "cat1_basket_365=replace_item_cde_with_cat3_set(flattened_basket_list_365, cat1_df)\n",
    "print(f\">> Made cat1 level baskets for co-occurance size: {len(cat1_basket_365)}\")"
   ]
  },
  {
   "cell_type": "code",
   "execution_count": 153,
   "metadata": {},
   "outputs": [
    {
     "name": "stderr",
     "output_type": "stream",
     "text": [
      "100%|██████████| 82733/82733 [00:00<00:00, 543351.06it/s]\n",
      "100%|██████████| 7/7 [00:00<?, ?it/s]"
     ]
    },
    {
     "name": "stdout",
     "output_type": "stream",
     "text": [
      ">> Create co-occurance df for cat3 level df Length: 7\n"
     ]
    },
    {
     "name": "stderr",
     "output_type": "stream",
     "text": [
      "\n"
     ]
    }
   ],
   "source": [
    "# Create co-occurance df for cat1 level\n",
    "cat1_co_occurrence_matrix, cat1_recommendation_df=create_cooccurrence_matrix_with_recommendations(cat1_basket_365, top_n=5)\n",
    "print(f\">> Create co-occurance df for cat3 level df Length: {len(cat1_recommendation_df)}\")"
   ]
  },
  {
   "cell_type": "code",
   "execution_count": 154,
   "metadata": {},
   "outputs": [
    {
     "name": "stdout",
     "output_type": "stream",
     "text": [
      ">> Product+cat1+cat3 level df of Length: 936 rows\n"
     ]
    }
   ],
   "source": [
    "# Map cat1 and add cat3 level recos\n",
    "new_cat1_recommendation_df = map_and_add_recommendations_cat1(seg_pkg_df, cat1_df, new_cat3_recommendation_df, cat1_recommendation_df, top_5_items_cat1)\n",
    "print(f\">> Product+cat1+cat3 level df of Length: {len(new_cat1_recommendation_df)} rows\")"
   ]
  },
  {
   "cell_type": "code",
   "execution_count": 155,
   "metadata": {},
   "outputs": [],
   "source": [
    "result_df_3 = pd.DataFrame({\n",
    "    'item_cde': new_cat1_recommendation_df.item_cde,\n",
    "    'reco': new_cat1_recommendation_df.drop(columns=['item_cde'])  # Apply to all other columns\n",
    "        .apply(lambda row: [\n",
    "            int(x) if isinstance(x, (str, float, int)) and str(x).strip() != '' else x \n",
    "            for x in row.dropna()\n",
    "        ], axis=1)\n",
    "})"
   ]
  },
  {
   "cell_type": "code",
   "execution_count": 156,
   "metadata": {},
   "outputs": [],
   "source": [
    "import pandas as pd\n",
    "import itertools\n",
    "\n",
    "\n",
    "# Ensure reco column contains lists and handle empty lists\n",
    "result_df_3['reco'] = result_df_3['reco'].apply(lambda x: x if isinstance(x, list) else [])\n",
    "\n",
    "# Flatten list of lists into a single list\n",
    "result_df_3['reco'] = result_df_3['reco'].apply(lambda x: list(itertools.chain.from_iterable(x)) if any(isinstance(i, list) for i in x) else x)\n",
    "\n",
    "# Sort each list and keep the first 5 min values\n",
    "result_df_3['reco'] = result_df_3['reco'].apply(lambda x: x[:5])\n",
    "\n",
    "# Convert the lists into separate columns\n",
    "df_result_expanded = result_df_3.reco.apply(lambda x: pd.Series(x)).rename(columns=lambda i: f'Recommendation {i+1}')\n",
    "\n",
    "# Merge with original DataFrame\n",
    "df_3 = pd.concat([result_df_3.drop(columns=['reco']), df_result_expanded], axis=1)\n",
    "\n"
   ]
  },
  {
   "cell_type": "markdown",
   "metadata": {},
   "source": [
    "# Reorder alliance, private items"
   ]
  },
  {
   "cell_type": "code",
   "execution_count": 157,
   "metadata": {},
   "outputs": [],
   "source": [
    "def reorder_alliance_new(df, pvt_a_label_df):\n",
    "    \"\"\"\n",
    "    Reorders the recommendations for each item_cde based on private_label_sw\n",
    "    and adds columns indicating whether each recommendation is private branded.\n",
    "    Parameters:\n",
    "        df: A DataFrame containing 'item_cde' and 'Recommendation 1' to 'Recommendation 15'.\n",
    "        private_label_df: A DataFrame containing 'item_cde' and 'private_label_sw'.\n",
    "    Returns:\n",
    "        reordered_df: A DataFrame with reordered recommendations and private branding info.\n",
    "    \"\"\"\n",
    "    pvt_a_label_df['Item Number'] = pvt_a_label_df['Item Number'].astype(str)\n",
    "\n",
    "    alliance_brand_dict = {item: 1 if item in pvt_a_label_df['Item Number'].values else 0 for item in df['item_cde']}\n",
    "    \n",
    "    print(alliance_brand_dict)\n",
    "    \n",
    "    reordered_recommendations = []\n",
    "\n",
    "    for _, row in df.iterrows():\n",
    "        item_cde = row['item_cde']\n",
    "        recommendations = [(row[f'Recommendation {i}'][0] if isinstance(row[f'Recommendation {i}'], list) else row[f'Recommendation {i}'],\n",
    "        alliance_brand_dict.get(row[f'Recommendation {i}'][0] if isinstance(row[f'Recommendation {i}'], list) else row[f'Recommendation {i}']))\n",
    "        for i in range(1, 6)]\n",
    "\n",
    "        \n",
    "        # Sort recommendations based on private_label_sw ('Y' should come first)\n",
    "        recommendations.sort(key=lambda x: x[1] != 1)\n",
    "        \n",
    "        reordered_row = {'item_cde': item_cde}\n",
    "        for i, (rec, private_label) in enumerate(recommendations):\n",
    "            reordered_row[f'Recommendation {i+1}'] = rec\n",
    "            reordered_row[f'Recommendation {i+1}_alliance'] = private_label\n",
    "        \n",
    "        reordered_recommendations.append(reordered_row)\n",
    "    \n",
    "    reordered_df = pd.DataFrame(reordered_recommendations)\n",
    "    return reordered_df"
   ]
  },
  {
   "cell_type": "code",
   "execution_count": 158,
   "metadata": {},
   "outputs": [
    {
     "name": "stdout",
     "output_type": "stream",
     "text": [
      "{'10298253': 1, '10299390': 1, '10301632': 1, '10302459': 0, '10302519': 1, '10727262': 1, '10727284': 1, '10727287': 1, '10727303': 1, '10727310': 1, '10727314': 1, '10727321': 1, '10727322': 1, '10727324': 1, '10727328': 1, '10727671': 1, '10734887': 1, '10734889': 1, '10734890': 1, '10735671': 1, '10735672': 1, '10735673': 1, '10735674': 1, '10735675': 1, '10735676': 1, '10735677': 1, '10735678': 1, '10735679': 1, '10735680': 1, '10735681': 1, '10735682': 1, '10735683': 1, '10735684': 1, '10735685': 1, '10735686': 1, '10735687': 1, '10735688': 1, '10735689': 1, '10735690': 1, '10735691': 1, '10735692': 1, '10735693': 1, '10735694': 1, '10735695': 1, '10735696': 1, '10735697': 1, '10735698': 1, '10735699': 1, '10735700': 1, '10735701': 1, '10735702': 1, '10735703': 1, '10735704': 1, '10735705': 1, '10735706': 1, '10735707': 1, '10735708': 1, '10735709': 1, '10735710': 1, '10735711': 1, '10735712': 1, '10735713': 1, '10735714': 1, '10735715': 1, '10735716': 1, '10735717': 1, '10735718': 1, '10735719': 1, '10735720': 1, '10735721': 1, '10735723': 1, '10735729': 1, '10735732': 1, '10735740': 1, '10735743': 1, '10735744': 1, '10735745': 1, '10735746': 1, '10735749': 1, '10735757': 1, '10735760': 1, '10735764': 1, '10735769': 1, '10735770': 1, '10735775': 1, '10735776': 1, '10735777': 1, '10735778': 1, '10735779': 1, '10735780': 1, '10735784': 1, '10735785': 1, '10735786': 1, '10735787': 1, '10735788': 1, '10735789': 1, '10735790': 1, '10735792': 1, '10735793': 1, '10735797': 1, '10735798': 1, '10735799': 1, '10735800': 1, '10735801': 1, '10735802': 1, '10735803': 1, '10735804': 1, '10735805': 1, '10735806': 1, '10735807': 1, '10735809': 1, '10735810': 1, '10735811': 1, '10735814': 1, '10735815': 1, '10735816': 1, '10735817': 1, '10735819': 1, '10735823': 1, '10735824': 1, '10735825': 1, '10735826': 1, '10735827': 1, '10735828': 1, '10735829': 1, '10735831': 1, '10735832': 1, '10735833': 1, '10735834': 1, '10735835': 1, '10735836': 1, '10735837': 1, '10735838': 1, '10735839': 1, '10735840': 1, '10735841': 1, '10735842': 1, '10735845': 1, '10735846': 1, '10735847': 1, '10735848': 1, '10735849': 1, '10735850': 1, '10735851': 1, '10735852': 1, '10735853': 1, '10735854': 1, '10735857': 1, '10735858': 1, '10735859': 1, '10735861': 1, '10735862': 1, '10735863': 1, '10735864': 1, '10735865': 1, '10735866': 1, '10735868': 1, '10735869': 1, '10735870': 1, '10735871': 1, '10735874': 1, '10735877': 1, '10735878': 1, '10735879': 1, '10735881': 1, '10735882': 1, '10735887': 1, '10735888': 1, '10735889': 1, '10735890': 1, '10735894': 1, '10735896': 1, '10735897': 1, '10735900': 1, '10735901': 1, '10735902': 1, '10735904': 1, '10735905': 1, '10735906': 1, '10735908': 1, '10735913': 1, '10735914': 1, '10735917': 1, '10735918': 1, '10735920': 1, '10735921': 1, '10735922': 1, '10735923': 1, '10735924': 1, '10735925': 1, '10735928': 1, '10735929': 1, '10735930': 1, '10735931': 1, '10735932': 1, '10735933': 1, '10735935': 1, '10735936': 1, '10735937': 1, '10735938': 1, '10735939': 1, '10738641': 1, '10745464': 1, '10745531': 1, '10751218': 1, '10751226': 1, '10751232': 1, '10751245': 1, '10751248': 1, '10751250': 1, '10751251': 1, '10751253': 1, '10751254': 1, '10751255': 1, '10755095': 1, '10755096': 1, '10755097': 1, '10755098': 1, '10755099': 1, '10755100': 1, '10755101': 1, '10755102': 1, '10755103': 1, '10755104': 1, '10755105': 1, '10755106': 1, '10755107': 1, '10755108': 1, '10755109': 1, '10755110': 1, '10755111': 1, '10755112': 1, '10755113': 1, '10755114': 1, '10755115': 1, '10755116': 1, '10755117': 1, '10755118': 1, '10755119': 1, '10755120': 1, '10755121': 1, '10755122': 1, '10755123': 1, '10755124': 1, '10755125': 1, '10755126': 1, '10755127': 1, '10755128': 1, '10755129': 1, '10755130': 1, '10755131': 1, '10755132': 1, '10755133': 1, '10755134': 1, '10755135': 1, '10755136': 1, '10755137': 1, '10755138': 1, '10755139': 1, '10755140': 1, '10755141': 1, '10755142': 1, '10755143': 1, '10755144': 1, '10755145': 1, '10755146': 1, '10755147': 1, '10755148': 1, '10755149': 1, '10755150': 1, '10755151': 1, '10755152': 1, '10755153': 1, '10755154': 1, '10755155': 1, '10755156': 1, '10755157': 1, '10755158': 1, '10755159': 1, '10755160': 1, '10755161': 1, '10755162': 1, '10755163': 1, '10755164': 1, '10755165': 1, '10755166': 1, '10755167': 1, '10755168': 1, '10755169': 1, '10755170': 1, '10755171': 1, '10755172': 1, '10755173': 1, '10755174': 1, '10755586': 1, '10755587': 1, '10755913': 1, '10755915': 1, '10755922': 1, '10756706': 1, '10757002': 1, '10757004': 1, '10757750': 1, '10763620': 1, '10763622': 1, '10763625': 1, '10763634': 1, '10763638': 1, '10763653': 1, '10763657': 1, '10763666': 1, '10766029': 1, '10766038': 1, '10766041': 1, '10766047': 1, '10766054': 1, '10766056': 1, '10766059': 1, '10766060': 1, '10766064': 1, '10769915': 1, '10769916': 1, '10776969': 1, '10776973': 1, '10782436': 1, '10802527': 1, '10845041': 1, '10857471': 1, '10872106': 1, '10872523': 1, '10872574': 1, '10876974': 1, '10889835': 1, '10889875': 1, '10908694': 1, '10908706': 1, '10911694': 1, '10911695': 1, '10911699': 1, '10911706': 1, '10911710': 1, '10911713': 1, '10911715': 1, '10911717': 1, '10911721': 1, '10911723': 1, '10911726': 1, '10911731': 1, '10911733': 1, '10911735': 1, '10911754': 1, '10911756': 1, '10911757': 1, '10911764': 1, '10911766': 1, '10911804': 1, '10911827': 1, '10911828': 1, '10913033': 1, '10913041': 1, '10913091': 1, '10934198': 1, '10947866': 1, '10947872': 1, '10988683': 1, '10988694': 1, '10988700': 1, '10988714': 1, '10988728': 1, '10988857': 1, '10988858': 1, '10988866': 1, '10988881': 1, '10988882': 1, '10988885': 1, '10988910': 1, '10988913': 1, '10988918': 1, '10988950': 1, '10988954': 1, '10988962': 1, '10988963': 1, '10988966': 1, '10988969': 1, '10988971': 1, '10988985': 1, '10988990': 1, '10988992': 1, '10988997': 1, '10989000': 1, '10989024': 1, '10989038': 1, '10989043': 1, '10989053': 1, '10989142': 1, '10989176': 1, '10989198': 1, '10989199': 1, '10989209': 1, '10989213': 1, '10989234': 1, '10989587': 1, '10990066': 1, '10990069': 1, '10990072': 1, '10990077': 1, '10990079': 1, '10990083': 1, '10990086': 1, '10990091': 1, '10990094': 1, '10990105': 1, '10990114': 1, '10990119': 1, '10990121': 1, '10990152': 1, '10990482': 1, '10990849': 1, '10991088': 1, '10991096': 1, '10991101': 1, '10991102': 1, '10991117': 1, '11015698': 1, '11015718': 1, '11015730': 1, '11015735': 1, '11015764': 1, '11015774': 1, '11015776': 1, '11015796': 1, '11015800': 1, '11015824': 1, '11015861': 1, '11015872': 1, '11015899': 1, '11015916': 1, '11015921': 1, '11016184': 1, '11016307': 1, '11017780': 1, '11018713': 1, '11083099': 1, '11107120': 1, '11107163': 1, '11114081': 1, '11120152': 1, '11136846': 0, '11136851': 0, '11136857': 0, '11142578': 1, '11142581': 1, '11142582': 1, '11142584': 1, '11142595': 1, '11142597': 1, '11150510': 1, '20001992': 1, '20013064': 1, '20015005': 1, '20015114': 1, '20015142': 1, '20015144': 1, '20015145': 1, '20015146': 1, '20015150': 1, '20015154': 1, '20015155': 1, '20015157': 1, '20015158': 1, '20015159': 1, '20015160': 1, '20015163': 1, '20015166': 1, '20015167': 1, '20015168': 1, '20015170': 1, '20015171': 1, '20015174': 1, '20015177': 1, '20015583': 1, '20017153': 1, '20017185': 1, '20017191': 1, '20017288': 1, '20017293': 1, '20017637': 1, '20017644': 1, '20017645': 1, '20017647': 1, '20017648': 1, '20018262': 1, '20018342': 1, '20020891': 1, '20021724': 1, '20026169': 1, '20026394': 1, '20026413': 1, '20032049': 1, '20032978': 1, '20033039': 1, '20033045': 1, '20033053': 1, '20033066': 1, '20033067': 1, '20033500': 1, '20035431': 1, '20037784': 0, '20042631': 1, '20043943': 1, '20051600': 1, '20051601': 1, '20051613': 1, '20051627': 1, '20051634': 1, '20066227': 1, '20066251': 1, '20066492': 1, '20066522': 1, '20066524': 1, '20066532': 1, '20066541': 1, '20066581': 1, '20066595': 1, '20066646': 1, '20066647': 1, '20067213': 1, '20067226': 1, '20067234': 1, '20067387': 1, '20067394': 1, '20068434': 1, '20072862': 1, '20080776': 1, '20080778': 1, '20080783': 1, '20080796': 1, '20080800': 1, '20080828': 1, '20080830': 1, '20080840': 1, '20080844': 1, '20080849': 1, '20080854': 0, '20092466': 0, '20099016': 1, '20099020': 1, '20099022': 1, '20099027': 0, '20099029': 1, '20099030': 1, '20099031': 1, '20099041': 1, '20099043': 1, '20099045': 1, '20099046': 1, '20099054': 1, '10727282': 1, '10727296': 1, '10735808': 1, '10751221': 1, '10751231': 1, '10769913': 1, '10916567': 1, '10988877': 1, '10988920': 1, '10988953': 1, '10988964': 1, '10989054': 1, '10989148': 1, '10989162': 1, '10989241': 1, '10989278': 1, '10989286': 1, '10989307': 1, '10989315': 1, '10989594': 1, '10990062': 1, '10991540': 1, '10991720': 1, '10991756': 1, '10991778': 1, '10992001': 1, '11014314': 1, '11015111': 1, '11015354': 1, '11015355': 1, '11015357': 1, '11015358': 1, '11015359': 1, '11015360': 1, '11015361': 1, '11015362': 1, '11015363': 1, '11015364': 1, '11015365': 1, '11015366': 1, '11015368': 1, '11015369': 1, '11015672': 1, '11015683': 1, '11015685': 1, '11015687': 1, '11015695': 1, '11015700': 1, '11015703': 1, '11015708': 1, '11015710': 1, '11015713': 1, '11015715': 1, '11015724': 1, '11015727': 1, '11015753': 1, '11015758': 1, '11015760': 1, '11015765': 1, '11015766': 1, '11015768': 1, '11015772': 1, '11015773': 1, '11015777': 1, '11015779': 1, '11015781': 1, '11015787': 1, '11015788': 1, '11015789': 1, '11015799': 1, '11015801': 1, '11015802': 1, '11015804': 1, '11015805': 1, '11015806': 1, '11015808': 1, '11015811': 1, '11015812': 1, '11015816': 1, '11015817': 1, '11015821': 1, '11015822': 1, '11015827': 1, '11015829': 1, '11015840': 1, '11015848': 1, '11015853': 1, '11015855': 1, '11015858': 1, '11015862': 1, '11015864': 1, '11015866': 1, '11015867': 1, '11015868': 1, '11015869': 1, '11015870': 1, '11015871': 1, '11015876': 1, '11015877': 1, '11015878': 1, '11015879': 1, '11015880': 1, '11015882': 1, '11015883': 1, '11015886': 1, '11015888': 1, '11015890': 1, '11015893': 1, '11015897': 1, '11015898': 1, '11015901': 1, '11015903': 1, '11015907': 1, '11015910': 1, '11015911': 1, '11015914': 1, '11015919': 1, '11015922': 1, '11015926': 1, '11015927': 1, '11015928': 1, '11015931': 1, '11015935': 1, '11015937': 1, '11015943': 1, '11015945': 1, '11015951': 1, '11016096': 1, '11016114': 1, '11016123': 1, '11016133': 1, '11016146': 1, '11016174': 1, '11016178': 1, '11016179': 1, '11016180': 1, '11016186': 1, '11016191': 1, '11016200': 1, '11016216': 1, '11016219': 1, '11016222': 1, '11016229': 1, '11016230': 1, '11016232': 1, '11016237': 1, '11016238': 1, '11016251': 1, '11016253': 1, '11016256': 1, '11016260': 1, '11016263': 1, '11016269': 1, '11016272': 1, '11016274': 1, '11016280': 1, '11016281': 1, '11016284': 1, '11016287': 1, '11016290': 1, '11016308': 1, '11016312': 1, '11016314': 1, '11016317': 1, '11016318': 1, '11016320': 1, '11016321': 1, '11016324': 1, '11016327': 1, '11016331': 1, '11016332': 1, '11016335': 1, '11016339': 1, '11016341': 1, '11016343': 1, '11016345': 1, '11016346': 1, '11016355': 1, '11016357': 1, '11016361': 1, '11016363': 1, '11016365': 1, '11016366': 1, '11017223': 1, '11017232': 1, '11017236': 1, '11017239': 1, '11017241': 1, '11017242': 1, '11017243': 1, '11017245': 1, '11017246': 1, '11017269': 1, '11017270': 1, '11017271': 1, '11017387': 1, '11017389': 1, '11017390': 1, '11017392': 1, '11017394': 1, '11017396': 1, '11017398': 1, '11017399': 1, '11017400': 1, '11017401': 1, '11017402': 1, '11017405': 1, '11017406': 1, '11017407': 1, '11017408': 1, '11017777': 1, '11017779': 1, '11017782': 1, '11017783': 1, '11017785': 1, '11017788': 1, '11017789': 1, '11017791': 1, '11017793': 1, '11018430': 1, '11018471': 1, '11018472': 1, '11018475': 1, '11018476': 1, '11018481': 1, '11018493': 1, '11018502': 1, '11018504': 1, '11018507': 1, '11018509': 1, '11018517': 1, '11018522': 1, '11018526': 1, '11018532': 1, '11018535': 1, '11018536': 1, '11018542': 1, '11018545': 1, '11018549': 1, '11018551': 1, '11018554': 1, '11018557': 1, '11018562': 1, '11018563': 1, '11018570': 1, '11018578': 1, '11018580': 1, '11018583': 1, '11018585': 1, '11018586': 1, '11018706': 1, '11018709': 1, '11018710': 1, '11018711': 1, '11018716': 1, '11018718': 1, '11018719': 1, '11018720': 1, '11018725': 1, '11018727': 1, '11018728': 1, '11018729': 1, '11018730': 1, '11018731': 1, '11018732': 1, '11019068': 1, '11019074': 1, '11019078': 1, '11019084': 1, '11019085': 1, '11019088': 1, '11019089': 1, '11019090': 1, '11019094': 1, '11019627': 1, '11019628': 1, '11019629': 1, '11019630': 1, '11019631': 1, '11019632': 1, '11019633': 1, '11019634': 1, '11019635': 1, '11019636': 1, '11019637': 1, '11019638': 1, '11019639': 1, '11019640': 1, '11019641': 1, '11019642': 1, '11019653': 1, '11019654': 1, '11019655': 1, '11019656': 1, '11019657': 1, '11019658': 1, '11019659': 1, '11019660': 1, '11019661': 1, '11019662': 1, '11019663': 1, '11019664': 1, '11019680': 1, '11019682': 1, '11019684': 1, '11019685': 1, '11019692': 1, '11019694': 1, '11019695': 1, '11019696': 1, '11019697': 1, '11019698': 1, '11019700': 1, '11019701': 1, '11019702': 1, '11019738': 1, '11019739': 1, '11019741': 1, '11019742': 1, '11019743': 1, '11019744': 1, '11019745': 1, '11019746': 1, '11019747': 1, '11019748': 1, '11019749': 1, '11019750': 1, '11019771': 1, '11019772': 1, '11107104': 1, '11107115': 1, '11111931': 1, '20017636': 1, '20017646': 1, '20029846': 1, '20029894': 1, '20030362': 1, '20030380': 1, '20068432': 1, '20073418': 1, '11019649': 1, '11019650': 1, '11019651': 1, '11019666': 1, '11019669': 1, '11019672': 1, '11019727': 1, '11019728': 1, '11019729': 1, '11019731': 1, '11019733': 1, '11019774': 1, '11019775': 1, '11019776': 1, '11019777': 1, '11019779': 1, '11019781': 1, '11019782': 1, '11019783': 1, '11019785': 1, '11019800': 1, '11019801': 1, '11019802': 1, '11019803': 1, '11019808': 1, '11019809': 1, '11019810': 1, '11019811': 1, '11019812': 1, '11020315': 1, '11020327': 1, '11020328': 1, '11092861': 1, '11101845': 1, '20014557': 0, '20045342': 0, '20045610': 0, '20046068': 0, '20046242': 0}\n",
      ">> Re-ordered the private label data containing 936 rows\n"
     ]
    }
   ],
   "source": [
    "alliance_df=pd.read_excel(\"data/Alliance + PB Scope - AB.xlsx\")\n",
    "\n",
    "# Re-order private items to top\n",
    "reorder_private_df1 = reorder_alliance_new(df_3, alliance_df)\n",
    "print(f\">> Re-ordered the private label data containing {len(reorder_private_df1)} rows\")"
   ]
  },
  {
   "cell_type": "code",
   "execution_count": 159,
   "metadata": {},
   "outputs": [
    {
     "name": "stdout",
     "output_type": "stream",
     "text": [
      ">> Connected to database\n"
     ]
    }
   ],
   "source": [
    "conn = connect_db()\n",
    "print(\">> Connected to database\")"
   ]
  },
  {
   "cell_type": "code",
   "execution_count": 160,
   "metadata": {},
   "outputs": [
    {
     "name": "stdout",
     "output_type": "stream",
     "text": [
      ">> Fetched the private label data containing 4284 rows\n"
     ]
    }
   ],
   "source": [
    "# Get private label information\n",
    "private_l_df = fetch_private_label_data(conn, df)\n",
    "print(f\">> Fetched the private label data containing {len(private_l_df)} rows\")"
   ]
  },
  {
   "cell_type": "code",
   "execution_count": 161,
   "metadata": {},
   "outputs": [],
   "source": [
    "def reorder_private_5(df, private_df):\n",
    "    \"\"\"\n",
    "    Reorders the recommendations for each item_cde based on private_label_sw\n",
    "    and adds columns indicating whether each recommendation is private branded.\n",
    "    Parameters:\n",
    "        df: A DataFrame containing 'item_cde' and 'Recommendation 1' to 'Recommendation 15'.\n",
    "        private_label_df: A DataFrame containing 'item_cde' and 'private_label_sw'.\n",
    "    Returns:\n",
    "        reordered_df: A DataFrame with reordered recommendations and private branding info.\n",
    "    \"\"\"\n",
    "    private_label_dict = dict(zip(private_df['item_cde'], private_df['private_label_sw']))\n",
    "    \n",
    "    reordered_recommendations = []\n",
    "\n",
    "    for _, row in df.iterrows():\n",
    "        item_cde = row['item_cde']\n",
    "        recommendations = [(row[f'Recommendation {i}'], private_label_dict.get(row[f'Recommendation {i}'], 'N')) \n",
    "                           for i in range(1, 6)]\n",
    "        \n",
    "        # Sort recommendations based on private_label_sw ('Y' should come first)\n",
    "        recommendations.sort(key=lambda x: x[1] != 'Y')\n",
    "        \n",
    "        reordered_row = {'item_cde': item_cde}\n",
    "        for i, (rec, private_label) in enumerate(recommendations):\n",
    "            reordered_row[f'Recommendation {i+1}'] = rec\n",
    "            reordered_row[f'Recommendation {i+1}_private'] = private_label\n",
    "        \n",
    "        reordered_recommendations.append(reordered_row)\n",
    "    \n",
    "    reordered_df = pd.DataFrame(reordered_recommendations)\n",
    "    return reordered_df"
   ]
  },
  {
   "cell_type": "code",
   "execution_count": 162,
   "metadata": {},
   "outputs": [
    {
     "name": "stdout",
     "output_type": "stream",
     "text": [
      ">> Re-ordered the private label data containing 936 rows\n"
     ]
    }
   ],
   "source": [
    "# Re-order private items to top\n",
    "reorder_private_df2 = reorder_private_5(reorder_private_df1, private_l_df)\n",
    "print(f\">> Re-ordered the private label data containing {len(reorder_private_df2)} rows\")"
   ]
  },
  {
   "cell_type": "markdown",
   "metadata": {},
   "source": [
    "# Sanity Check for all recommended items in sustainable"
   ]
  },
  {
   "cell_type": "code",
   "execution_count": 163,
   "metadata": {},
   "outputs": [],
   "source": [
    "# Convert 'item_cde' column in items_pkg_sust_df to a set for fast lookup\n",
    "sustainable_items_pkg_set = set(df_pkg_sustainable['item_cde'])\n",
    "\n",
    "# Define a function to check if all recommended items exist in sustainable_items_set\n",
    "def all_recos_in_sust(row):\n",
    "    recommendations = [row[f'Recommendation {i}'] for i in range(1, 6) if pd.notna(row[f'Recommendation {i}'])]\n",
    "    return all(item in sustainable_items_pkg_set for item in recommendations)\n",
    "\n",
    "# Apply the check function to each row\n",
    "reorder_private_df2['check'] = reorder_private_df2.apply(all_recos_in_sust, axis=1)\n",
    "\n"
   ]
  },
  {
   "cell_type": "code",
   "execution_count": 164,
   "metadata": {},
   "outputs": [],
   "source": [
    "def remove_duplicate_and_self_references_5(reorder_with_desc):\n",
    "    \"\"\"\n",
    "    Sets duplicate recommendations and self-references to None in the DataFrame.\n",
    "    \n",
    "    Parameters:\n",
    "        reorder_with_desc: A DataFrame containing columns for item codes and their recommendations.\n",
    "    \n",
    "    Returns:\n",
    "        A DataFrame with duplicate recommendations and self-references set to None, keeping only the earliest occurrence.\n",
    "    \"\"\"\n",
    "    recommendation_cols = [\n",
    "        'Recommendation 1', 'Recommendation 2', \n",
    "        'Recommendation 3', 'Recommendation 4', 'Recommendation 5'\n",
    "    ]\n",
    "\n",
    "    def remove_duplicates_and_self_refs(row):\n",
    "        seen = set()\n",
    "        unique_recommendations = []\n",
    "        item_cde = row['item_cde']\n",
    "        \n",
    "        # Collect unique recommendations\n",
    "        for col in recommendation_cols:\n",
    "            recommendation = row[col]\n",
    "            if recommendation not in seen and recommendation != item_cde:\n",
    "                seen.add(recommendation)\n",
    "                unique_recommendations.append(recommendation)\n",
    "        \n",
    "        # Fill the row with unique recommendations and shift left if needed\n",
    "        result = []\n",
    "        for recommendation in unique_recommendations:\n",
    "            result.append(recommendation)\n",
    "        \n",
    "        # Fill remaining slots with None\n",
    "        while len(result) < len(recommendation_cols):\n",
    "            result.append(None)\n",
    "        \n",
    "        return pd.Series(result, index=recommendation_cols)\n",
    "\n",
    "    # Apply the function to each row\n",
    "    reorder_with_desc[recommendation_cols] = reorder_with_desc.apply(remove_duplicates_and_self_refs, axis=1)\n",
    "\n",
    "    return reorder_with_desc\n"
   ]
  },
  {
   "cell_type": "code",
   "execution_count": 165,
   "metadata": {},
   "outputs": [
    {
     "name": "stdout",
     "output_type": "stream",
     "text": [
      ">>Removed duplicate recommendations and self-references data containing 936 rows\n"
     ]
    }
   ],
   "source": [
    "# Remove duplicate recommendations and self-references\n",
    "reorder_df_cleaned = remove_duplicate_and_self_references_5(reorder_private_df2)\n",
    "print(f\">>Removed duplicate recommendations and self-references data containing {len(reorder_df_cleaned)} rows\")"
   ]
  },
  {
   "cell_type": "code",
   "execution_count": 166,
   "metadata": {},
   "outputs": [
    {
     "name": "stdout",
     "output_type": "stream",
     "text": [
      ">>Shift non empty recommendations data containing 936 rows\n"
     ]
    }
   ],
   "source": [
    "#Shift non empty recommendations to left\n",
    "reorder_shift_left = shift_recommendations_left(reorder_df_cleaned)\n",
    "print(f\">>Shift non empty recommendations data containing {len(reorder_shift_left)} rows\")"
   ]
  },
  {
   "cell_type": "markdown",
   "metadata": {},
   "source": [
    "# Transform for enable"
   ]
  },
  {
   "cell_type": "code",
   "execution_count": 167,
   "metadata": {},
   "outputs": [
    {
     "name": "stdout",
     "output_type": "stream",
     "text": [
      ">> Transform the recommendations, new Length 4680 rows, which is 5 times 936 (Prev length)\n"
     ]
    }
   ],
   "source": [
    "# Transform the recommendations row-wise\n",
    "transformed_df = transform_recommendations(reorder_shift_left)\n",
    "print(f\">> Transform the recommendations, new Length {len(transformed_df)} rows, which is 5 times {len(new_cat1_recommendation_df)} (Prev length)\")"
   ]
  },
  {
   "cell_type": "code",
   "execution_count": 168,
   "metadata": {},
   "outputs": [
    {
     "name": "stdout",
     "output_type": "stream",
     "text": [
      ">>Data after removing empty related items have 4600 rows\n"
     ]
    }
   ],
   "source": [
    "# Remove empty items from related items column\n",
    "nonempty_transformed_df=remove_empty_related_items(transformed_df)\n",
    "print(f\">>Data after removing empty related items have {len(nonempty_transformed_df)} rows\")"
   ]
  },
  {
   "cell_type": "code",
   "execution_count": 169,
   "metadata": {},
   "outputs": [
    {
     "data": {
      "text/html": [
       "<div>\n",
       "<style scoped>\n",
       "    .dataframe tbody tr th:only-of-type {\n",
       "        vertical-align: middle;\n",
       "    }\n",
       "\n",
       "    .dataframe tbody tr th {\n",
       "        vertical-align: top;\n",
       "    }\n",
       "\n",
       "    .dataframe thead th {\n",
       "        text-align: right;\n",
       "    }\n",
       "</style>\n",
       "<table border=\"1\" class=\"dataframe\">\n",
       "  <thead>\n",
       "    <tr style=\"text-align: right;\">\n",
       "      <th></th>\n",
       "      <th>Primary Item Number</th>\n",
       "      <th>Related Item Number</th>\n",
       "    </tr>\n",
       "  </thead>\n",
       "  <tbody>\n",
       "    <tr>\n",
       "      <th>0</th>\n",
       "      <td>10298253</td>\n",
       "      <td>10301632.0</td>\n",
       "    </tr>\n",
       "    <tr>\n",
       "      <th>1</th>\n",
       "      <td>10298253</td>\n",
       "      <td>10802527.0</td>\n",
       "    </tr>\n",
       "    <tr>\n",
       "      <th>2</th>\n",
       "      <td>10298253</td>\n",
       "      <td>10302519.0</td>\n",
       "    </tr>\n",
       "    <tr>\n",
       "      <th>3</th>\n",
       "      <td>10298253</td>\n",
       "      <td>10735816.0</td>\n",
       "    </tr>\n",
       "    <tr>\n",
       "      <th>4</th>\n",
       "      <td>10298253</td>\n",
       "      <td>10735815.0</td>\n",
       "    </tr>\n",
       "    <tr>\n",
       "      <th>...</th>\n",
       "      <td>...</td>\n",
       "      <td>...</td>\n",
       "    </tr>\n",
       "    <tr>\n",
       "      <th>4671</th>\n",
       "      <td>20046068</td>\n",
       "      <td>10298253.0</td>\n",
       "    </tr>\n",
       "    <tr>\n",
       "      <th>4672</th>\n",
       "      <td>20046068</td>\n",
       "      <td>10990077.0</td>\n",
       "    </tr>\n",
       "    <tr>\n",
       "      <th>4675</th>\n",
       "      <td>20046242</td>\n",
       "      <td>10735718.0</td>\n",
       "    </tr>\n",
       "    <tr>\n",
       "      <th>4676</th>\n",
       "      <td>20046242</td>\n",
       "      <td>10298253.0</td>\n",
       "    </tr>\n",
       "    <tr>\n",
       "      <th>4677</th>\n",
       "      <td>20046242</td>\n",
       "      <td>10990077.0</td>\n",
       "    </tr>\n",
       "  </tbody>\n",
       "</table>\n",
       "<p>4600 rows × 2 columns</p>\n",
       "</div>"
      ],
      "text/plain": [
       "     Primary Item Number Related Item Number\n",
       "0               10298253          10301632.0\n",
       "1               10298253          10802527.0\n",
       "2               10298253          10302519.0\n",
       "3               10298253          10735816.0\n",
       "4               10298253          10735815.0\n",
       "...                  ...                 ...\n",
       "4671            20046068          10298253.0\n",
       "4672            20046068          10990077.0\n",
       "4675            20046242          10735718.0\n",
       "4676            20046242          10298253.0\n",
       "4677            20046242          10990077.0\n",
       "\n",
       "[4600 rows x 2 columns]"
      ]
     },
     "execution_count": 169,
     "metadata": {},
     "output_type": "execute_result"
    }
   ],
   "source": [
    "nonempty_transformed_df"
   ]
  },
  {
   "cell_type": "code",
   "execution_count": 170,
   "metadata": {},
   "outputs": [],
   "source": [
    "#nonempty_transformed_df.to_csv('nonprint_minimum2_recommendations.csv', index=False)"
   ]
  },
  {
   "cell_type": "markdown",
   "metadata": {},
   "source": [
    "## Result needed for new items only"
   ]
  },
  {
   "cell_type": "code",
   "execution_count": 171,
   "metadata": {},
   "outputs": [],
   "source": [
    "nonempty_transformed_df.to_csv('results_mar25/print_sustainable.csv',index=False)"
   ]
  }
 ],
 "metadata": {
  "kernelspec": {
   "display_name": "Python 3",
   "language": "python",
   "name": "python3"
  },
  "language_info": {
   "codemirror_mode": {
    "name": "ipython",
    "version": 3
   },
   "file_extension": ".py",
   "mimetype": "text/x-python",
   "name": "python",
   "nbconvert_exporter": "python",
   "pygments_lexer": "ipython3",
   "version": "3.11.9"
  }
 },
 "nbformat": 4,
 "nbformat_minor": 2
}
